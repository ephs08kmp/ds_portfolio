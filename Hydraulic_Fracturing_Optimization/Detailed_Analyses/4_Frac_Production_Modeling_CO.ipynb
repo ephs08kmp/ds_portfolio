{
 "cells": [
  {
   "cell_type": "markdown",
   "metadata": {},
   "source": [
    "# Frac Production Modeling\n",
    "This is a continuation of Frac Produciton Data Cleaning and Frac Production Analysis notebooks.\n",
    "\n",
    "Here I will model with the data and optimize the models and features."
   ]
  },
  {
   "cell_type": "code",
   "execution_count": 1,
   "metadata": {},
   "outputs": [],
   "source": [
    "# Necessary Imports\n",
    "import numpy as np\n",
    "import pandas as pd\n",
    "import matplotlib.pyplot as plt\n",
    "import seaborn as sns\n",
    "%matplotlib inline\n",
    "\n",
    "# Model Imports\n",
    "from sklearn.model_selection import train_test_split, cross_val_score\n",
    "from sklearn.model_selection import GridSearchCV\n",
    "from sklearn.linear_model import LinearRegression\n",
    "from sklearn.ensemble import RandomForestRegressor, GradientBoostingRegressor\n",
    "from sklearn.ensemble.partial_dependence import partial_dependence, plot_partial_dependence"
   ]
  },
  {
   "cell_type": "markdown",
   "metadata": {},
   "source": [
    "Great, now I will write two functions to streamline training and testing the models.  The training function will fit the model and then cross validate the scores and return the scores.  The test function will cross validate and return the scores."
   ]
  },
  {
   "cell_type": "code",
   "execution_count": 2,
   "metadata": {},
   "outputs": [],
   "source": [
    "def train_model(model, X, Y, cv):\n",
    "    \"\"\"This function will fit the specified model and run cross validation on the training\n",
    "    and set.  Returns mean and variance in cross validation scores.\n",
    "    Model: specified model must be instantiated\n",
    "    X, Y: training sets to use to fit model\n",
    "    cv: number of folds in cross validation\"\"\"\n",
    "    model.fit(X, Y)\n",
    "    scores = cross_val_score(model, X, Y, cv=cv)\n",
    "    return '{:0.4f} (+/- {:0.4f})'.format(scores.mean(), scores.std()*2)\n",
    "\n",
    "def test_model(model, X, Y, cv):\n",
    "    \"\"\"This function will run cross validation on the test set.  \n",
    "    Returns mean and variance in cross validation scores.\n",
    "    Model: specified model must be instantiated\n",
    "    X, Y: test sets to use to fit model\n",
    "    cv: number of folds in cross validation\"\"\"\n",
    "    scores = cross_val_score(model, X, Y, cv=cv)\n",
    "    return '{:0.4f} (+/- {:0.4f})'.format(scores.mean(), scores.std()*2)\n"
   ]
  },
  {
   "cell_type": "code",
   "execution_count": 3,
   "metadata": {},
   "outputs": [
    {
     "data": {
      "text/html": [
       "<div>\n",
       "<style scoped>\n",
       "    .dataframe tbody tr th:only-of-type {\n",
       "        vertical-align: middle;\n",
       "    }\n",
       "\n",
       "    .dataframe tbody tr th {\n",
       "        vertical-align: top;\n",
       "    }\n",
       "\n",
       "    .dataframe thead th {\n",
       "        text-align: right;\n",
       "    }\n",
       "</style>\n",
       "<table border=\"1\" class=\"dataframe\">\n",
       "  <thead>\n",
       "    <tr style=\"text-align: right;\">\n",
       "      <th></th>\n",
       "      <th>WellName</th>\n",
       "      <th>WellNumber</th>\n",
       "      <th>OperatorAlias</th>\n",
       "      <th>Field</th>\n",
       "      <th>TargetFormation</th>\n",
       "      <th>TotalDepth</th>\n",
       "      <th>VerticalDepth</th>\n",
       "      <th>DrillType</th>\n",
       "      <th>UpperPerforation</th>\n",
       "      <th>LowerPerforation</th>\n",
       "      <th>...</th>\n",
       "      <th>FirstProdDate</th>\n",
       "      <th>Township</th>\n",
       "      <th>Range</th>\n",
       "      <th>TR</th>\n",
       "      <th>County</th>\n",
       "      <th>slick</th>\n",
       "      <th>gel</th>\n",
       "      <th>xlinkgel</th>\n",
       "      <th>hybrid</th>\n",
       "      <th>sandmass</th>\n",
       "    </tr>\n",
       "    <tr>\n",
       "      <th>APINumber</th>\n",
       "      <th></th>\n",
       "      <th></th>\n",
       "      <th></th>\n",
       "      <th></th>\n",
       "      <th></th>\n",
       "      <th></th>\n",
       "      <th></th>\n",
       "      <th></th>\n",
       "      <th></th>\n",
       "      <th></th>\n",
       "      <th></th>\n",
       "      <th></th>\n",
       "      <th></th>\n",
       "      <th></th>\n",
       "      <th></th>\n",
       "      <th></th>\n",
       "      <th></th>\n",
       "      <th></th>\n",
       "      <th></th>\n",
       "      <th></th>\n",
       "      <th></th>\n",
       "    </tr>\n",
       "  </thead>\n",
       "  <tbody>\n",
       "    <tr>\n",
       "      <th>5001097530000</th>\n",
       "      <td>WEP</td>\n",
       "      <td>4-28-11-3-64</td>\n",
       "      <td>AXIS ENERGY</td>\n",
       "      <td>DJ HORIZONTAL NIOBRARA</td>\n",
       "      <td>NIOBRARA</td>\n",
       "      <td>11431.00</td>\n",
       "      <td>7551.00</td>\n",
       "      <td>H</td>\n",
       "      <td>7519.0</td>\n",
       "      <td>11431.0</td>\n",
       "      <td>...</td>\n",
       "      <td>2017-04-01</td>\n",
       "      <td>03S</td>\n",
       "      <td>64W</td>\n",
       "      <td>03S64W</td>\n",
       "      <td>Adams</td>\n",
       "      <td>0</td>\n",
       "      <td>0</td>\n",
       "      <td>0</td>\n",
       "      <td>0.0</td>\n",
       "      <td>0.000000e+00</td>\n",
       "    </tr>\n",
       "    <tr>\n",
       "      <th>5001097540000</th>\n",
       "      <td>WEP</td>\n",
       "      <td>1-28-11-3-64</td>\n",
       "      <td>AXIS ENERGY</td>\n",
       "      <td>DJ HORIZONTAL NIOBRARA</td>\n",
       "      <td>NIOBRARA</td>\n",
       "      <td>11715.00</td>\n",
       "      <td>7594.00</td>\n",
       "      <td>H</td>\n",
       "      <td>8151.0</td>\n",
       "      <td>11715.0</td>\n",
       "      <td>...</td>\n",
       "      <td>2013-02-01</td>\n",
       "      <td>03S</td>\n",
       "      <td>64W</td>\n",
       "      <td>03S64W</td>\n",
       "      <td>Adams</td>\n",
       "      <td>0</td>\n",
       "      <td>0</td>\n",
       "      <td>0</td>\n",
       "      <td>0.0</td>\n",
       "      <td>0.000000e+00</td>\n",
       "    </tr>\n",
       "    <tr>\n",
       "      <th>5001098010000</th>\n",
       "      <td>SHARP</td>\n",
       "      <td>24-3-11HC</td>\n",
       "      <td>WARD PETR</td>\n",
       "      <td>WATTENBERG</td>\n",
       "      <td>CODELL</td>\n",
       "      <td>10161.00</td>\n",
       "      <td>7774.00</td>\n",
       "      <td>H</td>\n",
       "      <td>NaN</td>\n",
       "      <td>NaN</td>\n",
       "      <td>...</td>\n",
       "      <td>2015-01-01</td>\n",
       "      <td>01S</td>\n",
       "      <td>67W</td>\n",
       "      <td>01S67W</td>\n",
       "      <td>Adams</td>\n",
       "      <td>1</td>\n",
       "      <td>0</td>\n",
       "      <td>1</td>\n",
       "      <td>1.0</td>\n",
       "      <td>2.533881e+06</td>\n",
       "    </tr>\n",
       "    <tr>\n",
       "      <th>5001097850000</th>\n",
       "      <td>STATE OF CO</td>\n",
       "      <td>1S-66-36-1609CH</td>\n",
       "      <td>EXTRACTION O&amp;G</td>\n",
       "      <td>THIRD CREEK</td>\n",
       "      <td>NIOBRARA</td>\n",
       "      <td>12177.31</td>\n",
       "      <td>7576.73</td>\n",
       "      <td>H</td>\n",
       "      <td>NaN</td>\n",
       "      <td>NaN</td>\n",
       "      <td>...</td>\n",
       "      <td>2014-06-01</td>\n",
       "      <td>01S</td>\n",
       "      <td>66W</td>\n",
       "      <td>01S66W</td>\n",
       "      <td>Adams</td>\n",
       "      <td>1</td>\n",
       "      <td>0</td>\n",
       "      <td>1</td>\n",
       "      <td>1.0</td>\n",
       "      <td>3.274332e+06</td>\n",
       "    </tr>\n",
       "    <tr>\n",
       "      <th>5001097830000</th>\n",
       "      <td>STATE OF CO</td>\n",
       "      <td>1S-66-36-0108BH</td>\n",
       "      <td>EXTRACTION O&amp;G</td>\n",
       "      <td>THIRD CREEK</td>\n",
       "      <td>NIOBRARA</td>\n",
       "      <td>12164.98</td>\n",
       "      <td>7511.68</td>\n",
       "      <td>H</td>\n",
       "      <td>NaN</td>\n",
       "      <td>NaN</td>\n",
       "      <td>...</td>\n",
       "      <td>2014-06-01</td>\n",
       "      <td>01S</td>\n",
       "      <td>66W</td>\n",
       "      <td>01S66W</td>\n",
       "      <td>Adams</td>\n",
       "      <td>1</td>\n",
       "      <td>0</td>\n",
       "      <td>1</td>\n",
       "      <td>1.0</td>\n",
       "      <td>3.045143e+06</td>\n",
       "    </tr>\n",
       "  </tbody>\n",
       "</table>\n",
       "<p>5 rows × 27 columns</p>\n",
       "</div>"
      ],
      "text/plain": [
       "                  WellName       WellNumber   OperatorAlias  \\\n",
       "APINumber                                                     \n",
       "5001097530000          WEP     4-28-11-3-64     AXIS ENERGY   \n",
       "5001097540000          WEP     1-28-11-3-64     AXIS ENERGY   \n",
       "5001098010000        SHARP        24-3-11HC       WARD PETR   \n",
       "5001097850000  STATE OF CO  1S-66-36-1609CH  EXTRACTION O&G   \n",
       "5001097830000  STATE OF CO  1S-66-36-0108BH  EXTRACTION O&G   \n",
       "\n",
       "                                Field TargetFormation  TotalDepth  \\\n",
       "APINumber                                                           \n",
       "5001097530000  DJ HORIZONTAL NIOBRARA        NIOBRARA    11431.00   \n",
       "5001097540000  DJ HORIZONTAL NIOBRARA        NIOBRARA    11715.00   \n",
       "5001098010000              WATTENBERG          CODELL    10161.00   \n",
       "5001097850000             THIRD CREEK        NIOBRARA    12177.31   \n",
       "5001097830000             THIRD CREEK        NIOBRARA    12164.98   \n",
       "\n",
       "               VerticalDepth DrillType  UpperPerforation  LowerPerforation  \\\n",
       "APINumber                                                                    \n",
       "5001097530000        7551.00         H            7519.0           11431.0   \n",
       "5001097540000        7594.00         H            8151.0           11715.0   \n",
       "5001098010000        7774.00         H               NaN               NaN   \n",
       "5001097850000        7576.73         H               NaN               NaN   \n",
       "5001097830000        7511.68         H               NaN               NaN   \n",
       "\n",
       "                   ...       FirstProdDate  Township  Range      TR  County  \\\n",
       "APINumber          ...                                                        \n",
       "5001097530000      ...          2017-04-01       03S    64W  03S64W   Adams   \n",
       "5001097540000      ...          2013-02-01       03S    64W  03S64W   Adams   \n",
       "5001098010000      ...          2015-01-01       01S    67W  01S67W   Adams   \n",
       "5001097850000      ...          2014-06-01       01S    66W  01S66W   Adams   \n",
       "5001097830000      ...          2014-06-01       01S    66W  01S66W   Adams   \n",
       "\n",
       "               slick  gel xlinkgel hybrid      sandmass  \n",
       "APINumber                                                \n",
       "5001097530000      0    0        0    0.0  0.000000e+00  \n",
       "5001097540000      0    0        0    0.0  0.000000e+00  \n",
       "5001098010000      1    0        1    1.0  2.533881e+06  \n",
       "5001097850000      1    0        1    1.0  3.274332e+06  \n",
       "5001097830000      1    0        1    1.0  3.045143e+06  \n",
       "\n",
       "[5 rows x 27 columns]"
      ]
     },
     "execution_count": 3,
     "metadata": {},
     "output_type": "execute_result"
    }
   ],
   "source": [
    "# Reading in ALL Colorado Features (pre-feature selection)\n",
    "co_all = pd.read_csv('fracwells_co.csv', index_col=0)\n",
    "co_all.head()"
   ]
  },
  {
   "cell_type": "markdown",
   "metadata": {},
   "source": [
    "## Modeling with ALL Colorado Features"
   ]
  },
  {
   "cell_type": "code",
   "execution_count": 4,
   "metadata": {},
   "outputs": [],
   "source": [
    "# Dropping well identifiers\n",
    "co_all = co_all.drop(['OperatorAlias','WellName','WellNumber','Township','Range','Field',\n",
    "                      'FirstProdDate','CumBOE','CumGas','CumOil', 'TR'], axis=1)\n",
    "\n",
    "co_all = co_all.dropna(axis=0)\n",
    "co_all_d = pd.get_dummies(co_all)\n",
    "\n",
    "co_all_features = co_all_d.drop('First6BOE', axis=1)\n",
    "co_all_target = co_all_d['First6BOE']\n",
    "\n",
    "Xa_train, Xa_test, ya_train, ya_test = train_test_split(co_all_features, co_all_target, test_size=0.25, random_state=42)"
   ]
  },
  {
   "cell_type": "markdown",
   "metadata": {},
   "source": [
    "### Random Forest Regression"
   ]
  },
  {
   "cell_type": "code",
   "execution_count": 5,
   "metadata": {},
   "outputs": [
    {
     "name": "stdout",
     "output_type": "stream",
     "text": [
      "Training Scores: 0.5319 (+/- 0.0790)\n",
      "Test Scores: 0.5012 (+/- 0.1154)\n"
     ]
    }
   ],
   "source": [
    "# Instantiate the model\n",
    "rfra = RandomForestRegressor()\n",
    "# Fit the model and generate training scores\n",
    "rfra_train = train_model(rfra, Xa_train, ya_train, 5)\n",
    "# Generate test scores\n",
    "rfra_test = test_model(rfra, Xa_test, ya_test, 5)\n",
    "print('Training Scores: {}'.format(rfra_train))\n",
    "print('Test Scores: {}'.format(rfra_test))"
   ]
  },
  {
   "cell_type": "markdown",
   "metadata": {},
   "source": [
    "Using Recursive Feature Elimination to identify the best features for this data."
   ]
  },
  {
   "cell_type": "code",
   "execution_count": 6,
   "metadata": {},
   "outputs": [
    {
     "data": {
      "text/html": [
       "<div>\n",
       "<style scoped>\n",
       "    .dataframe tbody tr th:only-of-type {\n",
       "        vertical-align: middle;\n",
       "    }\n",
       "\n",
       "    .dataframe tbody tr th {\n",
       "        vertical-align: top;\n",
       "    }\n",
       "\n",
       "    .dataframe thead th {\n",
       "        text-align: right;\n",
       "    }\n",
       "</style>\n",
       "<table border=\"1\" class=\"dataframe\">\n",
       "  <thead>\n",
       "    <tr style=\"text-align: right;\">\n",
       "      <th></th>\n",
       "      <th>Selected</th>\n",
       "    </tr>\n",
       "  </thead>\n",
       "  <tbody>\n",
       "    <tr>\n",
       "      <th>TotalDepth</th>\n",
       "      <td>True</td>\n",
       "    </tr>\n",
       "    <tr>\n",
       "      <th>TreatmentJobCount</th>\n",
       "      <td>True</td>\n",
       "    </tr>\n",
       "    <tr>\n",
       "      <th>TargetFormation_NIOBRARA</th>\n",
       "      <td>True</td>\n",
       "    </tr>\n",
       "    <tr>\n",
       "      <th>sandmass</th>\n",
       "      <td>True</td>\n",
       "    </tr>\n",
       "    <tr>\n",
       "      <th>VerticalDepth</th>\n",
       "      <td>True</td>\n",
       "    </tr>\n",
       "    <tr>\n",
       "      <th>hybrid</th>\n",
       "      <td>True</td>\n",
       "    </tr>\n",
       "    <tr>\n",
       "      <th>HorizontalLength</th>\n",
       "      <td>True</td>\n",
       "    </tr>\n",
       "    <tr>\n",
       "      <th>GrossPerforatedInterval</th>\n",
       "      <td>True</td>\n",
       "    </tr>\n",
       "    <tr>\n",
       "      <th>LowerPerforation</th>\n",
       "      <td>True</td>\n",
       "    </tr>\n",
       "    <tr>\n",
       "      <th>UpperPerforation</th>\n",
       "      <td>True</td>\n",
       "    </tr>\n",
       "    <tr>\n",
       "      <th>slick</th>\n",
       "      <td>False</td>\n",
       "    </tr>\n",
       "    <tr>\n",
       "      <th>gel</th>\n",
       "      <td>False</td>\n",
       "    </tr>\n",
       "    <tr>\n",
       "      <th>xlinkgel</th>\n",
       "      <td>False</td>\n",
       "    </tr>\n",
       "    <tr>\n",
       "      <th>TargetFormation_CODELL</th>\n",
       "      <td>False</td>\n",
       "    </tr>\n",
       "    <tr>\n",
       "      <th>TargetFormation_OTHER</th>\n",
       "      <td>False</td>\n",
       "    </tr>\n",
       "    <tr>\n",
       "      <th>DrillType_H</th>\n",
       "      <td>False</td>\n",
       "    </tr>\n",
       "    <tr>\n",
       "      <th>County_Adams</th>\n",
       "      <td>False</td>\n",
       "    </tr>\n",
       "    <tr>\n",
       "      <th>County_Arapahoe</th>\n",
       "      <td>False</td>\n",
       "    </tr>\n",
       "    <tr>\n",
       "      <th>County_Larimer</th>\n",
       "      <td>False</td>\n",
       "    </tr>\n",
       "    <tr>\n",
       "      <th>County_Morgan</th>\n",
       "      <td>False</td>\n",
       "    </tr>\n",
       "    <tr>\n",
       "      <th>County_Weld</th>\n",
       "      <td>False</td>\n",
       "    </tr>\n",
       "  </tbody>\n",
       "</table>\n",
       "</div>"
      ],
      "text/plain": [
       "                          Selected\n",
       "TotalDepth                    True\n",
       "TreatmentJobCount             True\n",
       "TargetFormation_NIOBRARA      True\n",
       "sandmass                      True\n",
       "VerticalDepth                 True\n",
       "hybrid                        True\n",
       "HorizontalLength              True\n",
       "GrossPerforatedInterval       True\n",
       "LowerPerforation              True\n",
       "UpperPerforation              True\n",
       "slick                        False\n",
       "gel                          False\n",
       "xlinkgel                     False\n",
       "TargetFormation_CODELL       False\n",
       "TargetFormation_OTHER        False\n",
       "DrillType_H                  False\n",
       "County_Adams                 False\n",
       "County_Arapahoe              False\n",
       "County_Larimer               False\n",
       "County_Morgan                False\n",
       "County_Weld                  False"
      ]
     },
     "execution_count": 6,
     "metadata": {},
     "output_type": "execute_result"
    }
   ],
   "source": [
    "from sklearn.feature_selection import RFE\n",
    "rfr = RandomForestRegressor()\n",
    "selector = RFE(rfr)\n",
    "selector = selector.fit(co_all_features, co_all_target)\n",
    "\n",
    "sel_features = pd.DataFrame(selector.support_,\n",
    "                                   index = co_all_features.columns,\n",
    "                                    columns=['Selected']).sort_values('Selected', ascending=False)\n",
    "sel_features"
   ]
  },
  {
   "cell_type": "markdown",
   "metadata": {},
   "source": [
    "From this recursive feature elimination, I will need to eliminate the Target Formation feature and the Drill Type feature, as they are the least important in this model."
   ]
  },
  {
   "cell_type": "code",
   "execution_count": 7,
   "metadata": {},
   "outputs": [],
   "source": [
    "co_all = co_all.drop(['DrillType','County', 'TargetFormation'], axis=1)"
   ]
  },
  {
   "cell_type": "markdown",
   "metadata": {},
   "source": [
    "Now, let's get a final baseline of these features for modeling using the random forest regressor.  I need to drop features and then split again."
   ]
  },
  {
   "cell_type": "code",
   "execution_count": 8,
   "metadata": {},
   "outputs": [],
   "source": [
    "co_all = pd.get_dummies(co_all)\n",
    "\n",
    "co_sel_features = co_all.drop('First6BOE', axis=1)\n",
    "co_all_target = co_all['First6BOE']\n",
    "\n",
    "Xs_train, Xs_test, ys_train, ys_test = train_test_split(co_sel_features, co_all_target, test_size=0.25, random_state=42)"
   ]
  },
  {
   "cell_type": "markdown",
   "metadata": {},
   "source": [
    "Now, let's check how these selected features did with the random forest model."
   ]
  },
  {
   "cell_type": "code",
   "execution_count": 9,
   "metadata": {},
   "outputs": [
    {
     "name": "stdout",
     "output_type": "stream",
     "text": [
      "Training Scores: 0.5448 (+/- 0.0664)\n",
      "Test Scores: 0.4937 (+/- 0.1403)\n"
     ]
    }
   ],
   "source": [
    "# Instantiate the model\n",
    "rfrs = RandomForestRegressor()\n",
    "# Fit the model and generate training scores\n",
    "rfrs_train = train_model(rfrs, Xs_train, ys_train, 5)\n",
    "# Generate test scores\n",
    "rfrs_test = test_model(rfrs, Xs_test, ys_test, 5)\n",
    "print('Training Scores: {}'.format(rfrs_train))\n",
    "print('Test Scores: {}'.format(rfrs_test))"
   ]
  },
  {
   "cell_type": "code",
   "execution_count": 10,
   "metadata": {},
   "outputs": [
    {
     "data": {
      "text/html": [
       "<div>\n",
       "<style scoped>\n",
       "    .dataframe tbody tr th:only-of-type {\n",
       "        vertical-align: middle;\n",
       "    }\n",
       "\n",
       "    .dataframe tbody tr th {\n",
       "        vertical-align: top;\n",
       "    }\n",
       "\n",
       "    .dataframe thead th {\n",
       "        text-align: right;\n",
       "    }\n",
       "</style>\n",
       "<table border=\"1\" class=\"dataframe\">\n",
       "  <thead>\n",
       "    <tr style=\"text-align: right;\">\n",
       "      <th></th>\n",
       "      <th>importance</th>\n",
       "    </tr>\n",
       "  </thead>\n",
       "  <tbody>\n",
       "    <tr>\n",
       "      <th>TotalDepth</th>\n",
       "      <td>0.300303</td>\n",
       "    </tr>\n",
       "    <tr>\n",
       "      <th>LowerPerforation</th>\n",
       "      <td>0.141813</td>\n",
       "    </tr>\n",
       "    <tr>\n",
       "      <th>GrossPerforatedInterval</th>\n",
       "      <td>0.126691</td>\n",
       "    </tr>\n",
       "    <tr>\n",
       "      <th>VerticalDepth</th>\n",
       "      <td>0.114753</td>\n",
       "    </tr>\n",
       "    <tr>\n",
       "      <th>HorizontalLength</th>\n",
       "      <td>0.103378</td>\n",
       "    </tr>\n",
       "    <tr>\n",
       "      <th>UpperPerforation</th>\n",
       "      <td>0.094444</td>\n",
       "    </tr>\n",
       "    <tr>\n",
       "      <th>sandmass</th>\n",
       "      <td>0.087778</td>\n",
       "    </tr>\n",
       "    <tr>\n",
       "      <th>TreatmentJobCount</th>\n",
       "      <td>0.010093</td>\n",
       "    </tr>\n",
       "    <tr>\n",
       "      <th>hybrid</th>\n",
       "      <td>0.007111</td>\n",
       "    </tr>\n",
       "    <tr>\n",
       "      <th>xlinkgel</th>\n",
       "      <td>0.005993</td>\n",
       "    </tr>\n",
       "    <tr>\n",
       "      <th>gel</th>\n",
       "      <td>0.005206</td>\n",
       "    </tr>\n",
       "    <tr>\n",
       "      <th>slick</th>\n",
       "      <td>0.002436</td>\n",
       "    </tr>\n",
       "  </tbody>\n",
       "</table>\n",
       "</div>"
      ],
      "text/plain": [
       "                         importance\n",
       "TotalDepth                 0.300303\n",
       "LowerPerforation           0.141813\n",
       "GrossPerforatedInterval    0.126691\n",
       "VerticalDepth              0.114753\n",
       "HorizontalLength           0.103378\n",
       "UpperPerforation           0.094444\n",
       "sandmass                   0.087778\n",
       "TreatmentJobCount          0.010093\n",
       "hybrid                     0.007111\n",
       "xlinkgel                   0.005993\n",
       "gel                        0.005206\n",
       "slick                      0.002436"
      ]
     },
     "execution_count": 10,
     "metadata": {},
     "output_type": "execute_result"
    }
   ],
   "source": [
    "feature_importances = pd.DataFrame(rfrs.feature_importances_,\n",
    "                                   index = Xs_train.columns,\n",
    "                                    columns=['importance']).sort_values('importance', ascending=False)\n",
    "feature_importances"
   ]
  },
  {
   "cell_type": "markdown",
   "metadata": {},
   "source": [
    "Alright, this is our baseline model now.  An R-squared value of 0.49 (+/- 0.11).  Interestingly enough, the four different frac method types are the least important in terms of feature importance.  I will continue with this analysis using the engineered features.\n",
    "\n",
    "## Modeling with Selected and Engineered Features\n",
    "Now I will try with the engineered features to see how they performed."
   ]
  },
  {
   "cell_type": "code",
   "execution_count": 11,
   "metadata": {},
   "outputs": [
    {
     "data": {
      "text/html": [
       "<div>\n",
       "<style scoped>\n",
       "    .dataframe tbody tr th:only-of-type {\n",
       "        vertical-align: middle;\n",
       "    }\n",
       "\n",
       "    .dataframe tbody tr th {\n",
       "        vertical-align: top;\n",
       "    }\n",
       "\n",
       "    .dataframe thead th {\n",
       "        text-align: right;\n",
       "    }\n",
       "</style>\n",
       "<table border=\"1\" class=\"dataframe\">\n",
       "  <thead>\n",
       "    <tr style=\"text-align: right;\">\n",
       "      <th></th>\n",
       "      <th>gel</th>\n",
       "      <th>slick</th>\n",
       "      <th>xlinkgel</th>\n",
       "      <th>hybrid</th>\n",
       "      <th>VerticalDepth</th>\n",
       "      <th>HorizontalLength</th>\n",
       "      <th>GrossPerforatedInterval</th>\n",
       "      <th>nphf_sqrt</th>\n",
       "      <th>sandmass</th>\n",
       "      <th>sqrtsandmass</th>\n",
       "      <th>sandperft</th>\n",
       "      <th>location</th>\n",
       "      <th>First6BOE</th>\n",
       "      <th>hzlen_bin_&lt;1</th>\n",
       "      <th>hzlen_bin_1-2</th>\n",
       "      <th>hzlen_bin_&gt;2</th>\n",
       "    </tr>\n",
       "    <tr>\n",
       "      <th>APINumber</th>\n",
       "      <th></th>\n",
       "      <th></th>\n",
       "      <th></th>\n",
       "      <th></th>\n",
       "      <th></th>\n",
       "      <th></th>\n",
       "      <th></th>\n",
       "      <th></th>\n",
       "      <th></th>\n",
       "      <th></th>\n",
       "      <th></th>\n",
       "      <th></th>\n",
       "      <th></th>\n",
       "      <th></th>\n",
       "      <th></th>\n",
       "      <th></th>\n",
       "    </tr>\n",
       "  </thead>\n",
       "  <tbody>\n",
       "    <tr>\n",
       "      <th>5001098010000</th>\n",
       "      <td>0</td>\n",
       "      <td>1</td>\n",
       "      <td>1</td>\n",
       "      <td>1.0</td>\n",
       "      <td>7774.00</td>\n",
       "      <td>2247.84</td>\n",
       "      <td>2901.282977</td>\n",
       "      <td>73.120155</td>\n",
       "      <td>2.533881e+06</td>\n",
       "      <td>1591.816874</td>\n",
       "      <td>249.373188</td>\n",
       "      <td>2</td>\n",
       "      <td>46241.0</td>\n",
       "      <td>1</td>\n",
       "      <td>0</td>\n",
       "      <td>0</td>\n",
       "    </tr>\n",
       "    <tr>\n",
       "      <th>5001097850000</th>\n",
       "      <td>0</td>\n",
       "      <td>1</td>\n",
       "      <td>1</td>\n",
       "      <td>1.0</td>\n",
       "      <td>7576.73</td>\n",
       "      <td>4499.09</td>\n",
       "      <td>5094.584805</td>\n",
       "      <td>73.515340</td>\n",
       "      <td>3.274332e+06</td>\n",
       "      <td>1809.511658</td>\n",
       "      <td>268.887993</td>\n",
       "      <td>0</td>\n",
       "      <td>7094.0</td>\n",
       "      <td>1</td>\n",
       "      <td>0</td>\n",
       "      <td>0</td>\n",
       "    </tr>\n",
       "    <tr>\n",
       "      <th>5001097830000</th>\n",
       "      <td>0</td>\n",
       "      <td>1</td>\n",
       "      <td>1</td>\n",
       "      <td>1.0</td>\n",
       "      <td>7511.68</td>\n",
       "      <td>4556.06</td>\n",
       "      <td>5150.088372</td>\n",
       "      <td>73.525313</td>\n",
       "      <td>3.045143e+06</td>\n",
       "      <td>1745.033863</td>\n",
       "      <td>250.320443</td>\n",
       "      <td>0</td>\n",
       "      <td>8304.0</td>\n",
       "      <td>1</td>\n",
       "      <td>0</td>\n",
       "      <td>0</td>\n",
       "    </tr>\n",
       "    <tr>\n",
       "      <th>5001097820000</th>\n",
       "      <td>0</td>\n",
       "      <td>1</td>\n",
       "      <td>1</td>\n",
       "      <td>1.0</td>\n",
       "      <td>7574.72</td>\n",
       "      <td>4525.40</td>\n",
       "      <td>5120.217574</td>\n",
       "      <td>73.519946</td>\n",
       "      <td>2.784211e+06</td>\n",
       "      <td>1668.595385</td>\n",
       "      <td>228.313165</td>\n",
       "      <td>1</td>\n",
       "      <td>7118.0</td>\n",
       "      <td>1</td>\n",
       "      <td>0</td>\n",
       "      <td>0</td>\n",
       "    </tr>\n",
       "    <tr>\n",
       "      <th>5001097810000</th>\n",
       "      <td>0</td>\n",
       "      <td>1</td>\n",
       "      <td>1</td>\n",
       "      <td>1.0</td>\n",
       "      <td>7513.70</td>\n",
       "      <td>4504.51</td>\n",
       "      <td>5099.865291</td>\n",
       "      <td>73.516289</td>\n",
       "      <td>3.056162e+06</td>\n",
       "      <td>1748.188233</td>\n",
       "      <td>252.211029</td>\n",
       "      <td>0</td>\n",
       "      <td>10385.0</td>\n",
       "      <td>1</td>\n",
       "      <td>0</td>\n",
       "      <td>0</td>\n",
       "    </tr>\n",
       "  </tbody>\n",
       "</table>\n",
       "</div>"
      ],
      "text/plain": [
       "               gel  slick  xlinkgel  hybrid  VerticalDepth  HorizontalLength  \\\n",
       "APINumber                                                                      \n",
       "5001098010000    0      1         1     1.0        7774.00           2247.84   \n",
       "5001097850000    0      1         1     1.0        7576.73           4499.09   \n",
       "5001097830000    0      1         1     1.0        7511.68           4556.06   \n",
       "5001097820000    0      1         1     1.0        7574.72           4525.40   \n",
       "5001097810000    0      1         1     1.0        7513.70           4504.51   \n",
       "\n",
       "               GrossPerforatedInterval  nphf_sqrt      sandmass  sqrtsandmass  \\\n",
       "APINumber                                                                       \n",
       "5001098010000              2901.282977  73.120155  2.533881e+06   1591.816874   \n",
       "5001097850000              5094.584805  73.515340  3.274332e+06   1809.511658   \n",
       "5001097830000              5150.088372  73.525313  3.045143e+06   1745.033863   \n",
       "5001097820000              5120.217574  73.519946  2.784211e+06   1668.595385   \n",
       "5001097810000              5099.865291  73.516289  3.056162e+06   1748.188233   \n",
       "\n",
       "                sandperft  location  First6BOE  hzlen_bin_<1  hzlen_bin_1-2  \\\n",
       "APINumber                                                                     \n",
       "5001098010000  249.373188         2    46241.0             1              0   \n",
       "5001097850000  268.887993         0     7094.0             1              0   \n",
       "5001097830000  250.320443         0     8304.0             1              0   \n",
       "5001097820000  228.313165         1     7118.0             1              0   \n",
       "5001097810000  252.211029         0    10385.0             1              0   \n",
       "\n",
       "               hzlen_bin_>2  \n",
       "APINumber                    \n",
       "5001098010000             0  \n",
       "5001097850000             0  \n",
       "5001097830000             0  \n",
       "5001097820000             0  \n",
       "5001097810000             0  "
      ]
     },
     "execution_count": 11,
     "metadata": {},
     "output_type": "execute_result"
    }
   ],
   "source": [
    "# Reading in Colorado Features\n",
    "cofeatures = pd.read_csv('cofeatures.csv', index_col=0)\n",
    "cofeatures.head()"
   ]
  },
  {
   "cell_type": "markdown",
   "metadata": {},
   "source": [
    "Knowing that this data is clean, I will first identify my variables, with the first 6 month's production as the target and the remainder as features in the model.  I will then split both variables into training and test sets."
   ]
  },
  {
   "cell_type": "code",
   "execution_count": 12,
   "metadata": {},
   "outputs": [],
   "source": [
    "# Identifying all engineered features\n",
    "cofeats = cofeatures.drop(['First6BOE', 'sandmass','GrossPerforatedInterval'], axis=1)\n",
    "\n",
    "target = cofeatures.First6BOE\n",
    "\n",
    "X_train, X_test, y_train, y_test = train_test_split(cofeats, target, test_size=0.25, random_state=42)"
   ]
  },
  {
   "cell_type": "markdown",
   "metadata": {},
   "source": [
    "### Multivariate Linear Regression\n",
    "I will start with multivariate linear regression to see how well the model can predict production."
   ]
  },
  {
   "cell_type": "code",
   "execution_count": 13,
   "metadata": {},
   "outputs": [
    {
     "name": "stdout",
     "output_type": "stream",
     "text": [
      "Training Scores: 0.3438 (+/- 0.0325)\n",
      "Test Scores: 0.3236 (+/- 0.0785)\n"
     ]
    },
    {
     "name": "stderr",
     "output_type": "stream",
     "text": [
      "/Library/Frameworks/Python.framework/Versions/3.6/lib/python3.6/site-packages/scipy/linalg/basic.py:1226: RuntimeWarning: internal gelsd driver lwork query error, required iwork dimension not returned. This is likely the result of LAPACK bug 0038, fixed in LAPACK 3.2.2 (released July 21, 2010). Falling back to 'gelss' driver.\n",
      "  warnings.warn(mesg, RuntimeWarning)\n"
     ]
    }
   ],
   "source": [
    "# Instantiate the model\n",
    "regr = LinearRegression()\n",
    "# Fit the model and generate training scores\n",
    "regr_train = train_model(regr, X_train, y_train, 5)\n",
    "# Generate test scores\n",
    "regr_test = test_model(regr, X_test, y_test, 5)\n",
    "print('Training Scores: {}'.format(regr_train))\n",
    "print('Test Scores: {}'.format(regr_test))"
   ]
  },
  {
   "cell_type": "markdown",
   "metadata": {},
   "source": [
    "Well, that's not great.  The multivariate linear regression model only explains 32% of the variance of the model.  "
   ]
  },
  {
   "cell_type": "markdown",
   "metadata": {},
   "source": [
    "Let's try some other models to see how they do.\n",
    "\n",
    "### Random Forest Regression\n",
    "The next model I will use to predict production is random forest regression. "
   ]
  },
  {
   "cell_type": "code",
   "execution_count": 14,
   "metadata": {},
   "outputs": [
    {
     "name": "stdout",
     "output_type": "stream",
     "text": [
      "Training Scores: 0.6150 (+/- 0.0716)\n",
      "Test Scores: 0.4552 (+/- 0.1757)\n"
     ]
    }
   ],
   "source": [
    "# Instantiate the model\n",
    "rfr = RandomForestRegressor(random_state=42)\n",
    "# Fit the model and generate training scores\n",
    "rfr_train = train_model(rfr, X_train, y_train, 5)\n",
    "# Generate test scores\n",
    "rfr_test = test_model(rfr, X_test, y_test, 5)\n",
    "print('Training Scores: {}'.format(rfr_train))\n",
    "print('Test Scores: {}'.format(rfr_test))"
   ]
  },
  {
   "cell_type": "code",
   "execution_count": 15,
   "metadata": {},
   "outputs": [
    {
     "data": {
      "text/html": [
       "<div>\n",
       "<style scoped>\n",
       "    .dataframe tbody tr th:only-of-type {\n",
       "        vertical-align: middle;\n",
       "    }\n",
       "\n",
       "    .dataframe tbody tr th {\n",
       "        vertical-align: top;\n",
       "    }\n",
       "\n",
       "    .dataframe thead th {\n",
       "        text-align: right;\n",
       "    }\n",
       "</style>\n",
       "<table border=\"1\" class=\"dataframe\">\n",
       "  <thead>\n",
       "    <tr style=\"text-align: right;\">\n",
       "      <th></th>\n",
       "      <th>importance</th>\n",
       "    </tr>\n",
       "  </thead>\n",
       "  <tbody>\n",
       "    <tr>\n",
       "      <th>HorizontalLength</th>\n",
       "      <td>0.403182</td>\n",
       "    </tr>\n",
       "    <tr>\n",
       "      <th>VerticalDepth</th>\n",
       "      <td>0.228711</td>\n",
       "    </tr>\n",
       "    <tr>\n",
       "      <th>nphf_sqrt</th>\n",
       "      <td>0.099679</td>\n",
       "    </tr>\n",
       "    <tr>\n",
       "      <th>sandperft</th>\n",
       "      <td>0.079314</td>\n",
       "    </tr>\n",
       "    <tr>\n",
       "      <th>sqrtsandmass</th>\n",
       "      <td>0.066043</td>\n",
       "    </tr>\n",
       "    <tr>\n",
       "      <th>location</th>\n",
       "      <td>0.059864</td>\n",
       "    </tr>\n",
       "    <tr>\n",
       "      <th>hybrid</th>\n",
       "      <td>0.037173</td>\n",
       "    </tr>\n",
       "    <tr>\n",
       "      <th>xlinkgel</th>\n",
       "      <td>0.020894</td>\n",
       "    </tr>\n",
       "    <tr>\n",
       "      <th>gel</th>\n",
       "      <td>0.003241</td>\n",
       "    </tr>\n",
       "    <tr>\n",
       "      <th>hzlen_bin_1-2</th>\n",
       "      <td>0.000656</td>\n",
       "    </tr>\n",
       "    <tr>\n",
       "      <th>hzlen_bin_&gt;2</th>\n",
       "      <td>0.000567</td>\n",
       "    </tr>\n",
       "    <tr>\n",
       "      <th>slick</th>\n",
       "      <td>0.000345</td>\n",
       "    </tr>\n",
       "    <tr>\n",
       "      <th>hzlen_bin_&lt;1</th>\n",
       "      <td>0.000332</td>\n",
       "    </tr>\n",
       "  </tbody>\n",
       "</table>\n",
       "</div>"
      ],
      "text/plain": [
       "                  importance\n",
       "HorizontalLength    0.403182\n",
       "VerticalDepth       0.228711\n",
       "nphf_sqrt           0.099679\n",
       "sandperft           0.079314\n",
       "sqrtsandmass        0.066043\n",
       "location            0.059864\n",
       "hybrid              0.037173\n",
       "xlinkgel            0.020894\n",
       "gel                 0.003241\n",
       "hzlen_bin_1-2       0.000656\n",
       "hzlen_bin_>2        0.000567\n",
       "slick               0.000345\n",
       "hzlen_bin_<1        0.000332"
      ]
     },
     "execution_count": 15,
     "metadata": {},
     "output_type": "execute_result"
    }
   ],
   "source": [
    "feature_importances2 = pd.DataFrame(rfr.feature_importances_,\n",
    "                                   index = X_train.columns,\n",
    "                                    columns=['importance']).sort_values('importance', ascending=False)\n",
    "feature_importances2"
   ]
  },
  {
   "cell_type": "markdown",
   "metadata": {},
   "source": [
    "That's better, except the variance in the scores increased from the linear regression models and our baseline without engineered features, which is indicative of some overfitting.  \n",
    "\n",
    "#### Selecting Horizontal Length Feature\n",
    "Since I kept in both the Horizontal length and the binned horizontal lengths, it looks like the raw values were more important than the binned version.  I will try to model with them individually to see which to keep."
   ]
  },
  {
   "cell_type": "code",
   "execution_count": 16,
   "metadata": {},
   "outputs": [
    {
     "name": "stdout",
     "output_type": "stream",
     "text": [
      "With Horizontal Length\n",
      "Training Scores: 0.6106 (+/- 0.0759)\n",
      "Test Scores: 0.4594 (+/- 0.1696)\n",
      "\n",
      "With Binned Horizontal Length\n",
      "Training Scores: 0.6049 (+/- 0.0769)\n",
      "Test Scores: 0.4633 (+/- 0.1306)\n"
     ]
    }
   ],
   "source": [
    "# Instantiate the model\n",
    "print('With Horizontal Length')\n",
    "rfr = RandomForestRegressor(random_state=42)\n",
    "# Fit the model and generate training scores\n",
    "rfr_train = train_model(rfr, X_train.drop(['hzlen_bin_<1','hzlen_bin_1-2', 'hzlen_bin_>2'], axis=1), y_train, 5)\n",
    "# Generate test scores\n",
    "rfr_test = test_model(rfr, X_test.drop(['hzlen_bin_<1','hzlen_bin_1-2', 'hzlen_bin_>2'], axis=1), y_test, 5)\n",
    "print('Training Scores: {}'.format(rfr_train))\n",
    "print('Test Scores: {}'.format(rfr_test))\n",
    "print()\n",
    "\n",
    "# Instantiate the model\n",
    "print('With Binned Horizontal Length')\n",
    "rfr = RandomForestRegressor(random_state=42)\n",
    "# Fit the model and generate training scores\n",
    "rfr_train = train_model(rfr, X_train.drop('HorizontalLength', axis=1), y_train, 5)\n",
    "# Generate test scores\n",
    "rfr_test = test_model(rfr, X_test.drop('HorizontalLength', axis=1), y_test, 5)\n",
    "print('Training Scores: {}'.format(rfr_train))\n",
    "print('Test Scores: {}'.format(rfr_test))"
   ]
  },
  {
   "cell_type": "markdown",
   "metadata": {},
   "source": [
    "Both the R-squared and the variance decreased with the binned horizontal lenghts.  I will drop horizontal length.\n",
    "\n",
    "#### Selecting Sand Mass Feature\n",
    "Also based on the feature importances both square root of sand mass and the sand per foot seem to be of great importance to this model.  Let's see how the models differ with each individually to see which to keep."
   ]
  },
  {
   "cell_type": "code",
   "execution_count": 17,
   "metadata": {},
   "outputs": [
    {
     "name": "stdout",
     "output_type": "stream",
     "text": [
      "With Square Root Sand Mass\n",
      "Training Scores: 0.6005 (+/- 0.0757)\n",
      "Test Scores: 0.4403 (+/- 0.1762)\n",
      "\n",
      "With Sand Mass per Foot\n",
      "Training Scores: 0.6047 (+/- 0.0897)\n",
      "Test Scores: 0.4664 (+/- 0.1146)\n"
     ]
    }
   ],
   "source": [
    "# Instantiate the model\n",
    "print('With Square Root Sand Mass')\n",
    "rfr = RandomForestRegressor(random_state=42)\n",
    "# Fit the model and generate training scores\n",
    "rfr_train = train_model(rfr, X_train.drop(['sandperft', 'HorizontalLength'], axis=1), y_train, 5)\n",
    "# Generate test scores\n",
    "rfr_test = test_model(rfr, X_test.drop('sandperft', axis=1), y_test, 5)\n",
    "print('Training Scores: {}'.format(rfr_train))\n",
    "print('Test Scores: {}'.format(rfr_test))\n",
    "print()\n",
    "\n",
    "# Instantiate the model\n",
    "print('With Sand Mass per Foot')\n",
    "rfr = RandomForestRegressor(random_state=42)\n",
    "# Fit the model and generate training scores\n",
    "rfr_train = train_model(rfr, X_train.drop(['sqrtsandmass', 'HorizontalLength'], axis=1), y_train, 5)\n",
    "# Generate test scores\n",
    "rfr_test = test_model(rfr, X_test.drop(['sqrtsandmass', 'HorizontalLength'], axis=1), y_test, 5)\n",
    "print('Training Scores: {}'.format(rfr_train))\n",
    "print('Test Scores: {}'.format(rfr_test))"
   ]
  },
  {
   "cell_type": "markdown",
   "metadata": {},
   "source": [
    "It looks like  the square root of sand mass has a lower R-squared score and a higher variance, For this reason I will keep the sand mass per foot.  This will also relieve some of the dependence between sand mass and length or depth."
   ]
  },
  {
   "cell_type": "code",
   "execution_count": 18,
   "metadata": {},
   "outputs": [],
   "source": [
    "# Dropping the least important features, Target Formation, County, \n",
    "# binned non-perforated ft, and square root sand mass\n",
    "cofeats2 = cofeats.drop(['HorizontalLength', 'sqrtsandmass'], axis=1)\n",
    "\n",
    "# Re-splitting into train and test sets\n",
    "X_train, X_test, y_train, y_test = train_test_split(cofeats2, target, test_size=0.25, random_state=42)"
   ]
  },
  {
   "cell_type": "markdown",
   "metadata": {},
   "source": [
    "Great, now that the features have been pared down, I will use a GridSearchCV to optimize the parameters of the model.  I will optimize the number of estimators, the max features used, the minimum samples split, and the max depth of the tree all for the engineered features."
   ]
  },
  {
   "cell_type": "code",
   "execution_count": 19,
   "metadata": {},
   "outputs": [
    {
     "name": "stdout",
     "output_type": "stream",
     "text": [
      "0.6148659042599084\n",
      "{'max_depth': 10, 'max_features': 'sqrt', 'min_samples_split': 2, 'n_estimators': 400}\n"
     ]
    }
   ],
   "source": [
    "# Identifying potential parameters\n",
    "param_grid = { \n",
    "            \"n_estimators\"      : [200, 400, 600],\n",
    "            \"max_features\"      : [\"sqrt\"],\n",
    "            \"min_samples_split\" : [2,4,6,8],\n",
    "            \"max_depth\": [4,6,8,10]\n",
    "            }\n",
    "# Instantiating grid search\n",
    "grid = GridSearchCV(estimator=rfr, param_grid=param_grid, cv=5)\n",
    "# Fitting model\n",
    "grid.fit(X_train, y_train)\n",
    "# Identifying best score and best parameters from the Grid Search\n",
    "print(grid.best_score_)\n",
    "best_params = grid.best_params_\n",
    "print(best_params)"
   ]
  },
  {
   "cell_type": "markdown",
   "metadata": {},
   "source": [
    "Now that GridSearchCV has identified the optimal parameters from the set, I will use those parameters to fit a model and see what the training and test set scores look like."
   ]
  },
  {
   "cell_type": "code",
   "execution_count": 20,
   "metadata": {},
   "outputs": [
    {
     "name": "stdout",
     "output_type": "stream",
     "text": [
      "Training Scores: 0.6136 (+/- 0.0567)\n",
      "Test Scores: 0.5353 (+/- 0.1267)\n"
     ]
    }
   ],
   "source": [
    "# Instantiate the model\n",
    "rfr_grid = RandomForestRegressor(**best_params)\n",
    "# Fit the model and generate training scores\n",
    "rfr_grid_train = train_model(rfr_grid, X_train, y_train, 5)\n",
    "# Generate test scores\n",
    "rfr_grid_test = test_model(rfr_grid, X_test, y_test, 5)\n",
    "print('Training Scores: {}'.format(rfr_grid_train))\n",
    "print('Test Scores: {}'.format(rfr_grid_test))"
   ]
  },
  {
   "cell_type": "markdown",
   "metadata": {},
   "source": [
    "Even better! The test score mean increased, but there is still a sizable variance in the scores between the folds. \n",
    "\n",
    "Let's check out the different feature importances to see what features are influencing the model most."
   ]
  },
  {
   "cell_type": "code",
   "execution_count": 21,
   "metadata": {
    "scrolled": true
   },
   "outputs": [
    {
     "data": {
      "text/html": [
       "<div>\n",
       "<style scoped>\n",
       "    .dataframe tbody tr th:only-of-type {\n",
       "        vertical-align: middle;\n",
       "    }\n",
       "\n",
       "    .dataframe tbody tr th {\n",
       "        vertical-align: top;\n",
       "    }\n",
       "\n",
       "    .dataframe thead th {\n",
       "        text-align: right;\n",
       "    }\n",
       "</style>\n",
       "<table border=\"1\" class=\"dataframe\">\n",
       "  <thead>\n",
       "    <tr style=\"text-align: right;\">\n",
       "      <th></th>\n",
       "      <th>importance</th>\n",
       "    </tr>\n",
       "  </thead>\n",
       "  <tbody>\n",
       "    <tr>\n",
       "      <th>VerticalDepth</th>\n",
       "      <td>0.206141</td>\n",
       "    </tr>\n",
       "    <tr>\n",
       "      <th>hzlen_bin_&gt;2</th>\n",
       "      <td>0.187148</td>\n",
       "    </tr>\n",
       "    <tr>\n",
       "      <th>sandperft</th>\n",
       "      <td>0.170579</td>\n",
       "    </tr>\n",
       "    <tr>\n",
       "      <th>hzlen_bin_&lt;1</th>\n",
       "      <td>0.119467</td>\n",
       "    </tr>\n",
       "    <tr>\n",
       "      <th>nphf_sqrt</th>\n",
       "      <td>0.114127</td>\n",
       "    </tr>\n",
       "    <tr>\n",
       "      <th>location</th>\n",
       "      <td>0.106620</td>\n",
       "    </tr>\n",
       "    <tr>\n",
       "      <th>hybrid</th>\n",
       "      <td>0.035602</td>\n",
       "    </tr>\n",
       "    <tr>\n",
       "      <th>hzlen_bin_1-2</th>\n",
       "      <td>0.026913</td>\n",
       "    </tr>\n",
       "    <tr>\n",
       "      <th>xlinkgel</th>\n",
       "      <td>0.026291</td>\n",
       "    </tr>\n",
       "    <tr>\n",
       "      <th>gel</th>\n",
       "      <td>0.004980</td>\n",
       "    </tr>\n",
       "    <tr>\n",
       "      <th>slick</th>\n",
       "      <td>0.002132</td>\n",
       "    </tr>\n",
       "  </tbody>\n",
       "</table>\n",
       "</div>"
      ],
      "text/plain": [
       "               importance\n",
       "VerticalDepth    0.206141\n",
       "hzlen_bin_>2     0.187148\n",
       "sandperft        0.170579\n",
       "hzlen_bin_<1     0.119467\n",
       "nphf_sqrt        0.114127\n",
       "location         0.106620\n",
       "hybrid           0.035602\n",
       "hzlen_bin_1-2    0.026913\n",
       "xlinkgel         0.026291\n",
       "gel              0.004980\n",
       "slick            0.002132"
      ]
     },
     "metadata": {},
     "output_type": "display_data"
    },
    {
     "data": {
      "image/png": "[encoded data removed]",
      "text/plain": [
       "<matplotlib.figure.Figure at 0x11415a5c0>"
      ]
     },
     "metadata": {},
     "output_type": "display_data"
    }
   ],
   "source": [
    "feature_importances3 = pd.DataFrame(rfr_grid.feature_importances_,\n",
    "                                   index = X_train.columns,\n",
    "                                    columns=['importance']).sort_values('importance', ascending=False)\n",
    "display(feature_importances3)\n",
    "\n",
    "# Plot Residuals vs Predicted values\n",
    "y_pred = rfr_grid.predict(X_test)\n",
    "residuals = y_test - y_pred\n",
    "sns.regplot(x=y_pred, y=residuals)\n",
    "plt.show()"
   ]
  },
  {
   "cell_type": "markdown",
   "metadata": {},
   "source": [
    "There was about a 50K spread amongst the majority of the predicted values, however there were three extreme outliers with residuals of greater than 100K."
   ]
  },
  {
   "cell_type": "markdown",
   "metadata": {},
   "source": [
    "## Gradient Boosting Regressor"
   ]
  },
  {
   "cell_type": "code",
   "execution_count": 22,
   "metadata": {},
   "outputs": [
    {
     "name": "stdout",
     "output_type": "stream",
     "text": [
      "Training Scores: 0.5444 (+/- 0.0659)\n",
      "Test Scores: 0.5105 (+/- 0.1212)\n"
     ]
    }
   ],
   "source": [
    "gbr = GradientBoostingRegressor(random_state=42)\n",
    "# Fit the model and generate training scores\n",
    "gbr_train = train_model(gbr, X_train, y_train, 5)\n",
    "# Generate test scores\n",
    "gbr_test = test_model(gbr, X_test, y_test, 5)\n",
    "print('Training Scores: {}'.format(gbr_train))\n",
    "print('Test Scores: {}'.format(gbr_test))"
   ]
  },
  {
   "cell_type": "markdown",
   "metadata": {},
   "source": [
    "Well, this is an improvement over the random forest baseline.  Let's optimize the parameters for this model and see if the R-squared score will increase."
   ]
  },
  {
   "cell_type": "code",
   "execution_count": 23,
   "metadata": {},
   "outputs": [
    {
     "name": "stdout",
     "output_type": "stream",
     "text": [
      "0.6364373438550537\n",
      "{'learning_rate': 0.1, 'max_depth': 8, 'max_features': 'sqrt', 'min_samples_leaf': 5, 'min_samples_split': 24, 'n_estimators': 200, 'subsample': 0.8}\n"
     ]
    }
   ],
   "source": [
    "param_grid = {\n",
    "               'learning_rate':[0.1,0.2],\n",
    "                'n_estimators':[100,200,300],\n",
    "               'min_samples_split':[12,16,24],\n",
    "               'min_samples_leaf':[2,5,10],\n",
    "               'max_depth':[4,6,8],\n",
    "               'max_features':['sqrt'],\n",
    "               'subsample':[0.8]\n",
    "}\n",
    "\n",
    "# Instantiating and fitting grid search\n",
    "grid = GridSearchCV(estimator=gbr, param_grid=param_grid, cv=5)\n",
    "grid.fit(X_train, y_train)\n",
    "\n",
    "# Identifying best score and best parameters from the Grid Search\n",
    "print(grid.best_score_)\n",
    "best_params = grid.best_params_\n",
    "print(best_params)"
   ]
  },
  {
   "cell_type": "markdown",
   "metadata": {},
   "source": [
    "Now that GridSearchCV has identified the optimal parameters from the set, I will use those parameters to fit a model and see what the training and test set scores look like."
   ]
  },
  {
   "cell_type": "code",
   "execution_count": 24,
   "metadata": {},
   "outputs": [
    {
     "name": "stdout",
     "output_type": "stream",
     "text": [
      "Training Scores: 0.6365 (+/- 0.0634)\n",
      "Test Scores: 0.5040 (+/- 0.0959)\n"
     ]
    }
   ],
   "source": [
    "# Instantiate the model\n",
    "gbr_grid = GradientBoostingRegressor(**best_params, random_state=42)\n",
    "# Fit the model and generate training scores\n",
    "gbr_grid_train = train_model(gbr_grid, X_train, y_train, 5)\n",
    "# Generate test scores\n",
    "gbr_grid_test = test_model(gbr_grid, X_test, y_test, 5)\n",
    "print('Training Scores: {}'.format(gbr_grid_train))\n",
    "print('Test Scores: {}'.format(gbr_grid_test))"
   ]
  },
  {
   "cell_type": "markdown",
   "metadata": {},
   "source": [
    "Even better! The test score mean increased, but there is still a sizable variance in the scores between the folds. \n",
    "\n",
    "Let's check out the different feature importances to see what features are influencing the model most."
   ]
  },
  {
   "cell_type": "code",
   "execution_count": 25,
   "metadata": {
    "scrolled": true
   },
   "outputs": [
    {
     "data": {
      "text/html": [
       "<div>\n",
       "<style scoped>\n",
       "    .dataframe tbody tr th:only-of-type {\n",
       "        vertical-align: middle;\n",
       "    }\n",
       "\n",
       "    .dataframe tbody tr th {\n",
       "        vertical-align: top;\n",
       "    }\n",
       "\n",
       "    .dataframe thead th {\n",
       "        text-align: right;\n",
       "    }\n",
       "</style>\n",
       "<table border=\"1\" class=\"dataframe\">\n",
       "  <thead>\n",
       "    <tr style=\"text-align: right;\">\n",
       "      <th></th>\n",
       "      <th>importance</th>\n",
       "    </tr>\n",
       "  </thead>\n",
       "  <tbody>\n",
       "    <tr>\n",
       "      <th>sandperft</th>\n",
       "      <td>0.286995</td>\n",
       "    </tr>\n",
       "    <tr>\n",
       "      <th>VerticalDepth</th>\n",
       "      <td>0.282592</td>\n",
       "    </tr>\n",
       "    <tr>\n",
       "      <th>nphf_sqrt</th>\n",
       "      <td>0.266550</td>\n",
       "    </tr>\n",
       "    <tr>\n",
       "      <th>location</th>\n",
       "      <td>0.074313</td>\n",
       "    </tr>\n",
       "    <tr>\n",
       "      <th>hzlen_bin_&gt;2</th>\n",
       "      <td>0.030153</td>\n",
       "    </tr>\n",
       "    <tr>\n",
       "      <th>hzlen_bin_&lt;1</th>\n",
       "      <td>0.021964</td>\n",
       "    </tr>\n",
       "    <tr>\n",
       "      <th>hybrid</th>\n",
       "      <td>0.012195</td>\n",
       "    </tr>\n",
       "    <tr>\n",
       "      <th>hzlen_bin_1-2</th>\n",
       "      <td>0.010810</td>\n",
       "    </tr>\n",
       "    <tr>\n",
       "      <th>xlinkgel</th>\n",
       "      <td>0.010599</td>\n",
       "    </tr>\n",
       "    <tr>\n",
       "      <th>gel</th>\n",
       "      <td>0.002937</td>\n",
       "    </tr>\n",
       "    <tr>\n",
       "      <th>slick</th>\n",
       "      <td>0.000893</td>\n",
       "    </tr>\n",
       "  </tbody>\n",
       "</table>\n",
       "</div>"
      ],
      "text/plain": [
       "               importance\n",
       "sandperft        0.286995\n",
       "VerticalDepth    0.282592\n",
       "nphf_sqrt        0.266550\n",
       "location         0.074313\n",
       "hzlen_bin_>2     0.030153\n",
       "hzlen_bin_<1     0.021964\n",
       "hybrid           0.012195\n",
       "hzlen_bin_1-2    0.010810\n",
       "xlinkgel         0.010599\n",
       "gel              0.002937\n",
       "slick            0.000893"
      ]
     },
     "metadata": {},
     "output_type": "display_data"
    },
    {
     "data": {
      "image/png": "[encoded data removed]",
      "text/plain": [
       "<matplotlib.figure.Figure at 0x1147a8978>"
      ]
     },
     "metadata": {},
     "output_type": "display_data"
    }
   ],
   "source": [
    "feature_importances4 = pd.DataFrame(gbr_grid.feature_importances_,\n",
    "                                   index = X_train.columns,\n",
    "                                    columns=['importance']).sort_values('importance', ascending=False)\n",
    "display(feature_importances4)\n",
    "\n",
    "# Plot Residuals vs Predicted values\n",
    "y_pred = gbr_grid.predict(X_test)\n",
    "residuals = y_test - y_pred\n",
    "sns.regplot(x=y_pred, y=residuals)\n",
    "plt.show()"
   ]
  },
  {
   "cell_type": "markdown",
   "metadata": {},
   "source": [
    "## Random Forest Quantile Regressor\n",
    "Because my features and especially my target are non-normally distributed even after tranformations, I will try a random forest quantile regressor.  In a quantile decision tree, the trees predict the percentile and quantile for the data point.  This means that each sample is searched for a leaf that it falls into and a weight is given to that data point based on the fraction of samples in that same leaf, and the weights are summed and averaged.  The output is then the percentile of the data set."
   ]
  },
  {
   "cell_type": "code",
   "execution_count": 26,
   "metadata": {},
   "outputs": [
    {
     "name": "stdout",
     "output_type": "stream",
     "text": [
      "Training Scores: 0.6047 (+/- 0.0897)\n",
      "Test Scores: 0.4664 (+/- 0.1146)\n"
     ]
    }
   ],
   "source": [
    "from skgarden import RandomForestQuantileRegressor\n",
    "rfqr = RandomForestQuantileRegressor(random_state=42)\n",
    "rfqr_train = train_model(rfqr, X_train, y_train, 5)\n",
    "rfqr_test = test_model(rfqr, X_test, y_test, 5)\n",
    "print('Training Scores: {}'.format(rfqr_train))\n",
    "print('Test Scores: {}'.format(rfqr_test))"
   ]
  },
  {
   "cell_type": "markdown",
   "metadata": {},
   "source": [
    "\n",
    "\n",
    "I will use a GridSearchCV to optimize the parameters of the model.  I will optimize the number of estimators, the max features used, the minimum samples split, and the max depth of the tree all for the engineered features."
   ]
  },
  {
   "cell_type": "code",
   "execution_count": 27,
   "metadata": {},
   "outputs": [
    {
     "name": "stdout",
     "output_type": "stream",
     "text": [
      "0.6148659042599084\n",
      "{'max_depth': 10, 'max_features': 'sqrt', 'min_samples_split': 2, 'n_estimators': 400}\n"
     ]
    }
   ],
   "source": [
    "# Identifying potential parameters\n",
    "param_grid = { \n",
    "            \"n_estimators\"      : [200, 400, 600],\n",
    "            \"max_features\"      : [\"sqrt\"],\n",
    "            \"min_samples_split\" : [2,4,6,8],\n",
    "            \"max_depth\": [4,6,8,10]\n",
    "            }\n",
    "# Instantiating grid search\n",
    "grid = GridSearchCV(estimator=rfqr, param_grid=param_grid, cv=5)\n",
    "# Fitting model\n",
    "grid.fit(X_train, y_train)\n",
    "# Identifying best score and best parameters from the Grid Search\n",
    "print(grid.best_score_)\n",
    "best_params = grid.best_params_\n",
    "print(best_params)"
   ]
  },
  {
   "cell_type": "markdown",
   "metadata": {},
   "source": [
    "Now that GridSearchCV has identified the optimal parameters from the set, I will use those parameters to fit a model and see what the training and test set scores look like."
   ]
  },
  {
   "cell_type": "code",
   "execution_count": 28,
   "metadata": {
    "scrolled": true
   },
   "outputs": [
    {
     "name": "stdout",
     "output_type": "stream",
     "text": [
      "Training Scores: 0.6154 (+/- 0.0600)\n",
      "Test Scores: 0.5306 (+/- 0.1336)\n"
     ]
    }
   ],
   "source": [
    "# Instantiate the model\n",
    "rfqr_grid = RandomForestRegressor(**best_params)\n",
    "# Fit the model and generate training scores\n",
    "rfqr_grid_train = train_model(rfqr_grid, X_train, y_train, 5)\n",
    "# Generate test scores\n",
    "rfqr_grid_test = test_model(rfqr_grid, X_test, y_test, 5)\n",
    "print('Training Scores: {}'.format(rfqr_grid_train))\n",
    "print('Test Scores: {}'.format(rfqr_grid_test))"
   ]
  },
  {
   "cell_type": "markdown",
   "metadata": {},
   "source": [
    "This looks better! I'm still surprised at how low the overall R-squared score is, but there is a large amount of variablility in this data, not only in the production, but also each of the individual well characteristics, including frac method. "
   ]
  },
  {
   "cell_type": "code",
   "execution_count": 29,
   "metadata": {
    "scrolled": true
   },
   "outputs": [
    {
     "data": {
      "text/html": [
       "<div>\n",
       "<style scoped>\n",
       "    .dataframe tbody tr th:only-of-type {\n",
       "        vertical-align: middle;\n",
       "    }\n",
       "\n",
       "    .dataframe tbody tr th {\n",
       "        vertical-align: top;\n",
       "    }\n",
       "\n",
       "    .dataframe thead th {\n",
       "        text-align: right;\n",
       "    }\n",
       "</style>\n",
       "<table border=\"1\" class=\"dataframe\">\n",
       "  <thead>\n",
       "    <tr style=\"text-align: right;\">\n",
       "      <th></th>\n",
       "      <th>importance</th>\n",
       "    </tr>\n",
       "  </thead>\n",
       "  <tbody>\n",
       "    <tr>\n",
       "      <th>VerticalDepth</th>\n",
       "      <td>0.204159</td>\n",
       "    </tr>\n",
       "    <tr>\n",
       "      <th>hzlen_bin_&gt;2</th>\n",
       "      <td>0.188227</td>\n",
       "    </tr>\n",
       "    <tr>\n",
       "      <th>sandperft</th>\n",
       "      <td>0.169672</td>\n",
       "    </tr>\n",
       "    <tr>\n",
       "      <th>hzlen_bin_&lt;1</th>\n",
       "      <td>0.119123</td>\n",
       "    </tr>\n",
       "    <tr>\n",
       "      <th>nphf_sqrt</th>\n",
       "      <td>0.115235</td>\n",
       "    </tr>\n",
       "    <tr>\n",
       "      <th>location</th>\n",
       "      <td>0.105756</td>\n",
       "    </tr>\n",
       "    <tr>\n",
       "      <th>hybrid</th>\n",
       "      <td>0.035764</td>\n",
       "    </tr>\n",
       "    <tr>\n",
       "      <th>hzlen_bin_1-2</th>\n",
       "      <td>0.028386</td>\n",
       "    </tr>\n",
       "    <tr>\n",
       "      <th>xlinkgel</th>\n",
       "      <td>0.026585</td>\n",
       "    </tr>\n",
       "    <tr>\n",
       "      <th>gel</th>\n",
       "      <td>0.005013</td>\n",
       "    </tr>\n",
       "    <tr>\n",
       "      <th>slick</th>\n",
       "      <td>0.002079</td>\n",
       "    </tr>\n",
       "  </tbody>\n",
       "</table>\n",
       "</div>"
      ],
      "text/plain": [
       "               importance\n",
       "VerticalDepth    0.204159\n",
       "hzlen_bin_>2     0.188227\n",
       "sandperft        0.169672\n",
       "hzlen_bin_<1     0.119123\n",
       "nphf_sqrt        0.115235\n",
       "location         0.105756\n",
       "hybrid           0.035764\n",
       "hzlen_bin_1-2    0.028386\n",
       "xlinkgel         0.026585\n",
       "gel              0.005013\n",
       "slick            0.002079"
      ]
     },
     "metadata": {},
     "output_type": "display_data"
    },
    {
     "data": {
      "image/png": "[encoded data removed]",
      "text/plain": [
       "<matplotlib.figure.Figure at 0x114d324e0>"
      ]
     },
     "metadata": {},
     "output_type": "display_data"
    }
   ],
   "source": [
    "feature_importances5 = pd.DataFrame(rfqr_grid.feature_importances_,\n",
    "                                   index = X_train.columns,\n",
    "                                    columns=['importance']).sort_values('importance', ascending=False)\n",
    "display(feature_importances5)\n",
    "\n",
    "# Plot Residuals vs Predicted values\n",
    "y_pred = rfqr_grid.predict(X_test)\n",
    "residuals = y_test - y_pred\n",
    "sns.regplot(x=y_pred, y=residuals)\n",
    "plt.show()"
   ]
  },
  {
   "cell_type": "markdown",
   "metadata": {},
   "source": [
    "\n",
    "For now, I will finish analyzing the Colorado data by inspecting the partial dependency plots because the overall goal is to better understand how each feature contributes to the production of the well.  \n",
    "\n",
    "## Partial Dependency Plots\n",
    "Partial dependency plots enable a view inside of the black boxes that are random forests.  They show how the outcome depends on each individual feature in the model.  This way we can get \"coefficients\" for each feature and see anomalies in the patterns.  I will also use the horizontal length feature to determine the variablity in that feature."
   ]
  },
  {
   "cell_type": "code",
   "execution_count": 30,
   "metadata": {},
   "outputs": [
    {
     "data": {
      "image/png": "[encoded data removed]",
      "text/plain": [
       "<matplotlib.figure.Figure at 0x114ce3668>"
      ]
     },
     "metadata": {},
     "output_type": "display_data"
    },
    {
     "data": {
      "image/png": "[encoded data removed]",
      "text/plain": [
       "<matplotlib.figure.Figure at 0x116691a90>"
      ]
     },
     "metadata": {},
     "output_type": "display_data"
    },
    {
     "data": {
      "image/png": "[encoded data removed]",
      "text/plain": [
       "<matplotlib.figure.Figure at 0x11669cf98>"
      ]
     },
     "metadata": {},
     "output_type": "display_data"
    },
    {
     "data": {
      "image/png": "[encoded data removed]",
      "text/plain": [
       "<matplotlib.figure.Figure at 0x114c89eb8>"
      ]
     },
     "metadata": {},
     "output_type": "display_data"
    }
   ],
   "source": [
    "cofeats = cofeatures.drop(['First6BOE', 'sandmass','GrossPerforatedInterval', \n",
    "                           'sqrtsandmass','hzlen_bin_<1','hzlen_bin_1-2', \n",
    "                           'hzlen_bin_>2'], axis=1)\n",
    "\n",
    "target = cofeatures.First6BOE\n",
    "\n",
    "\n",
    "gbr = GradientBoostingRegressor()\n",
    "gbr.fit(cofeats, target)\n",
    "\n",
    "feats = [[0,1],\n",
    "         [2,3],\n",
    "        [4,5], \n",
    "         [6,7]]\n",
    "\n",
    "for feat_set in feats:\n",
    "    gbr_plots = plot_partial_dependence(gbr,\n",
    "                                features=feat_set, # Column numbers to plot\n",
    "                                X=cofeats, # Raw predictors data\n",
    "                                n_cols=2,\n",
    "                                feature_names=cofeats.columns, # Labels on graph\n",
    "                                grid_resolution=20) # Number of values to plot on x-axis"
   ]
  },
  {
   "cell_type": "markdown",
   "metadata": {},
   "source": [
    "## Frac Well Summary\n",
    "For this project, I wanted to build models that would help well operators in Colorado both understand the data-based best practices for frac methods, and be able to predict the production of the well within the first six months. The information I used and engineered to perform this analysis were the frac method, namely slickwater, linear gel, crosslinked gel, or a hybrid approach; the drilling conditions, including the horizontal length and the vertical depth of a well; and finally the frac conditions, including the amount of sand used per foot drilled, and the length of un-perforated casing. Through partial dependency plots and feature importances, here are the most important features and how they impact production:\n",
    "- Horizontal Length\n",
    "    - Lengths of less than 1 mile had lowest odds of production, between 1 and 2 miles there is very little change in the odds of production, and at greater than two miles of horizontal length there are the greatest odds of higher production levels.\n",
    "- Vertical Depth\n",
    "    - The odds of higher production based on vertical depth increases between 6250 ft and peaks at 6600 ft.  After 6600 ft, the odds of higher production decreases.\n",
    "- Sand per Foot\n",
    "    - Based on pounds of sand per foot of casing, there is a spike in the odds of higher production around 150 pounds per foot, which then drops between  200 and 350 pounds of sand per foot, and then increases steadily as the amount of sand increases.\n",
    "    \n",
    "This means that while there is a cost to increasing the each of these attributes of the well, well operators would do well to aim for around 2 miles of horizontal, 6600 ft vertical, and around 600+ pounds of sand per foot of casing.  As for the frac methods, the following are the analysis of their impact on frac production according to the overall model:\n",
    "- Slickwater\n",
    "    - Using a slickwater approach had great impact on the odds of higher production as compared to not using slickwater. \n",
    "- Linear Gel\n",
    "    - The odds of higher production are higher if a well operator does not use linear gel.\n",
    "- Cross-linked Gel\n",
    "    - Using cross-linked gel has very little impact on the odds of production.\n",
    "- Hybrid Approach\n",
    "    - The odds of production are higher if a hybrid approach is not used.\n",
    "    \n",
    "This is not very informative, most likely because the overall model looked at all attributes of the well, not just the frac method approach.  I will now model only the frac methods to interpret the odds of increased production."
   ]
  },
  {
   "cell_type": "code",
   "execution_count": 31,
   "metadata": {},
   "outputs": [
    {
     "data": {
      "image/png": "[encoded data removed]",
      "text/plain": [
       "<matplotlib.figure.Figure at 0x1107ffb00>"
      ]
     },
     "metadata": {},
     "output_type": "display_data"
    },
    {
     "data": {
      "image/png": "[encoded data removed]",
      "text/plain": [
       "<matplotlib.figure.Figure at 0x1208b8208>"
      ]
     },
     "metadata": {},
     "output_type": "display_data"
    }
   ],
   "source": [
    "method = cofeats[['slick', 'gel', 'xlinkgel', 'hybrid']]\n",
    "\n",
    "gbr_m = GradientBoostingRegressor(random_state=42)\n",
    "gbr_m.fit(method, target)\n",
    "\n",
    "feats = [[0,1],\n",
    "         [2,3]]\n",
    "\n",
    "for feat_set in feats:\n",
    "    gbr_plots = plot_partial_dependence(gbr_m,\n",
    "                                features=feat_set, # Column numbers to plot\n",
    "                                X=method, # Raw predictors data\n",
    "                                n_cols=2,\n",
    "                                feature_names=method.columns, # Labels on graph\n",
    "                                grid_resolution=20) # Number of values to plot on x-axis"
   ]
  },
  {
   "cell_type": "markdown",
   "metadata": {},
   "source": [
    "According to the model only looking at how frac method affects production, the following are the analysis of their impact on frac production:\n",
    "- Slickwater\n",
    "    - Using a slickwater approach increases the odds of higher production.\n",
    "- Linear Gel\n",
    "    - The odds of higher production are higher if a well operator does not use linear gel.\n",
    "- Cross-linked Gel\n",
    "    - Using a cross-linked gel causes a moderate increase in the odds of higher production.\n",
    "- Hybrid Approach\n",
    "    - The odds of production are higher if a hybrid approach is not used.\n",
    "    \n",
    "__Overall, a well operator would be best off if they used a slickwater approach or a cross-linked gel approach to fracing, but linear gels and hybrid approaches are not recommended.__  "
   ]
  },
  {
   "cell_type": "code",
   "execution_count": 32,
   "metadata": {},
   "outputs": [
    {
     "name": "stdout",
     "output_type": "stream",
     "text": [
      "R-squared Scores on the Test Set:\n",
      "\n",
      "Random Forest Regression \t\t0.5353 (+/- 0.1267)\n",
      "\n",
      "Random Forest Quantile Regression \t0.5306 (+/- 0.1336)\n",
      "\n",
      "Gradient Boosting Regression \t\t0.5040 (+/- 0.0959)\n",
      "\n",
      "Linear Regression \t\t\t0.3236 (+/- 0.0785)\n"
     ]
    }
   ],
   "source": [
    "# Printing models all together\n",
    "print('R-squared Scores on the Test Set:\\n')\n",
    "print('Random Forest Regression \\t\\t{}'.format(rfr_grid_test))\n",
    "print('\\nRandom Forest Quantile Regression \\t{}'.format(rfqr_grid_test))\n",
    "print('\\nGradient Boosting Regression \\t\\t{}'.format(gbr_grid_test))\n",
    "print('\\nLinear Regression \\t\\t\\t{}'.format(regr_test))"
   ]
  },
  {
   "cell_type": "markdown",
   "metadata": {},
   "source": [
    "Overall, all three models were fairly close in their ability to predicte the first 6 months of production, however the best model was the Random Forest Regression model, with an R-squared value of 0.5353 +/- 0.13. The Random forest Quantile regression had an R-squared value of 0.5306 +/- 0.13, and the gradient boosting regression had the next lowest R-squared value of 0.5040 +/- 0.10, and finally, the Linear Regression model was least able to predict the variance in the model, with an R-squared value of 0.3236 +/- 0.08. The Gradient boosting regression, along with partial dependency plots, were able to  paint a picture of the importances of the different well and frac characteristics to determine what contributes to higher oil and gas production."
   ]
  },
  {
   "cell_type": "markdown",
   "metadata": {},
   "source": [
    "## Proof of Concept\n",
    "Now I will take a couple wells and demonstrate that with different frac methods, the model will predict different levels of production. I will take a well that, according to the data, didn't use any of the frac methods I studied (it could have used another method or just wasn't identified in my cleaning of the frac focus data).  I will use the drilling characteristics of the well to determine which frac method could have improved the production of this well."
   ]
  },
  {
   "cell_type": "code",
   "execution_count": 33,
   "metadata": {},
   "outputs": [
    {
     "data": {
      "text/html": [
       "<div>\n",
       "<style scoped>\n",
       "    .dataframe tbody tr th:only-of-type {\n",
       "        vertical-align: middle;\n",
       "    }\n",
       "\n",
       "    .dataframe tbody tr th {\n",
       "        vertical-align: top;\n",
       "    }\n",
       "\n",
       "    .dataframe thead th {\n",
       "        text-align: right;\n",
       "    }\n",
       "</style>\n",
       "<table border=\"1\" class=\"dataframe\">\n",
       "  <thead>\n",
       "    <tr style=\"text-align: right;\">\n",
       "      <th></th>\n",
       "      <th>gel</th>\n",
       "      <th>slick</th>\n",
       "      <th>xlinkgel</th>\n",
       "      <th>hybrid</th>\n",
       "      <th>VerticalDepth</th>\n",
       "      <th>nphf_sqrt</th>\n",
       "      <th>sandperft</th>\n",
       "      <th>location</th>\n",
       "      <th>hzlen_bin_&lt;1</th>\n",
       "      <th>hzlen_bin_1-2</th>\n",
       "      <th>hzlen_bin_&gt;2</th>\n",
       "    </tr>\n",
       "    <tr>\n",
       "      <th>APINumber</th>\n",
       "      <th></th>\n",
       "      <th></th>\n",
       "      <th></th>\n",
       "      <th></th>\n",
       "      <th></th>\n",
       "      <th></th>\n",
       "      <th></th>\n",
       "      <th></th>\n",
       "      <th></th>\n",
       "      <th></th>\n",
       "      <th></th>\n",
       "    </tr>\n",
       "  </thead>\n",
       "  <tbody>\n",
       "    <tr>\n",
       "      <th>5001098410000</th>\n",
       "      <td>0</td>\n",
       "      <td>0</td>\n",
       "      <td>0</td>\n",
       "      <td>0.0</td>\n",
       "      <td>8045.0</td>\n",
       "      <td>73.509025</td>\n",
       "      <td>247.216535</td>\n",
       "      <td>2</td>\n",
       "      <td>1</td>\n",
       "      <td>0</td>\n",
       "      <td>0</td>\n",
       "    </tr>\n",
       "  </tbody>\n",
       "</table>\n",
       "</div>"
      ],
      "text/plain": [
       "               gel  slick  xlinkgel  hybrid  VerticalDepth  nphf_sqrt  \\\n",
       "APINumber                                                               \n",
       "5001098410000    0      0         0     0.0         8045.0  73.509025   \n",
       "\n",
       "                sandperft  location  hzlen_bin_<1  hzlen_bin_1-2  hzlen_bin_>2  \n",
       "APINumber                                                                       \n",
       "5001098410000  247.216535         2             1              0             0  "
      ]
     },
     "execution_count": 33,
     "metadata": {},
     "output_type": "execute_result"
    }
   ],
   "source": [
    "well = cofeats2[cofeats2.index==5001098410000]\n",
    "well"
   ]
  },
  {
   "cell_type": "markdown",
   "metadata": {},
   "source": [
    "Now, using this well, I will individually set each method to true (1), including a hybrid of slickwater and linear gel, and a hybrid of slickwater and crosslinked gel."
   ]
  },
  {
   "cell_type": "code",
   "execution_count": 34,
   "metadata": {},
   "outputs": [
    {
     "name": "stderr",
     "output_type": "stream",
     "text": [
      "/Library/Frameworks/Python.framework/Versions/3.6/lib/python3.6/site-packages/ipykernel_launcher.py:11: SettingWithCopyWarning: \n",
      "A value is trying to be set on a copy of a slice from a DataFrame.\n",
      "Try using .loc[row_indexer,col_indexer] = value instead\n",
      "\n",
      "See the caveats in the documentation: http://pandas.pydata.org/pandas-docs/stable/indexing.html#indexing-view-versus-copy\n",
      "  # This is added back by InteractiveShellApp.init_path()\n",
      "/Library/Frameworks/Python.framework/Versions/3.6/lib/python3.6/site-packages/ipykernel_launcher.py:12: SettingWithCopyWarning: \n",
      "A value is trying to be set on a copy of a slice from a DataFrame.\n",
      "Try using .loc[row_indexer,col_indexer] = value instead\n",
      "\n",
      "See the caveats in the documentation: http://pandas.pydata.org/pandas-docs/stable/indexing.html#indexing-view-versus-copy\n",
      "  if sys.path[0] == '':\n",
      "/Library/Frameworks/Python.framework/Versions/3.6/lib/python3.6/site-packages/ipykernel_launcher.py:26: SettingWithCopyWarning: \n",
      "A value is trying to be set on a copy of a slice from a DataFrame.\n",
      "Try using .loc[row_indexer,col_indexer] = value instead\n",
      "\n",
      "See the caveats in the documentation: http://pandas.pydata.org/pandas-docs/stable/indexing.html#indexing-view-versus-copy\n",
      "/Library/Frameworks/Python.framework/Versions/3.6/lib/python3.6/site-packages/ipykernel_launcher.py:27: SettingWithCopyWarning: \n",
      "A value is trying to be set on a copy of a slice from a DataFrame.\n",
      "Try using .loc[row_indexer,col_indexer] = value instead\n",
      "\n",
      "See the caveats in the documentation: http://pandas.pydata.org/pandas-docs/stable/indexing.html#indexing-view-versus-copy\n",
      "/Library/Frameworks/Python.framework/Versions/3.6/lib/python3.6/site-packages/ipykernel_launcher.py:29: SettingWithCopyWarning: \n",
      "A value is trying to be set on a copy of a slice from a DataFrame.\n",
      "Try using .loc[row_indexer,col_indexer] = value instead\n",
      "\n",
      "See the caveats in the documentation: http://pandas.pydata.org/pandas-docs/stable/indexing.html#indexing-view-versus-copy\n"
     ]
    },
    {
     "data": {
      "text/html": [
       "<div>\n",
       "<style scoped>\n",
       "    .dataframe tbody tr th:only-of-type {\n",
       "        vertical-align: middle;\n",
       "    }\n",
       "\n",
       "    .dataframe tbody tr th {\n",
       "        vertical-align: top;\n",
       "    }\n",
       "\n",
       "    .dataframe thead th {\n",
       "        text-align: right;\n",
       "    }\n",
       "</style>\n",
       "<table border=\"1\" class=\"dataframe\">\n",
       "  <thead>\n",
       "    <tr style=\"text-align: right;\">\n",
       "      <th></th>\n",
       "      <th>gel</th>\n",
       "      <th>slick</th>\n",
       "      <th>xlinkgel</th>\n",
       "      <th>hybrid</th>\n",
       "      <th>VerticalDepth</th>\n",
       "      <th>nphf_sqrt</th>\n",
       "      <th>sandperft</th>\n",
       "      <th>location</th>\n",
       "      <th>hzlen_bin_&lt;1</th>\n",
       "      <th>hzlen_bin_1-2</th>\n",
       "      <th>hzlen_bin_&gt;2</th>\n",
       "    </tr>\n",
       "    <tr>\n",
       "      <th>APINumber</th>\n",
       "      <th></th>\n",
       "      <th></th>\n",
       "      <th></th>\n",
       "      <th></th>\n",
       "      <th></th>\n",
       "      <th></th>\n",
       "      <th></th>\n",
       "      <th></th>\n",
       "      <th></th>\n",
       "      <th></th>\n",
       "      <th></th>\n",
       "    </tr>\n",
       "  </thead>\n",
       "  <tbody>\n",
       "    <tr>\n",
       "      <th>5005072500000</th>\n",
       "      <td>1</td>\n",
       "      <td>0</td>\n",
       "      <td>0</td>\n",
       "      <td>0.0</td>\n",
       "      <td>7785.0</td>\n",
       "      <td>82.217212</td>\n",
       "      <td>53.159205</td>\n",
       "      <td>0</td>\n",
       "      <td>0</td>\n",
       "      <td>1</td>\n",
       "      <td>0</td>\n",
       "    </tr>\n",
       "    <tr>\n",
       "      <th>5005072500000</th>\n",
       "      <td>0</td>\n",
       "      <td>1</td>\n",
       "      <td>0</td>\n",
       "      <td>0.0</td>\n",
       "      <td>7785.0</td>\n",
       "      <td>82.217212</td>\n",
       "      <td>53.159205</td>\n",
       "      <td>0</td>\n",
       "      <td>0</td>\n",
       "      <td>1</td>\n",
       "      <td>0</td>\n",
       "    </tr>\n",
       "    <tr>\n",
       "      <th>5005072500000</th>\n",
       "      <td>0</td>\n",
       "      <td>0</td>\n",
       "      <td>1</td>\n",
       "      <td>0.0</td>\n",
       "      <td>7785.0</td>\n",
       "      <td>82.217212</td>\n",
       "      <td>53.159205</td>\n",
       "      <td>0</td>\n",
       "      <td>0</td>\n",
       "      <td>1</td>\n",
       "      <td>0</td>\n",
       "    </tr>\n",
       "    <tr>\n",
       "      <th>5005072500000</th>\n",
       "      <td>1</td>\n",
       "      <td>1</td>\n",
       "      <td>0</td>\n",
       "      <td>1.0</td>\n",
       "      <td>7785.0</td>\n",
       "      <td>82.217212</td>\n",
       "      <td>53.159205</td>\n",
       "      <td>0</td>\n",
       "      <td>0</td>\n",
       "      <td>1</td>\n",
       "      <td>0</td>\n",
       "    </tr>\n",
       "    <tr>\n",
       "      <th>5005072500000</th>\n",
       "      <td>0</td>\n",
       "      <td>1</td>\n",
       "      <td>1</td>\n",
       "      <td>1.0</td>\n",
       "      <td>7785.0</td>\n",
       "      <td>82.217212</td>\n",
       "      <td>53.159205</td>\n",
       "      <td>0</td>\n",
       "      <td>0</td>\n",
       "      <td>1</td>\n",
       "      <td>0</td>\n",
       "    </tr>\n",
       "  </tbody>\n",
       "</table>\n",
       "</div>"
      ],
      "text/plain": [
       "               gel  slick  xlinkgel  hybrid  VerticalDepth  nphf_sqrt  \\\n",
       "APINumber                                                               \n",
       "5005072500000    1      0         0     0.0         7785.0  82.217212   \n",
       "5005072500000    0      1         0     0.0         7785.0  82.217212   \n",
       "5005072500000    0      0         1     0.0         7785.0  82.217212   \n",
       "5005072500000    1      1         0     1.0         7785.0  82.217212   \n",
       "5005072500000    0      1         1     1.0         7785.0  82.217212   \n",
       "\n",
       "               sandperft  location  hzlen_bin_<1  hzlen_bin_1-2  hzlen_bin_>2  \n",
       "APINumber                                                                      \n",
       "5005072500000  53.159205         0             0              1             0  \n",
       "5005072500000  53.159205         0             0              1             0  \n",
       "5005072500000  53.159205         0             0              1             0  \n",
       "5005072500000  53.159205         0             0              1             0  \n",
       "5005072500000  53.159205         0             0              1             0  "
      ]
     },
     "metadata": {},
     "output_type": "display_data"
    },
    {
     "data": {
      "text/html": [
       "<div>\n",
       "<style scoped>\n",
       "    .dataframe tbody tr th:only-of-type {\n",
       "        vertical-align: middle;\n",
       "    }\n",
       "\n",
       "    .dataframe tbody tr th {\n",
       "        vertical-align: top;\n",
       "    }\n",
       "\n",
       "    .dataframe thead th {\n",
       "        text-align: right;\n",
       "    }\n",
       "</style>\n",
       "<table border=\"1\" class=\"dataframe\">\n",
       "  <thead>\n",
       "    <tr style=\"text-align: right;\">\n",
       "      <th></th>\n",
       "      <th>Method</th>\n",
       "      <th>Predicted_Production</th>\n",
       "    </tr>\n",
       "  </thead>\n",
       "  <tbody>\n",
       "    <tr>\n",
       "      <th>1</th>\n",
       "      <td>slick</td>\n",
       "      <td>73853</td>\n",
       "    </tr>\n",
       "    <tr>\n",
       "      <th>4</th>\n",
       "      <td>slick_xlinkgel_hybrid</td>\n",
       "      <td>67068</td>\n",
       "    </tr>\n",
       "    <tr>\n",
       "      <th>2</th>\n",
       "      <td>xlinkgel</td>\n",
       "      <td>66966</td>\n",
       "    </tr>\n",
       "    <tr>\n",
       "      <th>0</th>\n",
       "      <td>gel</td>\n",
       "      <td>65343</td>\n",
       "    </tr>\n",
       "    <tr>\n",
       "      <th>3</th>\n",
       "      <td>slick_gel_hybrid</td>\n",
       "      <td>63227</td>\n",
       "    </tr>\n",
       "    <tr>\n",
       "      <th>5</th>\n",
       "      <td>No Method</td>\n",
       "      <td>36658</td>\n",
       "    </tr>\n",
       "  </tbody>\n",
       "</table>\n",
       "</div>"
      ],
      "text/plain": [
       "                  Method Predicted_Production\n",
       "1                  slick                73853\n",
       "4  slick_xlinkgel_hybrid                67068\n",
       "2               xlinkgel                66966\n",
       "0                    gel                65343\n",
       "3       slick_gel_hybrid                63227\n",
       "5              No Method                36658"
      ]
     },
     "execution_count": 34,
     "metadata": {},
     "output_type": "execute_result"
    }
   ],
   "source": [
    "# Creating data frame for the proof of concept wells and a data frame to store the predicted production\n",
    "poc = pd.DataFrame()\n",
    "preds = pd.DataFrame(columns=['Method','Predicted_Production'])\n",
    "\n",
    "# Identifying all methods\n",
    "methods = ['gel','slick','xlinkgel']\n",
    "\n",
    "for method in methods:\n",
    "    well_ex = cofeats2[cofeats2.index==5005072500000]\n",
    "    # Setting each method to 1\n",
    "    well_ex['slick'] = 0\n",
    "    well_ex[method] = 1\n",
    "    # Appending the well to the data frame\n",
    "    poc = poc.append(well_ex)\n",
    "    # Predicting the production of that method\n",
    "    pred = rfqr_grid.predict(well_ex)\n",
    "    # Appending the predicted production and method\n",
    "    preds = preds.append({'Method':method, 'Predicted_Production':int(pred)}, ignore_index=True)\n",
    "    \n",
    "# Identifying the two hybrid types\n",
    "hybrids = ['gel', 'xlinkgel']\n",
    "\n",
    "for hybrid in hybrids:\n",
    "    well_ex = cofeats2[cofeats2.index==5005072500000]\n",
    "    # Setting hybrid and slick to 1 (all hybrids are a hybrid of slickwater and something else)\n",
    "    well_ex['hybrid'] = 1\n",
    "    well_ex['slick'] = 1\n",
    "    # Setting the second hybrid ingredient to 1 and appending to the data frame\n",
    "    well_ex[hybrid] = 1\n",
    "    poc = poc.append(well_ex)\n",
    "    # Predicting the production of that method\n",
    "    pred = rfqr_grid.predict(well_ex)\n",
    "    # Appending the predicted production and method\n",
    "    preds = preds.append({'Method':'slick_'+ hybrid + '_hybrid', 'Predicted_Production':int(pred)}, ignore_index=True)\n",
    "    \n",
    "# Predicting based on existing no-method fracing\n",
    "well_pred = rfqr_grid.predict(well)\n",
    "preds = preds.append({'Method':'No Method', 'Predicted_Production': int(well_pred)}, ignore_index=True)\n",
    "    \n",
    "display(poc)\n",
    "# Sorting predicted values\n",
    "preds.sort_values('Predicted_Production', ascending=False)"
   ]
  },
  {
   "cell_type": "markdown",
   "metadata": {},
   "source": [
    "Great, the poc data frame looks like it appropriately labeled each iteration of the well to have a different method, and it appears that the slickwater method has the highest predicted production out of all of the methods.  Let's graph these values to better visualize the differences."
   ]
  },
  {
   "cell_type": "code",
   "execution_count": 35,
   "metadata": {},
   "outputs": [
    {
     "data": {
      "image/png": "[encoded data removed]",
      "text/plain": [
       "<matplotlib.figure.Figure at 0x120b18a58>"
      ]
     },
     "metadata": {},
     "output_type": "display_data"
    }
   ],
   "source": [
    "plt.figure(figsize=(10,6))\n",
    "plt.bar(preds['Method'], height=preds['Predicted_Production'])\n",
    "plt.xlabel('Frac Method')\n",
    "plt.ylabel('Predicted 6 Month Production (BOE)')\n",
    "plt.title('Predicted BOE Production for all Frac Methods')\n",
    "plt.show()"
   ]
  },
  {
   "cell_type": "markdown",
   "metadata": {},
   "source": [
    "Yes, the slickwater method of fracing is predicted to have the largest production, followed by the slickwater-linear gel hybrid.  The slickwater-cross-linked gel hybrid is predicted to have slightly less production, followed again by the cross-linked gel and linear gel methods.  My suggestion to well operators is to use the slickwater method, as in this example well, production could be 9,800 BOE greater with this method than with others.  Finally, since this well was not identified as having any of these methods of fracing, it is important to note that the no-method option performed the worst.  Unfortunately the actual production after 6 months for this well was only 23,404 BOE, so all of these predictions are about 200% of the actual. "
   ]
  },
  {
   "cell_type": "code",
   "execution_count": 36,
   "metadata": {},
   "outputs": [
    {
     "data": {
      "text/plain": [
       "67427.0"
      ]
     },
     "execution_count": 36,
     "metadata": {},
     "output_type": "execute_result"
    }
   ],
   "source": [
    "# Printing actual production of this well\n",
    "target.loc[5005072500000]"
   ]
  },
  {
   "cell_type": "markdown",
   "metadata": {},
   "source": [
    "#### Proof of Concept - Well 2"
   ]
  },
  {
   "cell_type": "code",
   "execution_count": 37,
   "metadata": {},
   "outputs": [
    {
     "name": "stderr",
     "output_type": "stream",
     "text": [
      "/Library/Frameworks/Python.framework/Versions/3.6/lib/python3.6/site-packages/ipykernel_launcher.py:9: SettingWithCopyWarning: \n",
      "A value is trying to be set on a copy of a slice from a DataFrame.\n",
      "Try using .loc[row_indexer,col_indexer] = value instead\n",
      "\n",
      "See the caveats in the documentation: http://pandas.pydata.org/pandas-docs/stable/indexing.html#indexing-view-versus-copy\n",
      "  if __name__ == '__main__':\n",
      "/Library/Frameworks/Python.framework/Versions/3.6/lib/python3.6/site-packages/ipykernel_launcher.py:11: SettingWithCopyWarning: \n",
      "A value is trying to be set on a copy of a slice from a DataFrame.\n",
      "Try using .loc[row_indexer,col_indexer] = value instead\n",
      "\n",
      "See the caveats in the documentation: http://pandas.pydata.org/pandas-docs/stable/indexing.html#indexing-view-versus-copy\n",
      "  # This is added back by InteractiveShellApp.init_path()\n",
      "/Library/Frameworks/Python.framework/Versions/3.6/lib/python3.6/site-packages/ipykernel_launcher.py:25: SettingWithCopyWarning: \n",
      "A value is trying to be set on a copy of a slice from a DataFrame.\n",
      "Try using .loc[row_indexer,col_indexer] = value instead\n",
      "\n",
      "See the caveats in the documentation: http://pandas.pydata.org/pandas-docs/stable/indexing.html#indexing-view-versus-copy\n",
      "/Library/Frameworks/Python.framework/Versions/3.6/lib/python3.6/site-packages/ipykernel_launcher.py:26: SettingWithCopyWarning: \n",
      "A value is trying to be set on a copy of a slice from a DataFrame.\n",
      "Try using .loc[row_indexer,col_indexer] = value instead\n",
      "\n",
      "See the caveats in the documentation: http://pandas.pydata.org/pandas-docs/stable/indexing.html#indexing-view-versus-copy\n",
      "/Library/Frameworks/Python.framework/Versions/3.6/lib/python3.6/site-packages/ipykernel_launcher.py:28: SettingWithCopyWarning: \n",
      "A value is trying to be set on a copy of a slice from a DataFrame.\n",
      "Try using .loc[row_indexer,col_indexer] = value instead\n",
      "\n",
      "See the caveats in the documentation: http://pandas.pydata.org/pandas-docs/stable/indexing.html#indexing-view-versus-copy\n"
     ]
    },
    {
     "data": {
      "text/html": [
       "<div>\n",
       "<style scoped>\n",
       "    .dataframe tbody tr th:only-of-type {\n",
       "        vertical-align: middle;\n",
       "    }\n",
       "\n",
       "    .dataframe tbody tr th {\n",
       "        vertical-align: top;\n",
       "    }\n",
       "\n",
       "    .dataframe thead th {\n",
       "        text-align: right;\n",
       "    }\n",
       "</style>\n",
       "<table border=\"1\" class=\"dataframe\">\n",
       "  <thead>\n",
       "    <tr style=\"text-align: right;\">\n",
       "      <th></th>\n",
       "      <th>gel</th>\n",
       "      <th>slick</th>\n",
       "      <th>xlinkgel</th>\n",
       "      <th>hybrid</th>\n",
       "      <th>VerticalDepth</th>\n",
       "      <th>nphf_sqrt</th>\n",
       "      <th>sandperft</th>\n",
       "      <th>location</th>\n",
       "      <th>hzlen_bin_&lt;1</th>\n",
       "      <th>hzlen_bin_1-2</th>\n",
       "      <th>hzlen_bin_&gt;2</th>\n",
       "    </tr>\n",
       "    <tr>\n",
       "      <th>APINumber</th>\n",
       "      <th></th>\n",
       "      <th></th>\n",
       "      <th></th>\n",
       "      <th></th>\n",
       "      <th></th>\n",
       "      <th></th>\n",
       "      <th></th>\n",
       "      <th></th>\n",
       "      <th></th>\n",
       "      <th></th>\n",
       "      <th></th>\n",
       "    </tr>\n",
       "  </thead>\n",
       "  <tbody>\n",
       "    <tr>\n",
       "      <th>5123447110000</th>\n",
       "      <td>1</td>\n",
       "      <td>0</td>\n",
       "      <td>0</td>\n",
       "      <td>0.0</td>\n",
       "      <td>7443.0</td>\n",
       "      <td>74.562688</td>\n",
       "      <td>685.835782</td>\n",
       "      <td>0</td>\n",
       "      <td>0</td>\n",
       "      <td>0</td>\n",
       "      <td>1</td>\n",
       "    </tr>\n",
       "    <tr>\n",
       "      <th>5123447110000</th>\n",
       "      <td>0</td>\n",
       "      <td>1</td>\n",
       "      <td>0</td>\n",
       "      <td>0.0</td>\n",
       "      <td>7443.0</td>\n",
       "      <td>74.562688</td>\n",
       "      <td>685.835782</td>\n",
       "      <td>0</td>\n",
       "      <td>0</td>\n",
       "      <td>0</td>\n",
       "      <td>1</td>\n",
       "    </tr>\n",
       "    <tr>\n",
       "      <th>5123447110000</th>\n",
       "      <td>0</td>\n",
       "      <td>0</td>\n",
       "      <td>1</td>\n",
       "      <td>0.0</td>\n",
       "      <td>7443.0</td>\n",
       "      <td>74.562688</td>\n",
       "      <td>685.835782</td>\n",
       "      <td>0</td>\n",
       "      <td>0</td>\n",
       "      <td>0</td>\n",
       "      <td>1</td>\n",
       "    </tr>\n",
       "    <tr>\n",
       "      <th>5123447110000</th>\n",
       "      <td>1</td>\n",
       "      <td>1</td>\n",
       "      <td>0</td>\n",
       "      <td>1.0</td>\n",
       "      <td>7443.0</td>\n",
       "      <td>74.562688</td>\n",
       "      <td>685.835782</td>\n",
       "      <td>0</td>\n",
       "      <td>0</td>\n",
       "      <td>0</td>\n",
       "      <td>1</td>\n",
       "    </tr>\n",
       "    <tr>\n",
       "      <th>5123447110000</th>\n",
       "      <td>0</td>\n",
       "      <td>1</td>\n",
       "      <td>1</td>\n",
       "      <td>1.0</td>\n",
       "      <td>7443.0</td>\n",
       "      <td>74.562688</td>\n",
       "      <td>685.835782</td>\n",
       "      <td>0</td>\n",
       "      <td>0</td>\n",
       "      <td>0</td>\n",
       "      <td>1</td>\n",
       "    </tr>\n",
       "  </tbody>\n",
       "</table>\n",
       "</div>"
      ],
      "text/plain": [
       "               gel  slick  xlinkgel  hybrid  VerticalDepth  nphf_sqrt  \\\n",
       "APINumber                                                               \n",
       "5123447110000    1      0         0     0.0         7443.0  74.562688   \n",
       "5123447110000    0      1         0     0.0         7443.0  74.562688   \n",
       "5123447110000    0      0         1     0.0         7443.0  74.562688   \n",
       "5123447110000    1      1         0     1.0         7443.0  74.562688   \n",
       "5123447110000    0      1         1     1.0         7443.0  74.562688   \n",
       "\n",
       "                sandperft  location  hzlen_bin_<1  hzlen_bin_1-2  hzlen_bin_>2  \n",
       "APINumber                                                                       \n",
       "5123447110000  685.835782         0             0              0             1  \n",
       "5123447110000  685.835782         0             0              0             1  \n",
       "5123447110000  685.835782         0             0              0             1  \n",
       "5123447110000  685.835782         0             0              0             1  \n",
       "5123447110000  685.835782         0             0              0             1  "
      ]
     },
     "metadata": {},
     "output_type": "display_data"
    },
    {
     "data": {
      "text/html": [
       "<div>\n",
       "<style scoped>\n",
       "    .dataframe tbody tr th:only-of-type {\n",
       "        vertical-align: middle;\n",
       "    }\n",
       "\n",
       "    .dataframe tbody tr th {\n",
       "        vertical-align: top;\n",
       "    }\n",
       "\n",
       "    .dataframe thead th {\n",
       "        text-align: right;\n",
       "    }\n",
       "</style>\n",
       "<table border=\"1\" class=\"dataframe\">\n",
       "  <thead>\n",
       "    <tr style=\"text-align: right;\">\n",
       "      <th></th>\n",
       "      <th>Method</th>\n",
       "      <th>Predicted_Production</th>\n",
       "    </tr>\n",
       "  </thead>\n",
       "  <tbody>\n",
       "    <tr>\n",
       "      <th>1</th>\n",
       "      <td>slick</td>\n",
       "      <td>97654</td>\n",
       "    </tr>\n",
       "    <tr>\n",
       "      <th>0</th>\n",
       "      <td>gel</td>\n",
       "      <td>88817</td>\n",
       "    </tr>\n",
       "    <tr>\n",
       "      <th>2</th>\n",
       "      <td>xlinkgel</td>\n",
       "      <td>87326</td>\n",
       "    </tr>\n",
       "    <tr>\n",
       "      <th>4</th>\n",
       "      <td>slick_xlinkgel_hybrid</td>\n",
       "      <td>77067</td>\n",
       "    </tr>\n",
       "    <tr>\n",
       "      <th>3</th>\n",
       "      <td>slick_gel_hybrid</td>\n",
       "      <td>71106</td>\n",
       "    </tr>\n",
       "    <tr>\n",
       "      <th>5</th>\n",
       "      <td>No Method</td>\n",
       "      <td>36658</td>\n",
       "    </tr>\n",
       "  </tbody>\n",
       "</table>\n",
       "</div>"
      ],
      "text/plain": [
       "                  Method Predicted_Production\n",
       "1                  slick                97654\n",
       "0                    gel                88817\n",
       "2               xlinkgel                87326\n",
       "4  slick_xlinkgel_hybrid                77067\n",
       "3       slick_gel_hybrid                71106\n",
       "5              No Method                36658"
      ]
     },
     "execution_count": 37,
     "metadata": {},
     "output_type": "execute_result"
    }
   ],
   "source": [
    "poc = pd.DataFrame()\n",
    "preds = pd.DataFrame(columns=['Method','Predicted_Production'])\n",
    "\n",
    "# Identifying all methods\n",
    "methods = ['gel','slick','xlinkgel']\n",
    "\n",
    "for method in methods:\n",
    "    well_ex = cofeats2[cofeats2.index==5123447110000]\n",
    "    well_ex['slick'] = 0\n",
    "    # Setting each method to 1\n",
    "    well_ex[method] = 1\n",
    "    # Appending the well to the data frame\n",
    "    poc = poc.append(well_ex)\n",
    "    # Predicting the production of that method\n",
    "    pred = rfqr_grid.predict(well_ex)\n",
    "    # Appending the predicted production and method\n",
    "    preds = preds.append({'Method':method, 'Predicted_Production':int(pred)}, ignore_index=True)\n",
    "    \n",
    "# Identifying the two hybrid types\n",
    "hybrids = ['gel', 'xlinkgel']\n",
    "\n",
    "for hybrid in hybrids:\n",
    "    well_ex = cofeats2[cofeats2.index==5123447110000]\n",
    "    # Setting hybrid and slick to 1 (all hybrids are a hybrid of slickwater and something else)\n",
    "    well_ex['hybrid'] = 1\n",
    "    well_ex['slick'] = 1\n",
    "    # Setting the second hybrid ingredient to 1 and appending to the data frame\n",
    "    well_ex[hybrid] = 1\n",
    "    poc = poc.append(well_ex)\n",
    "    # Predicting the production of that method\n",
    "    pred = rfqr_grid.predict(well_ex)\n",
    "    # Appending the predicted production and method\n",
    "    preds = preds.append({'Method':'slick_'+ hybrid + '_hybrid', 'Predicted_Production':int(pred)}, ignore_index=True)\n",
    "    \n",
    "# Predicting based on existing no-method fracing\n",
    "well_pred = rfqr_grid.predict(well)\n",
    "preds = preds.append({'Method':'No Method', 'Predicted_Production': int(well_pred)}, ignore_index=True)\n",
    "    \n",
    "display(poc)\n",
    "# Sorting predicted values\n",
    "preds.sort_values('Predicted_Production', ascending=False)"
   ]
  },
  {
   "cell_type": "code",
   "execution_count": 38,
   "metadata": {},
   "outputs": [
    {
     "data": {
      "image/png": "[encoded data removed]",
      "text/plain": [
       "<matplotlib.figure.Figure at 0x120b09e10>"
      ]
     },
     "metadata": {},
     "output_type": "display_data"
    }
   ],
   "source": [
    "plt.figure(figsize=(10,6))\n",
    "plt.bar(preds['Method'], height=preds['Predicted_Production'])\n",
    "plt.xlabel('Frac Method')\n",
    "plt.ylabel('Predicted 6 Month Production (BOE)')\n",
    "plt.title('Predicted BOE Production for all Frac Methods')\n",
    "plt.show()"
   ]
  },
  {
   "cell_type": "code",
   "execution_count": null,
   "metadata": {},
   "outputs": [],
   "source": []
  }
 ],
 "metadata": {
  "kernelspec": {
   "display_name": "Python 3",
   "language": "python",
   "name": "python3"
  },
  "language_info": {
   "codemirror_mode": {
    "name": "ipython",
    "version": 3
   },
   "file_extension": ".py",
   "mimetype": "text/x-python",
   "name": "python",
   "nbconvert_exporter": "python",
   "pygments_lexer": "ipython3",
   "version": "3.6.2"
  }
 },
 "nbformat": 4,
 "nbformat_minor": 2
}
