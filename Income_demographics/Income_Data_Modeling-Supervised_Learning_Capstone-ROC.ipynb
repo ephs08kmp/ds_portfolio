{
 "cells": [
  {
   "cell_type": "markdown",
   "metadata": {},
   "source": [
    "# Gender Pay Gap: Predicting income based on demographic data\n",
    "\n",
    "## Abstract\n",
    "What are the biggest indicators of a person's income? Their education level? Race? Gender? Age? What are demographic indicators that improve a woman's pay to help close the gender gap?\n",
    "\n",
    "For this project, I used logistic regression, K nearest neighbors classifer, random forests, and a gradient boosting classifier. Overall, the model that most accurately predicted if a person earned over \\$50,000 was the gradient boosting classifer, followed by the logistic regression model. These models had ROC AUC scores of 0.9097, and 0.9054, respectfully. The random forest model followed closely behind, with a ROC AUC score of 0.9050, and the K nearest neighbors classifier was the least accurate in its predictions of income categories, with a ROC AUC score of 0.8453. Both the gradient boosting classifer and the logistic regression models were able to paint a picture of the importances of the different demographic features that impact whether or not a person earns over \\$50,000, most notably age, being married, hours worked per week, and having an advanced degree. \n",
    "\n",
    "[Google Slides Presentation Link](https://docs.google.com/presentation/d/1ivmkK-dsD5MXYT_ZVlAB2tFyR2ujj_oK2Q9hlmUX9N0/edit?usp=sharing)"
   ]
  },
  {
   "cell_type": "markdown",
   "metadata": {},
   "source": [
    "## Introduction\n",
    "As a teacher of underserved populations, I routinely tell my students that education is their greatest source of upward mobility.  In reality, I don't have data to support that assertion.  My biggest question is what demographic factors are most important in increasing a person's income? Education level? Sex? Race? Occupation?  A person cannot change most of these indicators, as those are the cards they are dealt in life, but of the ones they can change, how much of an impact does this have on income?\n",
    "\n",
    "The data I will be using is extacted from the [1994 census bureau database](http://www.census.gov/ftp/pub/DES/www/welcome.html).  This dataset contains census data from approximately 32,000 working people over the age of 16, who made over 100 dollars that year, and who are representative of the larger population.  For each of these people, the dataset tracks a person's age, native country, marital status, education, employment, capital gains and losses as well as the target variable, whether or not the person's income was over 50,000 for that year.  \n",
    "\n",
    "Note that according to the [Bureau of Labor and Statistics](https://www.bls.gov/data/inflation_calculator.htm), due to inflation and cost of living increases, \\$50,000 in 1994 would be worth approximately $84,500 in 2018. "
   ]
  },
  {
   "cell_type": "markdown",
   "metadata": {},
   "source": [
    "### Research Questions\n",
    "I will be attempting to answer the following questions:\n",
    "- What demographic data is the best determinant for a person's income to be over \\$50,000?\n",
    "- Do those features differ between men and women?"
   ]
  },
  {
   "cell_type": "markdown",
   "metadata": {},
   "source": [
    "### Models\n",
    "To answer these questions, I will be using logistic regression, K nearest neighbors, random forest, and gradient boosting classifier models."
   ]
  },
  {
   "cell_type": "markdown",
   "metadata": {},
   "source": [
    "## Imports"
   ]
  },
  {
   "cell_type": "code",
   "execution_count": 1,
   "metadata": {},
   "outputs": [],
   "source": [
    "# Necessary imports\n",
    "import numpy as np\n",
    "import pandas as pd\n",
    "import seaborn as sns\n",
    "import matplotlib.pyplot as plt\n",
    "%matplotlib inline\n",
    "\n",
    "# Setting Preferences\n",
    "sns.set(style='white', color_codes=True)\n",
    "plt.rcParams.update({'font.size': 22})\n",
    "\n",
    "# Ignore warnings\n",
    "import warnings\n",
    "warnings.filterwarnings('ignore')\n",
    "\n",
    "# Statistics\n",
    "from scipy.stats import chi2_contingency\n",
    "from scipy.stats import ttest_ind\n",
    "from sklearn.metrics import confusion_matrix\n",
    "from sklearn.metrics import classification_report\n",
    "from sklearn.metrics import roc_auc_score\n",
    "\n",
    "# Cross validation \n",
    "from sklearn.model_selection import train_test_split\n",
    "from sklearn.model_selection import cross_val_score\n",
    "from sklearn.model_selection import GridSearchCV\n",
    "from sklearn.metrics import confusion_matrix\n",
    "from sklearn.metrics import classification_report\n",
    "\n",
    "# Model imports\n",
    "from sklearn.linear_model import LogisticRegression\n",
    "from sklearn.neighbors import KNeighborsClassifier\n",
    "from sklearn.ensemble import RandomForestClassifier\n",
    "from sklearn.ensemble import GradientBoostingClassifier\n",
    "\n",
    "# Timer\n",
    "import time\n",
    "from scipy.special import expit"
   ]
  },
  {
   "cell_type": "markdown",
   "metadata": {},
   "source": [
    "## Uploading, Cleaning, and Describing Data"
   ]
  },
  {
   "cell_type": "code",
   "execution_count": 2,
   "metadata": {},
   "outputs": [
    {
     "data": {
      "text/html": [
       "<div>\n",
       "<style scoped>\n",
       "    .dataframe tbody tr th:only-of-type {\n",
       "        vertical-align: middle;\n",
       "    }\n",
       "\n",
       "    .dataframe tbody tr th {\n",
       "        vertical-align: top;\n",
       "    }\n",
       "\n",
       "    .dataframe thead th {\n",
       "        text-align: right;\n",
       "    }\n",
       "</style>\n",
       "<table border=\"1\" class=\"dataframe\">\n",
       "  <thead>\n",
       "    <tr style=\"text-align: right;\">\n",
       "      <th></th>\n",
       "      <th>age</th>\n",
       "      <th>workclass</th>\n",
       "      <th>fnlwgt</th>\n",
       "      <th>education</th>\n",
       "      <th>education_num</th>\n",
       "      <th>marital_status</th>\n",
       "      <th>occupation</th>\n",
       "      <th>relationship</th>\n",
       "      <th>race</th>\n",
       "      <th>sex</th>\n",
       "      <th>capital_gain</th>\n",
       "      <th>capital_loss</th>\n",
       "      <th>hours_per_week</th>\n",
       "      <th>native_country</th>\n",
       "      <th>income</th>\n",
       "    </tr>\n",
       "  </thead>\n",
       "  <tbody>\n",
       "    <tr>\n",
       "      <th>0</th>\n",
       "      <td>39</td>\n",
       "      <td>State-gov</td>\n",
       "      <td>77516</td>\n",
       "      <td>Bachelors</td>\n",
       "      <td>13</td>\n",
       "      <td>Never-married</td>\n",
       "      <td>Adm-clerical</td>\n",
       "      <td>Not-in-family</td>\n",
       "      <td>White</td>\n",
       "      <td>Male</td>\n",
       "      <td>2174</td>\n",
       "      <td>0</td>\n",
       "      <td>40</td>\n",
       "      <td>United-States</td>\n",
       "      <td>&lt;=50K</td>\n",
       "    </tr>\n",
       "    <tr>\n",
       "      <th>1</th>\n",
       "      <td>50</td>\n",
       "      <td>Self-emp-not-inc</td>\n",
       "      <td>83311</td>\n",
       "      <td>Bachelors</td>\n",
       "      <td>13</td>\n",
       "      <td>Married-civ-spouse</td>\n",
       "      <td>Exec-managerial</td>\n",
       "      <td>Husband</td>\n",
       "      <td>White</td>\n",
       "      <td>Male</td>\n",
       "      <td>0</td>\n",
       "      <td>0</td>\n",
       "      <td>13</td>\n",
       "      <td>United-States</td>\n",
       "      <td>&lt;=50K</td>\n",
       "    </tr>\n",
       "    <tr>\n",
       "      <th>2</th>\n",
       "      <td>38</td>\n",
       "      <td>Private</td>\n",
       "      <td>215646</td>\n",
       "      <td>HS-grad</td>\n",
       "      <td>9</td>\n",
       "      <td>Divorced</td>\n",
       "      <td>Handlers-cleaners</td>\n",
       "      <td>Not-in-family</td>\n",
       "      <td>White</td>\n",
       "      <td>Male</td>\n",
       "      <td>0</td>\n",
       "      <td>0</td>\n",
       "      <td>40</td>\n",
       "      <td>United-States</td>\n",
       "      <td>&lt;=50K</td>\n",
       "    </tr>\n",
       "    <tr>\n",
       "      <th>3</th>\n",
       "      <td>53</td>\n",
       "      <td>Private</td>\n",
       "      <td>234721</td>\n",
       "      <td>11th</td>\n",
       "      <td>7</td>\n",
       "      <td>Married-civ-spouse</td>\n",
       "      <td>Handlers-cleaners</td>\n",
       "      <td>Husband</td>\n",
       "      <td>Black</td>\n",
       "      <td>Male</td>\n",
       "      <td>0</td>\n",
       "      <td>0</td>\n",
       "      <td>40</td>\n",
       "      <td>United-States</td>\n",
       "      <td>&lt;=50K</td>\n",
       "    </tr>\n",
       "    <tr>\n",
       "      <th>4</th>\n",
       "      <td>28</td>\n",
       "      <td>Private</td>\n",
       "      <td>338409</td>\n",
       "      <td>Bachelors</td>\n",
       "      <td>13</td>\n",
       "      <td>Married-civ-spouse</td>\n",
       "      <td>Prof-specialty</td>\n",
       "      <td>Wife</td>\n",
       "      <td>Black</td>\n",
       "      <td>Female</td>\n",
       "      <td>0</td>\n",
       "      <td>0</td>\n",
       "      <td>40</td>\n",
       "      <td>Cuba</td>\n",
       "      <td>&lt;=50K</td>\n",
       "    </tr>\n",
       "  </tbody>\n",
       "</table>\n",
       "</div>"
      ],
      "text/plain": [
       "   age         workclass  fnlwgt  education  education_num  \\\n",
       "0   39         State-gov   77516  Bachelors             13   \n",
       "1   50  Self-emp-not-inc   83311  Bachelors             13   \n",
       "2   38           Private  215646    HS-grad              9   \n",
       "3   53           Private  234721       11th              7   \n",
       "4   28           Private  338409  Bachelors             13   \n",
       "\n",
       "       marital_status         occupation   relationship   race     sex  \\\n",
       "0       Never-married       Adm-clerical  Not-in-family  White    Male   \n",
       "1  Married-civ-spouse    Exec-managerial        Husband  White    Male   \n",
       "2            Divorced  Handlers-cleaners  Not-in-family  White    Male   \n",
       "3  Married-civ-spouse  Handlers-cleaners        Husband  Black    Male   \n",
       "4  Married-civ-spouse     Prof-specialty           Wife  Black  Female   \n",
       "\n",
       "   capital_gain  capital_loss  hours_per_week native_country income  \n",
       "0          2174             0              40  United-States  <=50K  \n",
       "1             0             0              13  United-States  <=50K  \n",
       "2             0             0              40  United-States  <=50K  \n",
       "3             0             0              40  United-States  <=50K  \n",
       "4             0             0              40           Cuba  <=50K  "
      ]
     },
     "execution_count": 2,
     "metadata": {},
     "output_type": "execute_result"
    }
   ],
   "source": [
    "# Column names from source documentation, and data separated by column and space\n",
    "inc_raw = pd.read_csv('adult.data.csv', header=None, sep=', ',\n",
    "                      names=['age','workclass','fnlwgt','education','education_num','marital_status',\n",
    "                             'occupation','relationship','race','sex','capital_gain',\n",
    "                            'capital_loss','hours_per_week','native_country','income'])\n",
    "inc_raw.head()"
   ]
  },
  {
   "cell_type": "code",
   "execution_count": 3,
   "metadata": {},
   "outputs": [
    {
     "name": "stdout",
     "output_type": "stream",
     "text": [
      "<class 'pandas.core.frame.DataFrame'>\n",
      "RangeIndex: 32561 entries, 0 to 32560\n",
      "Data columns (total 15 columns):\n",
      "age               32561 non-null int64\n",
      "workclass         32561 non-null object\n",
      "fnlwgt            32561 non-null int64\n",
      "education         32561 non-null object\n",
      "education_num     32561 non-null int64\n",
      "marital_status    32561 non-null object\n",
      "occupation        32561 non-null object\n",
      "relationship      32561 non-null object\n",
      "race              32561 non-null object\n",
      "sex               32561 non-null object\n",
      "capital_gain      32561 non-null int64\n",
      "capital_loss      32561 non-null int64\n",
      "hours_per_week    32561 non-null int64\n",
      "native_country    32561 non-null object\n",
      "income            32561 non-null object\n",
      "dtypes: int64(6), object(9)\n",
      "memory usage: 3.7+ MB\n"
     ]
    }
   ],
   "source": [
    "inc_raw.info()"
   ]
  },
  {
   "cell_type": "markdown",
   "metadata": {},
   "source": [
    "Based on this information, none of the columns have null values, and while 6 of the column entries are integer values, 9 of the column entries are categorical in nature.  Now, I will inspect the number of unique entries for each column to get a better sense of the data."
   ]
  },
  {
   "cell_type": "code",
   "execution_count": 4,
   "metadata": {},
   "outputs": [
    {
     "data": {
      "text/plain": [
       "age                  73\n",
       "workclass             9\n",
       "fnlwgt            21648\n",
       "education            16\n",
       "education_num        16\n",
       "marital_status        7\n",
       "occupation           15\n",
       "relationship          6\n",
       "race                  5\n",
       "sex                   2\n",
       "capital_gain        119\n",
       "capital_loss         92\n",
       "hours_per_week       94\n",
       "native_country       42\n",
       "income                2\n",
       "dtype: int64"
      ]
     },
     "execution_count": 4,
     "metadata": {},
     "output_type": "execute_result"
    }
   ],
   "source": [
    "inc_raw.nunique()"
   ]
  },
  {
   "cell_type": "markdown",
   "metadata": {},
   "source": [
    "Some initial observations I had while inspecting the number of unique entries:\n",
    "- The final weight column has the most unique values.  This column represents the number of people that an entry could represent.  This makes sense as to why this number is so large, because there is a large spread in the number of people who are similar to an entry.  In my analysis, I am not trying to model proportions of the population or total values for the population, I will drop this column from the data set.\n",
    "- The education and education number columns both have 16 unique values.  This is because the level of education is represented numerically by the education number column.  I will inspect this further, but will only use one column in my analysis.\n",
    "- There are 7 different marital status types, but 6 relationshp status types.  This is worth looking further into. \n",
    "- Capital gains and capital losses have a limited number of unique entries.  I would have expected more.  This tells me that there aren't many people who reported capital gains or losses this year. \n",
    "- A person's native country has 42 possible entries.  If I want to analyze this data based on immigrant status or race, I will likely need to make this category more broad. \n",
    "\n",
    "First, let's remove the final weight column from the data set."
   ]
  },
  {
   "cell_type": "code",
   "execution_count": 5,
   "metadata": {},
   "outputs": [],
   "source": [
    "inc = inc_raw.drop('fnlwgt', axis=1)"
   ]
  },
  {
   "cell_type": "markdown",
   "metadata": {},
   "source": [
    "Now, let's inspect the different values in each of the columns to get a better sense of what each column is describing and clean the data where necessary."
   ]
  },
  {
   "cell_type": "code",
   "execution_count": 6,
   "metadata": {
    "scrolled": false
   },
   "outputs": [
    {
     "data": {
      "text/plain": [
       "Private             22696\n",
       "Self-emp-not-inc     2541\n",
       "Local-gov            2093\n",
       "?                    1836\n",
       "State-gov            1298\n",
       "Self-emp-inc         1116\n",
       "Federal-gov           960\n",
       "Without-pay            14\n",
       "Never-worked            7\n",
       "Name: workclass, dtype: int64"
      ]
     },
     "execution_count": 6,
     "metadata": {},
     "output_type": "execute_result"
    }
   ],
   "source": [
    "inc.workclass.value_counts()"
   ]
  },
  {
   "cell_type": "markdown",
   "metadata": {},
   "source": [
    "This data set is very skewed in favor of employees of the private sector.  This makes sense because most of the work force is a part of the private sector.  There are also a good number of people employed by various governmnent entities, self-employed, and a small number either without pay or never worked.  I will combine this column into four more generalized groups:\n",
    "- Private\n",
    "- Government (including those employed by Local, State, and Federal Governments)\n",
    "- Self-employed (including incorporated or non-incorporated entrepreneurs)  \n",
    "- Not working  (including those working without pay and who never worked in the year)\n",
    "\n",
    "There is also about 5% of the data that has unknown working class. I will drop these entries because it is impossible to impute the data or take the mean of the type of work, and these make up such a small portion of the data, so should not impact the overall analysis."
   ]
  },
  {
   "cell_type": "code",
   "execution_count": 7,
   "metadata": {},
   "outputs": [
    {
     "data": {
      "text/plain": [
       "Private          22696\n",
       "Government        4351\n",
       "Self_employed     3657\n",
       "Not_working         21\n",
       "Name: workclass, dtype: int64"
      ]
     },
     "execution_count": 7,
     "metadata": {},
     "output_type": "execute_result"
    }
   ],
   "source": [
    "# Creating new data frame with updated working class categories\n",
    "inc = inc[inc['workclass'] != '?']\n",
    "inc.workclass = inc.workclass.map({'Private':'Private',\n",
    "                                   'Self-emp-not-inc':'Self_employed','Self-emp-inc':'Self_employed',\n",
    "                                    'Local-gov':'Government', 'State-gov':'Government', 'Federal-gov':'Government',\n",
    "                                    'Without-pay':'Not_working', 'Never-worked':'Not_working'})\n",
    "inc.workclass.value_counts()"
   ]
  },
  {
   "cell_type": "markdown",
   "metadata": {},
   "source": [
    "Great! Next, let's inspect the education number to see if that maps to the categorical education column."
   ]
  },
  {
   "cell_type": "code",
   "execution_count": 8,
   "metadata": {},
   "outputs": [
    {
     "data": {
      "image/png": "[encoded data removed]",
      "text/plain": [
       "<matplotlib.figure.Figure at 0x113d68a90>"
      ]
     },
     "metadata": {},
     "output_type": "display_data"
    }
   ],
   "source": [
    "# First, establish estimated order of education, then plot\n",
    "edu_order = ['Preschool','1st-4th','5th-6th','7th-8th','9th','10th','11th','HS-grad','Some-college',\n",
    "            'Assoc-voc','Assoc-acdm','Bachelors','Masters','Prof-school','Doctorate']\n",
    "plt.figure(figsize=(15,5))\n",
    "sns.barplot(x='education', y='education_num', data=inc, palette='Set2_r', order=edu_order)\n",
    "plt.xticks(rotation=45)\n",
    "plt.show()"
   ]
  },
  {
   "cell_type": "markdown",
   "metadata": {},
   "source": [
    "Yes, because there are no error bars on our plot, this indicates that education number indeed is directly correlated with the level of education.  Education number is an ordinal scale representing level of education because it doesn't indicate number of years of schooling, but rather the order of level achieved.  For our analyses, we will need either continuous or categorical dummies, so we will drop the education number column and later create dummies assuming we want this as a feature in our models."
   ]
  },
  {
   "cell_type": "code",
   "execution_count": 9,
   "metadata": {
    "scrolled": true
   },
   "outputs": [
    {
     "data": {
      "text/plain": [
       "HS-grad         9969\n",
       "Some-college    6777\n",
       "Bachelors       5182\n",
       "Masters         1675\n",
       "Assoc-voc       1321\n",
       "11th            1057\n",
       "Assoc-acdm      1020\n",
       "10th             833\n",
       "7th-8th          574\n",
       "Prof-school      558\n",
       "9th              463\n",
       "Doctorate        398\n",
       "12th             393\n",
       "5th-6th          303\n",
       "1st-4th          156\n",
       "Preschool         46\n",
       "Name: education, dtype: int64"
      ]
     },
     "execution_count": 9,
     "metadata": {},
     "output_type": "execute_result"
    }
   ],
   "source": [
    "# Dropping Numerical Education column\n",
    "inc = inc.drop('education_num', axis=1)\n",
    "\n",
    "inc.education.value_counts()"
   ]
  },
  {
   "cell_type": "markdown",
   "metadata": {},
   "source": [
    "Now there are a lot of categories with just a few people in them.  Let's generalize these categories to be the following:\n",
    "- Dropouts (all people who did not complete high school)\n",
    "- High School Graduates\n",
    "- Some College (people who attended college, and those who earned Associates Degrees)\n",
    "- Bachelors Degrees\n",
    "- Advanced Degrees (including all people who earned Masters, Professional Degrees, or Doctorates)"
   ]
  },
  {
   "cell_type": "code",
   "execution_count": 10,
   "metadata": {},
   "outputs": [
    {
     "data": {
      "text/plain": [
       "HS-grad            9969\n",
       "Some-college       9118\n",
       "Bachelors          5182\n",
       "Dropout            3432\n",
       "Advanced-degree    2631\n",
       "Name: education, dtype: int64"
      ]
     },
     "execution_count": 10,
     "metadata": {},
     "output_type": "execute_result"
    }
   ],
   "source": [
    "# Re-naming entries to generalize some of the smaller categories\n",
    "inc.education = inc.education.map({'Preschool':'Dropout',\n",
    "                                   '1st-4th':'Dropout',\n",
    "                                   '5th-6th':'Dropout',\n",
    "                                   '7th-8th':'Dropout',\n",
    "                                   '9th':'Dropout',\n",
    "                                   '10th':'Dropout',\n",
    "                                   '11th':'Dropout',\n",
    "                                   'HS-grad':'HS-grad',\n",
    "                                   'Some-college':'Some-college',\n",
    "                                   'Assoc-voc':'Some-college',\n",
    "                                   'Assoc-acdm':'Some-college',\n",
    "                                   'Bachelors':'Bachelors',\n",
    "                                   'Masters':'Advanced-degree',\n",
    "                                   'Prof-school':'Advanced-degree',\n",
    "                                   'Doctorate':'Advanced-degree'})\n",
    "inc.education.value_counts()"
   ]
  },
  {
   "cell_type": "markdown",
   "metadata": {},
   "source": [
    "Next, let's check out marital status and the different options in this column."
   ]
  },
  {
   "cell_type": "code",
   "execution_count": 11,
   "metadata": {},
   "outputs": [
    {
     "data": {
      "text/plain": [
       "Married-civ-spouse       14340\n",
       "Never-married             9917\n",
       "Divorced                  4259\n",
       "Separated                  959\n",
       "Widowed                    840\n",
       "Married-spouse-absent      389\n",
       "Married-AF-spouse           21\n",
       "Name: marital_status, dtype: int64"
      ]
     },
     "execution_count": 11,
     "metadata": {},
     "output_type": "execute_result"
    }
   ],
   "source": [
    "inc.marital_status.value_counts()"
   ]
  },
  {
   "cell_type": "markdown",
   "metadata": {},
   "source": [
    "Again, it looks like the majority of people are either married to civilians or never married, with a strong portion of people who were married but are now divorced. There are then people in categories with fewer people. These can be combined into three overall categories: \n",
    "- Never married\n",
    "- Married (including married to a civilian spouse, and married to a spouse in the Armed Forces)\n",
    "- No Longer Married (including divorced, separated, married to an absent spouse, and widowed)"
   ]
  },
  {
   "cell_type": "code",
   "execution_count": 12,
   "metadata": {},
   "outputs": [
    {
     "data": {
      "text/plain": [
       "Married              14361\n",
       "Never-married         9917\n",
       "No_longer_married     6447\n",
       "Name: marital_status, dtype: int64"
      ]
     },
     "execution_count": 12,
     "metadata": {},
     "output_type": "execute_result"
    }
   ],
   "source": [
    "inc.marital_status = inc.marital_status.map({'Married-civ-spouse':'Married', 'Married-AF-spouse':'Married',\n",
    "                                             'Divorced':'No_longer_married', 'Separated':'No_longer_married',\n",
    "                                             'Married-spouse-absent':'No_longer_married', 'Widowed':'No_longer_married',\n",
    "                                            'Never-married':'Never-married'})\n",
    "inc.marital_status.value_counts()"
   ]
  },
  {
   "cell_type": "markdown",
   "metadata": {},
   "source": [
    "Next, let's inspect the occupation options in this data set."
   ]
  },
  {
   "cell_type": "code",
   "execution_count": 13,
   "metadata": {},
   "outputs": [
    {
     "data": {
      "text/plain": [
       "Prof-specialty       4140\n",
       "Craft-repair         4099\n",
       "Exec-managerial      4066\n",
       "Adm-clerical         3770\n",
       "Sales                3650\n",
       "Other-service        3295\n",
       "Machine-op-inspct    2002\n",
       "Transport-moving     1597\n",
       "Handlers-cleaners    1370\n",
       "Farming-fishing       994\n",
       "Tech-support          928\n",
       "Protective-serv       649\n",
       "Priv-house-serv       149\n",
       "Armed-Forces            9\n",
       "?                       7\n",
       "Name: occupation, dtype: int64"
      ]
     },
     "execution_count": 13,
     "metadata": {},
     "output_type": "execute_result"
    }
   ],
   "source": [
    "inc.occupation.value_counts()"
   ]
  },
  {
   "cell_type": "markdown",
   "metadata": {},
   "source": [
    "It looks like there are still 7 people with unknown occupations.  I will drop these from the data set.  Otherwise, these categories are fairly distinct and, for the most part, individuals are evenly spread across all categories.  I will leave the rest as is for now, but I will keep in mind that there are a high number of different categories in this column that might be able to be condensed if needed."
   ]
  },
  {
   "cell_type": "code",
   "execution_count": 14,
   "metadata": {},
   "outputs": [],
   "source": [
    "inc = inc[inc.occupation != '?']"
   ]
  },
  {
   "cell_type": "markdown",
   "metadata": {},
   "source": [
    "Next, we have the relationship column.  From the head of the Data Frame, it is unclear what this column represents, but I will inspect the value counts in this column."
   ]
  },
  {
   "cell_type": "code",
   "execution_count": 15,
   "metadata": {},
   "outputs": [
    {
     "data": {
      "text/plain": [
       "Husband           12704\n",
       "Not-in-family      7865\n",
       "Own-child          4525\n",
       "Unmarried          3271\n",
       "Wife               1435\n",
       "Other-relative      918\n",
       "Name: relationship, dtype: int64"
      ]
     },
     "execution_count": 15,
     "metadata": {},
     "output_type": "execute_result"
    }
   ],
   "source": [
    "inc.relationship.value_counts()"
   ]
  },
  {
   "cell_type": "markdown",
   "metadata": {},
   "source": [
    "I'm unsure what these values mean for any given person.  For this reason, I will drop this column from the data set."
   ]
  },
  {
   "cell_type": "code",
   "execution_count": 16,
   "metadata": {},
   "outputs": [],
   "source": [
    "inc = inc.drop('relationship', axis=1)"
   ]
  },
  {
   "cell_type": "markdown",
   "metadata": {},
   "source": [
    "Next, I'll inspect the race column for its values."
   ]
  },
  {
   "cell_type": "code",
   "execution_count": 17,
   "metadata": {},
   "outputs": [
    {
     "name": "stdout",
     "output_type": "stream",
     "text": [
      "White                 26301\n",
      "Black                  2909\n",
      "Asian-Pac-Islander      974\n",
      "Amer-Indian-Eskimo      286\n",
      "Other                   248\n",
      "Name: race, dtype: int64\n"
     ]
    }
   ],
   "source": [
    "print(inc.race.value_counts())"
   ]
  },
  {
   "cell_type": "markdown",
   "metadata": {},
   "source": [
    "As expected, there is a higher number of people who are white than other minority races.  To reduce this class imbalance, I will simplify this column into white and non-white populations."
   ]
  },
  {
   "cell_type": "code",
   "execution_count": 18,
   "metadata": {},
   "outputs": [
    {
     "data": {
      "text/plain": [
       "White        26301\n",
       "Non-White     4417\n",
       "Name: race, dtype: int64"
      ]
     },
     "execution_count": 18,
     "metadata": {},
     "output_type": "execute_result"
    }
   ],
   "source": [
    "inc.race = inc.race.map({'White':'White', 'Black':'Non-White','Asian-Pac-Islander':'Non-White',\n",
    "                        'Amer-Indian-Eskimo':'Non-White','Other':'Non-White'})\n",
    "inc.race.value_counts()"
   ]
  },
  {
   "cell_type": "markdown",
   "metadata": {},
   "source": [
    "The sex column has two unique values, male and female.  We will leave this and continue on to capital gain and capital loss."
   ]
  },
  {
   "cell_type": "code",
   "execution_count": 19,
   "metadata": {},
   "outputs": [
    {
     "name": "stdout",
     "output_type": "stream",
     "text": [
      "Summary of Capital Gains:\n",
      "count    30718.000000\n",
      "mean      1106.037079\n",
      "std       7497.863364\n",
      "min          0.000000\n",
      "25%          0.000000\n",
      "50%          0.000000\n",
      "75%          0.000000\n",
      "max      99999.000000\n",
      "Name: capital_gain, dtype: float64\n",
      "\n",
      "Summary of Capital Losses:\n",
      "count    30718.000000\n",
      "mean        88.910216\n",
      "std        405.657203\n",
      "min          0.000000\n",
      "25%          0.000000\n",
      "50%          0.000000\n",
      "75%          0.000000\n",
      "max       4356.000000\n",
      "Name: capital_loss, dtype: float64\n"
     ]
    }
   ],
   "source": [
    "print('Summary of Capital Gains:')\n",
    "print(inc.capital_gain.describe())\n",
    "print('\\nSummary of Capital Losses:')\n",
    "print(inc.capital_loss.describe())"
   ]
  },
  {
   "cell_type": "markdown",
   "metadata": {},
   "source": [
    "Wow! Most people reported no capital gains or losses. The maximum capital gain is \\$99,999, or else this is a mistake. The largest capital loss is only \\$4,356. Let's inspect the maximum value of capital gains and how capital gains and capital losses are related to one another."
   ]
  },
  {
   "cell_type": "code",
   "execution_count": 20,
   "metadata": {},
   "outputs": [
    {
     "name": "stdout",
     "output_type": "stream",
     "text": [
      "Number of Entries with Capital Gain of $99,999: 155\n"
     ]
    },
    {
     "data": {
      "text/html": [
       "<div>\n",
       "<style scoped>\n",
       "    .dataframe tbody tr th:only-of-type {\n",
       "        vertical-align: middle;\n",
       "    }\n",
       "\n",
       "    .dataframe tbody tr th {\n",
       "        vertical-align: top;\n",
       "    }\n",
       "\n",
       "    .dataframe thead th {\n",
       "        text-align: right;\n",
       "    }\n",
       "</style>\n",
       "<table border=\"1\" class=\"dataframe\">\n",
       "  <thead>\n",
       "    <tr style=\"text-align: right;\">\n",
       "      <th></th>\n",
       "      <th>age</th>\n",
       "      <th>workclass</th>\n",
       "      <th>education</th>\n",
       "      <th>marital_status</th>\n",
       "      <th>occupation</th>\n",
       "      <th>race</th>\n",
       "      <th>sex</th>\n",
       "      <th>capital_gain</th>\n",
       "      <th>capital_loss</th>\n",
       "      <th>hours_per_week</th>\n",
       "      <th>native_country</th>\n",
       "      <th>income</th>\n",
       "    </tr>\n",
       "  </thead>\n",
       "  <tbody>\n",
       "    <tr>\n",
       "      <th>1246</th>\n",
       "      <td>54</td>\n",
       "      <td>Self_employed</td>\n",
       "      <td>Advanced-degree</td>\n",
       "      <td>Married</td>\n",
       "      <td>Prof-specialty</td>\n",
       "      <td>White</td>\n",
       "      <td>Male</td>\n",
       "      <td>99999</td>\n",
       "      <td>0</td>\n",
       "      <td>60</td>\n",
       "      <td>United-States</td>\n",
       "      <td>&gt;50K</td>\n",
       "    </tr>\n",
       "    <tr>\n",
       "      <th>1368</th>\n",
       "      <td>52</td>\n",
       "      <td>Private</td>\n",
       "      <td>HS-grad</td>\n",
       "      <td>Married</td>\n",
       "      <td>Exec-managerial</td>\n",
       "      <td>Non-White</td>\n",
       "      <td>Male</td>\n",
       "      <td>99999</td>\n",
       "      <td>0</td>\n",
       "      <td>40</td>\n",
       "      <td>Japan</td>\n",
       "      <td>&gt;50K</td>\n",
       "    </tr>\n",
       "    <tr>\n",
       "      <th>1482</th>\n",
       "      <td>53</td>\n",
       "      <td>Self_employed</td>\n",
       "      <td>HS-grad</td>\n",
       "      <td>Married</td>\n",
       "      <td>Sales</td>\n",
       "      <td>White</td>\n",
       "      <td>Male</td>\n",
       "      <td>99999</td>\n",
       "      <td>0</td>\n",
       "      <td>40</td>\n",
       "      <td>United-States</td>\n",
       "      <td>&gt;50K</td>\n",
       "    </tr>\n",
       "    <tr>\n",
       "      <th>1528</th>\n",
       "      <td>52</td>\n",
       "      <td>Private</td>\n",
       "      <td>Bachelors</td>\n",
       "      <td>Married</td>\n",
       "      <td>Exec-managerial</td>\n",
       "      <td>White</td>\n",
       "      <td>Male</td>\n",
       "      <td>99999</td>\n",
       "      <td>0</td>\n",
       "      <td>50</td>\n",
       "      <td>United-States</td>\n",
       "      <td>&gt;50K</td>\n",
       "    </tr>\n",
       "    <tr>\n",
       "      <th>1616</th>\n",
       "      <td>46</td>\n",
       "      <td>Private</td>\n",
       "      <td>Advanced-degree</td>\n",
       "      <td>Married</td>\n",
       "      <td>Prof-specialty</td>\n",
       "      <td>White</td>\n",
       "      <td>Male</td>\n",
       "      <td>99999</td>\n",
       "      <td>0</td>\n",
       "      <td>60</td>\n",
       "      <td>United-States</td>\n",
       "      <td>&gt;50K</td>\n",
       "    </tr>\n",
       "  </tbody>\n",
       "</table>\n",
       "</div>"
      ],
      "text/plain": [
       "      age      workclass        education marital_status       occupation  \\\n",
       "1246   54  Self_employed  Advanced-degree        Married   Prof-specialty   \n",
       "1368   52        Private          HS-grad        Married  Exec-managerial   \n",
       "1482   53  Self_employed          HS-grad        Married            Sales   \n",
       "1528   52        Private        Bachelors        Married  Exec-managerial   \n",
       "1616   46        Private  Advanced-degree        Married   Prof-specialty   \n",
       "\n",
       "           race   sex  capital_gain  capital_loss  hours_per_week  \\\n",
       "1246      White  Male         99999             0              60   \n",
       "1368  Non-White  Male         99999             0              40   \n",
       "1482      White  Male         99999             0              40   \n",
       "1528      White  Male         99999             0              50   \n",
       "1616      White  Male         99999             0              60   \n",
       "\n",
       "     native_country income  \n",
       "1246  United-States   >50K  \n",
       "1368          Japan   >50K  \n",
       "1482  United-States   >50K  \n",
       "1528  United-States   >50K  \n",
       "1616  United-States   >50K  "
      ]
     },
     "execution_count": 20,
     "metadata": {},
     "output_type": "execute_result"
    }
   ],
   "source": [
    "print('Number of Entries with Capital Gain of $99,999:', len(inc[inc.capital_gain >= 99999]))\n",
    "inc[inc.capital_gain >= 99999].head()"
   ]
  },
  {
   "cell_type": "markdown",
   "metadata": {},
   "source": [
    "There are 155 entries where the capital gains are \\$99,999.  These all coincide with the income value of over \\$50,000, making these values plausible.  For now, I will keep these plausible entries, but I will keep in mind that there is this set of outliers in capital gains, and I will consider turning this column into a categorical variable with bins to capture the differences in capital gains. \n",
    "\n",
    "Now, let's take a look at the largest values of capital losses."
   ]
  },
  {
   "cell_type": "code",
   "execution_count": 21,
   "metadata": {},
   "outputs": [
    {
     "data": {
      "text/html": [
       "<div>\n",
       "<style scoped>\n",
       "    .dataframe tbody tr th:only-of-type {\n",
       "        vertical-align: middle;\n",
       "    }\n",
       "\n",
       "    .dataframe tbody tr th {\n",
       "        vertical-align: top;\n",
       "    }\n",
       "\n",
       "    .dataframe thead th {\n",
       "        text-align: right;\n",
       "    }\n",
       "</style>\n",
       "<table border=\"1\" class=\"dataframe\">\n",
       "  <thead>\n",
       "    <tr style=\"text-align: right;\">\n",
       "      <th></th>\n",
       "      <th>age</th>\n",
       "      <th>workclass</th>\n",
       "      <th>education</th>\n",
       "      <th>marital_status</th>\n",
       "      <th>occupation</th>\n",
       "      <th>race</th>\n",
       "      <th>sex</th>\n",
       "      <th>capital_gain</th>\n",
       "      <th>capital_loss</th>\n",
       "      <th>hours_per_week</th>\n",
       "      <th>native_country</th>\n",
       "      <th>income</th>\n",
       "    </tr>\n",
       "  </thead>\n",
       "  <tbody>\n",
       "    <tr>\n",
       "      <th>11902</th>\n",
       "      <td>34</td>\n",
       "      <td>Private</td>\n",
       "      <td>HS-grad</td>\n",
       "      <td>No_longer_married</td>\n",
       "      <td>Other-service</td>\n",
       "      <td>White</td>\n",
       "      <td>Female</td>\n",
       "      <td>0</td>\n",
       "      <td>3770</td>\n",
       "      <td>45</td>\n",
       "      <td>United-States</td>\n",
       "      <td>&lt;=50K</td>\n",
       "    </tr>\n",
       "    <tr>\n",
       "      <th>12600</th>\n",
       "      <td>74</td>\n",
       "      <td>Government</td>\n",
       "      <td>Advanced-degree</td>\n",
       "      <td>Never-married</td>\n",
       "      <td>Prof-specialty</td>\n",
       "      <td>White</td>\n",
       "      <td>Female</td>\n",
       "      <td>0</td>\n",
       "      <td>3683</td>\n",
       "      <td>20</td>\n",
       "      <td>United-States</td>\n",
       "      <td>&gt;50K</td>\n",
       "    </tr>\n",
       "    <tr>\n",
       "      <th>14756</th>\n",
       "      <td>82</td>\n",
       "      <td>Private</td>\n",
       "      <td>HS-grad</td>\n",
       "      <td>No_longer_married</td>\n",
       "      <td>Exec-managerial</td>\n",
       "      <td>White</td>\n",
       "      <td>Female</td>\n",
       "      <td>0</td>\n",
       "      <td>4356</td>\n",
       "      <td>18</td>\n",
       "      <td>United-States</td>\n",
       "      <td>&lt;=50K</td>\n",
       "    </tr>\n",
       "    <tr>\n",
       "      <th>15942</th>\n",
       "      <td>38</td>\n",
       "      <td>Private</td>\n",
       "      <td>Dropout</td>\n",
       "      <td>No_longer_married</td>\n",
       "      <td>Adm-clerical</td>\n",
       "      <td>White</td>\n",
       "      <td>Male</td>\n",
       "      <td>0</td>\n",
       "      <td>3770</td>\n",
       "      <td>40</td>\n",
       "      <td>United-States</td>\n",
       "      <td>&lt;=50K</td>\n",
       "    </tr>\n",
       "    <tr>\n",
       "      <th>20416</th>\n",
       "      <td>54</td>\n",
       "      <td>Private</td>\n",
       "      <td>Dropout</td>\n",
       "      <td>No_longer_married</td>\n",
       "      <td>Machine-op-inspct</td>\n",
       "      <td>White</td>\n",
       "      <td>Female</td>\n",
       "      <td>0</td>\n",
       "      <td>3900</td>\n",
       "      <td>40</td>\n",
       "      <td>United-States</td>\n",
       "      <td>&lt;=50K</td>\n",
       "    </tr>\n",
       "    <tr>\n",
       "      <th>23054</th>\n",
       "      <td>68</td>\n",
       "      <td>Government</td>\n",
       "      <td>HS-grad</td>\n",
       "      <td>No_longer_married</td>\n",
       "      <td>Prof-specialty</td>\n",
       "      <td>White</td>\n",
       "      <td>Female</td>\n",
       "      <td>0</td>\n",
       "      <td>3683</td>\n",
       "      <td>40</td>\n",
       "      <td>United-States</td>\n",
       "      <td>&lt;=50K</td>\n",
       "    </tr>\n",
       "    <tr>\n",
       "      <th>23802</th>\n",
       "      <td>41</td>\n",
       "      <td>Private</td>\n",
       "      <td>Some-college</td>\n",
       "      <td>No_longer_married</td>\n",
       "      <td>Prof-specialty</td>\n",
       "      <td>White</td>\n",
       "      <td>Female</td>\n",
       "      <td>0</td>\n",
       "      <td>3900</td>\n",
       "      <td>40</td>\n",
       "      <td>United-States</td>\n",
       "      <td>&lt;=50K</td>\n",
       "    </tr>\n",
       "  </tbody>\n",
       "</table>\n",
       "</div>"
      ],
      "text/plain": [
       "       age   workclass        education     marital_status         occupation  \\\n",
       "11902   34     Private          HS-grad  No_longer_married      Other-service   \n",
       "12600   74  Government  Advanced-degree      Never-married     Prof-specialty   \n",
       "14756   82     Private          HS-grad  No_longer_married    Exec-managerial   \n",
       "15942   38     Private          Dropout  No_longer_married       Adm-clerical   \n",
       "20416   54     Private          Dropout  No_longer_married  Machine-op-inspct   \n",
       "23054   68  Government          HS-grad  No_longer_married     Prof-specialty   \n",
       "23802   41     Private     Some-college  No_longer_married     Prof-specialty   \n",
       "\n",
       "        race     sex  capital_gain  capital_loss  hours_per_week  \\\n",
       "11902  White  Female             0          3770              45   \n",
       "12600  White  Female             0          3683              20   \n",
       "14756  White  Female             0          4356              18   \n",
       "15942  White    Male             0          3770              40   \n",
       "20416  White  Female             0          3900              40   \n",
       "23054  White  Female             0          3683              40   \n",
       "23802  White  Female             0          3900              40   \n",
       "\n",
       "      native_country income  \n",
       "11902  United-States  <=50K  \n",
       "12600  United-States   >50K  \n",
       "14756  United-States  <=50K  \n",
       "15942  United-States  <=50K  \n",
       "20416  United-States  <=50K  \n",
       "23054  United-States  <=50K  \n",
       "23802  United-States  <=50K  "
      ]
     },
     "execution_count": 21,
     "metadata": {},
     "output_type": "execute_result"
    }
   ],
   "source": [
    "inc[inc.capital_loss >= 3500]"
   ]
  },
  {
   "cell_type": "markdown",
   "metadata": {},
   "source": [
    "It looks like these values are reasonable, and, again, down the line I will consider binning this variable if impactful for the model.\n",
    "\n",
    "Next, let's make sure that hours per week look reasonable."
   ]
  },
  {
   "cell_type": "code",
   "execution_count": 22,
   "metadata": {},
   "outputs": [
    {
     "data": {
      "text/plain": [
       "count    30718.000000\n",
       "mean        40.949313\n",
       "std         11.985382\n",
       "min          1.000000\n",
       "25%         40.000000\n",
       "50%         40.000000\n",
       "75%         45.000000\n",
       "max         99.000000\n",
       "Name: hours_per_week, dtype: float64"
      ]
     },
     "execution_count": 22,
     "metadata": {},
     "output_type": "execute_result"
    }
   ],
   "source": [
    "inc.hours_per_week.describe()"
   ]
  },
  {
   "cell_type": "markdown",
   "metadata": {},
   "source": [
    "As expected for the United States, the mean hours per week is just over 40 hours per week.  Interestingly, the minimum is 1 hour per week, and the maximum is 99 hours per week.  Let's take a look at those two cases to ensure that those are valid data points."
   ]
  },
  {
   "cell_type": "code",
   "execution_count": 23,
   "metadata": {},
   "outputs": [
    {
     "data": {
      "text/html": [
       "<div>\n",
       "<style scoped>\n",
       "    .dataframe tbody tr th:only-of-type {\n",
       "        vertical-align: middle;\n",
       "    }\n",
       "\n",
       "    .dataframe tbody tr th {\n",
       "        vertical-align: top;\n",
       "    }\n",
       "\n",
       "    .dataframe thead th {\n",
       "        text-align: right;\n",
       "    }\n",
       "</style>\n",
       "<table border=\"1\" class=\"dataframe\">\n",
       "  <thead>\n",
       "    <tr style=\"text-align: right;\">\n",
       "      <th></th>\n",
       "      <th>age</th>\n",
       "      <th>workclass</th>\n",
       "      <th>education</th>\n",
       "      <th>marital_status</th>\n",
       "      <th>occupation</th>\n",
       "      <th>race</th>\n",
       "      <th>sex</th>\n",
       "      <th>capital_gain</th>\n",
       "      <th>capital_loss</th>\n",
       "      <th>hours_per_week</th>\n",
       "      <th>native_country</th>\n",
       "      <th>income</th>\n",
       "    </tr>\n",
       "  </thead>\n",
       "  <tbody>\n",
       "    <tr>\n",
       "      <th>189</th>\n",
       "      <td>58</td>\n",
       "      <td>Government</td>\n",
       "      <td>Advanced-degree</td>\n",
       "      <td>Married</td>\n",
       "      <td>Prof-specialty</td>\n",
       "      <td>White</td>\n",
       "      <td>Male</td>\n",
       "      <td>0</td>\n",
       "      <td>0</td>\n",
       "      <td>1</td>\n",
       "      <td>United-States</td>\n",
       "      <td>&gt;50K</td>\n",
       "    </tr>\n",
       "    <tr>\n",
       "      <th>1036</th>\n",
       "      <td>66</td>\n",
       "      <td>Self_employed</td>\n",
       "      <td>Dropout</td>\n",
       "      <td>Married</td>\n",
       "      <td>Exec-managerial</td>\n",
       "      <td>White</td>\n",
       "      <td>Male</td>\n",
       "      <td>1409</td>\n",
       "      <td>0</td>\n",
       "      <td>1</td>\n",
       "      <td>?</td>\n",
       "      <td>&lt;=50K</td>\n",
       "    </tr>\n",
       "    <tr>\n",
       "      <th>11451</th>\n",
       "      <td>27</td>\n",
       "      <td>Private</td>\n",
       "      <td>HS-grad</td>\n",
       "      <td>Never-married</td>\n",
       "      <td>Machine-op-inspct</td>\n",
       "      <td>White</td>\n",
       "      <td>Male</td>\n",
       "      <td>0</td>\n",
       "      <td>0</td>\n",
       "      <td>1</td>\n",
       "      <td>United-States</td>\n",
       "      <td>&lt;=50K</td>\n",
       "    </tr>\n",
       "    <tr>\n",
       "      <th>19750</th>\n",
       "      <td>23</td>\n",
       "      <td>Private</td>\n",
       "      <td>HS-grad</td>\n",
       "      <td>Never-married</td>\n",
       "      <td>Craft-repair</td>\n",
       "      <td>Non-White</td>\n",
       "      <td>Male</td>\n",
       "      <td>0</td>\n",
       "      <td>0</td>\n",
       "      <td>1</td>\n",
       "      <td>Vietnam</td>\n",
       "      <td>&lt;=50K</td>\n",
       "    </tr>\n",
       "    <tr>\n",
       "      <th>20909</th>\n",
       "      <td>77</td>\n",
       "      <td>Self_employed</td>\n",
       "      <td>Some-college</td>\n",
       "      <td>No_longer_married</td>\n",
       "      <td>Adm-clerical</td>\n",
       "      <td>White</td>\n",
       "      <td>Female</td>\n",
       "      <td>0</td>\n",
       "      <td>1944</td>\n",
       "      <td>1</td>\n",
       "      <td>United-States</td>\n",
       "      <td>&lt;=50K</td>\n",
       "    </tr>\n",
       "    <tr>\n",
       "      <th>22960</th>\n",
       "      <td>21</td>\n",
       "      <td>Private</td>\n",
       "      <td>HS-grad</td>\n",
       "      <td>Never-married</td>\n",
       "      <td>Machine-op-inspct</td>\n",
       "      <td>Non-White</td>\n",
       "      <td>Male</td>\n",
       "      <td>0</td>\n",
       "      <td>0</td>\n",
       "      <td>1</td>\n",
       "      <td>United-States</td>\n",
       "      <td>&lt;=50K</td>\n",
       "    </tr>\n",
       "    <tr>\n",
       "      <th>24284</th>\n",
       "      <td>57</td>\n",
       "      <td>Self_employed</td>\n",
       "      <td>HS-grad</td>\n",
       "      <td>Married</td>\n",
       "      <td>Exec-managerial</td>\n",
       "      <td>White</td>\n",
       "      <td>Male</td>\n",
       "      <td>0</td>\n",
       "      <td>0</td>\n",
       "      <td>1</td>\n",
       "      <td>United-States</td>\n",
       "      <td>&lt;=50K</td>\n",
       "    </tr>\n",
       "    <tr>\n",
       "      <th>25078</th>\n",
       "      <td>74</td>\n",
       "      <td>Private</td>\n",
       "      <td>Dropout</td>\n",
       "      <td>No_longer_married</td>\n",
       "      <td>Other-service</td>\n",
       "      <td>White</td>\n",
       "      <td>Female</td>\n",
       "      <td>0</td>\n",
       "      <td>0</td>\n",
       "      <td>1</td>\n",
       "      <td>United-States</td>\n",
       "      <td>&lt;=50K</td>\n",
       "    </tr>\n",
       "  </tbody>\n",
       "</table>\n",
       "</div>"
      ],
      "text/plain": [
       "       age      workclass        education     marital_status  \\\n",
       "189     58     Government  Advanced-degree            Married   \n",
       "1036    66  Self_employed          Dropout            Married   \n",
       "11451   27        Private          HS-grad      Never-married   \n",
       "19750   23        Private          HS-grad      Never-married   \n",
       "20909   77  Self_employed     Some-college  No_longer_married   \n",
       "22960   21        Private          HS-grad      Never-married   \n",
       "24284   57  Self_employed          HS-grad            Married   \n",
       "25078   74        Private          Dropout  No_longer_married   \n",
       "\n",
       "              occupation       race     sex  capital_gain  capital_loss  \\\n",
       "189       Prof-specialty      White    Male             0             0   \n",
       "1036     Exec-managerial      White    Male          1409             0   \n",
       "11451  Machine-op-inspct      White    Male             0             0   \n",
       "19750       Craft-repair  Non-White    Male             0             0   \n",
       "20909       Adm-clerical      White  Female             0          1944   \n",
       "22960  Machine-op-inspct  Non-White    Male             0             0   \n",
       "24284    Exec-managerial      White    Male             0             0   \n",
       "25078      Other-service      White  Female             0             0   \n",
       "\n",
       "       hours_per_week native_country income  \n",
       "189                 1  United-States   >50K  \n",
       "1036                1              ?  <=50K  \n",
       "11451               1  United-States  <=50K  \n",
       "19750               1        Vietnam  <=50K  \n",
       "20909               1  United-States  <=50K  \n",
       "22960               1  United-States  <=50K  \n",
       "24284               1  United-States  <=50K  \n",
       "25078               1  United-States  <=50K  "
      ]
     },
     "execution_count": 23,
     "metadata": {},
     "output_type": "execute_result"
    }
   ],
   "source": [
    "inc[inc.hours_per_week == 1]"
   ]
  },
  {
   "cell_type": "code",
   "execution_count": 24,
   "metadata": {},
   "outputs": [
    {
     "name": "stdout",
     "output_type": "stream",
     "text": [
      "Number of people who work 99 hours per week: 80\n"
     ]
    },
    {
     "data": {
      "text/html": [
       "<div>\n",
       "<style scoped>\n",
       "    .dataframe tbody tr th:only-of-type {\n",
       "        vertical-align: middle;\n",
       "    }\n",
       "\n",
       "    .dataframe tbody tr th {\n",
       "        vertical-align: top;\n",
       "    }\n",
       "\n",
       "    .dataframe thead th {\n",
       "        text-align: right;\n",
       "    }\n",
       "</style>\n",
       "<table border=\"1\" class=\"dataframe\">\n",
       "  <thead>\n",
       "    <tr style=\"text-align: right;\">\n",
       "      <th></th>\n",
       "      <th>age</th>\n",
       "      <th>workclass</th>\n",
       "      <th>education</th>\n",
       "      <th>marital_status</th>\n",
       "      <th>occupation</th>\n",
       "      <th>race</th>\n",
       "      <th>sex</th>\n",
       "      <th>capital_gain</th>\n",
       "      <th>capital_loss</th>\n",
       "      <th>hours_per_week</th>\n",
       "      <th>native_country</th>\n",
       "      <th>income</th>\n",
       "    </tr>\n",
       "  </thead>\n",
       "  <tbody>\n",
       "    <tr>\n",
       "      <th>935</th>\n",
       "      <td>37</td>\n",
       "      <td>Private</td>\n",
       "      <td>HS-grad</td>\n",
       "      <td>Married</td>\n",
       "      <td>Craft-repair</td>\n",
       "      <td>White</td>\n",
       "      <td>Male</td>\n",
       "      <td>0</td>\n",
       "      <td>0</td>\n",
       "      <td>99</td>\n",
       "      <td>United-States</td>\n",
       "      <td>&gt;50K</td>\n",
       "    </tr>\n",
       "    <tr>\n",
       "      <th>1172</th>\n",
       "      <td>25</td>\n",
       "      <td>Private</td>\n",
       "      <td>Advanced-degree</td>\n",
       "      <td>Married</td>\n",
       "      <td>Farming-fishing</td>\n",
       "      <td>White</td>\n",
       "      <td>Male</td>\n",
       "      <td>0</td>\n",
       "      <td>0</td>\n",
       "      <td>99</td>\n",
       "      <td>United-States</td>\n",
       "      <td>&gt;50K</td>\n",
       "    </tr>\n",
       "    <tr>\n",
       "      <th>1887</th>\n",
       "      <td>55</td>\n",
       "      <td>Self_employed</td>\n",
       "      <td>Some-college</td>\n",
       "      <td>Married</td>\n",
       "      <td>Farming-fishing</td>\n",
       "      <td>White</td>\n",
       "      <td>Male</td>\n",
       "      <td>0</td>\n",
       "      <td>0</td>\n",
       "      <td>99</td>\n",
       "      <td>United-States</td>\n",
       "      <td>&gt;50K</td>\n",
       "    </tr>\n",
       "    <tr>\n",
       "      <th>3578</th>\n",
       "      <td>37</td>\n",
       "      <td>Self_employed</td>\n",
       "      <td>Advanced-degree</td>\n",
       "      <td>Married</td>\n",
       "      <td>Prof-specialty</td>\n",
       "      <td>Non-White</td>\n",
       "      <td>Male</td>\n",
       "      <td>0</td>\n",
       "      <td>0</td>\n",
       "      <td>99</td>\n",
       "      <td>United-States</td>\n",
       "      <td>&gt;50K</td>\n",
       "    </tr>\n",
       "    <tr>\n",
       "      <th>4308</th>\n",
       "      <td>35</td>\n",
       "      <td>Self_employed</td>\n",
       "      <td>HS-grad</td>\n",
       "      <td>Married</td>\n",
       "      <td>Farming-fishing</td>\n",
       "      <td>White</td>\n",
       "      <td>Male</td>\n",
       "      <td>0</td>\n",
       "      <td>0</td>\n",
       "      <td>99</td>\n",
       "      <td>United-States</td>\n",
       "      <td>&lt;=50K</td>\n",
       "    </tr>\n",
       "  </tbody>\n",
       "</table>\n",
       "</div>"
      ],
      "text/plain": [
       "      age      workclass        education marital_status       occupation  \\\n",
       "935    37        Private          HS-grad        Married     Craft-repair   \n",
       "1172   25        Private  Advanced-degree        Married  Farming-fishing   \n",
       "1887   55  Self_employed     Some-college        Married  Farming-fishing   \n",
       "3578   37  Self_employed  Advanced-degree        Married   Prof-specialty   \n",
       "4308   35  Self_employed          HS-grad        Married  Farming-fishing   \n",
       "\n",
       "           race   sex  capital_gain  capital_loss  hours_per_week  \\\n",
       "935       White  Male             0             0              99   \n",
       "1172      White  Male             0             0              99   \n",
       "1887      White  Male             0             0              99   \n",
       "3578  Non-White  Male             0             0              99   \n",
       "4308      White  Male             0             0              99   \n",
       "\n",
       "     native_country income  \n",
       "935   United-States   >50K  \n",
       "1172  United-States   >50K  \n",
       "1887  United-States   >50K  \n",
       "3578  United-States   >50K  \n",
       "4308  United-States  <=50K  "
      ]
     },
     "execution_count": 24,
     "metadata": {},
     "output_type": "execute_result"
    }
   ],
   "source": [
    "print('Number of people who work 99 hours per week:', len(inc[inc.hours_per_week ==99]))\n",
    "inc[inc.hours_per_week ==99].head()"
   ]
  },
  {
   "cell_type": "markdown",
   "metadata": {},
   "source": [
    "All of these seem like reasonable entries, for both the low and high values.  Again, I will consider binning this column if needed for modeling. \n",
    "\n",
    "Finally, let's inspect the native country of people."
   ]
  },
  {
   "cell_type": "code",
   "execution_count": 25,
   "metadata": {},
   "outputs": [
    {
     "data": {
      "text/plain": [
       "United-States                 27504\n",
       "Mexico                          610\n",
       "?                               556\n",
       "Philippines                     188\n",
       "Germany                         128\n",
       "Puerto-Rico                     109\n",
       "Canada                          107\n",
       "India                           100\n",
       "El-Salvador                     100\n",
       "Cuba                             92\n",
       "England                          86\n",
       "Jamaica                          80\n",
       "South                            71\n",
       "Italy                            68\n",
       "China                            68\n",
       "Dominican-Republic               67\n",
       "Vietnam                          64\n",
       "Guatemala                        63\n",
       "Japan                            59\n",
       "Columbia                         56\n",
       "Poland                           56\n",
       "Taiwan                           42\n",
       "Iran                             42\n",
       "Haiti                            42\n",
       "Portugal                         34\n",
       "Nicaragua                        33\n",
       "Peru                             30\n",
       "Greece                           29\n",
       "Ecuador                          27\n",
       "France                           27\n",
       "Ireland                          24\n",
       "Hong                             19\n",
       "Cambodia                         18\n",
       "Trinadad&Tobago                  18\n",
       "Thailand                         17\n",
       "Laos                             17\n",
       "Yugoslavia                       16\n",
       "Outlying-US(Guam-USVI-etc)       14\n",
       "Hungary                          13\n",
       "Honduras                         12\n",
       "Scotland                         11\n",
       "Holand-Netherlands                1\n",
       "Name: native_country, dtype: int64"
      ]
     },
     "execution_count": 25,
     "metadata": {},
     "output_type": "execute_result"
    }
   ],
   "source": [
    "inc.native_country.value_counts()"
   ]
  },
  {
   "cell_type": "markdown",
   "metadata": {},
   "source": [
    "Unsurprisingly, the majority of people in this census are native to the United States. The number and imbalance of this column could pose a problem.  I will categorize these into general geographic locations. Note, I placed Canada in the European category because of its French and English influences.   I will also remove the less than 600 entries that are missing this information."
   ]
  },
  {
   "cell_type": "code",
   "execution_count": 26,
   "metadata": {},
   "outputs": [
    {
     "data": {
      "text/plain": [
       "United_States    27518\n",
       "Latin_Am          1410\n",
       "Asia               634\n",
       "Europe             600\n",
       "Name: native_country, dtype: int64"
      ]
     },
     "execution_count": 26,
     "metadata": {},
     "output_type": "execute_result"
    }
   ],
   "source": [
    "inc = inc[inc.native_country != '?']\n",
    "inc.native_country = inc.native_country.map({'United-States':'United_States', \n",
    "                                             'Cuba':'Latin_Am', \n",
    "                                             'Jamaica':'Latin_Am',\n",
    "                                             'India':'Asia', \n",
    "                                             'Mexico':'Latin_Am',\n",
    "                                             'Puerto-Rico':'Latin_Am', \n",
    "                                             'Honduras':'Latin_Am', \n",
    "                                             'England':'Europe',\n",
    "                                             'Canada':'Europe', \n",
    "                                             'Germany':'Europe', \n",
    "                                             'Iran':'Asia',\n",
    "                                             'Philippines':'Asia', \n",
    "                                             'Poland':'Europe', \n",
    "                                             'Columbia':'Latin_Am', \n",
    "                                             'Cambodia':'Asia', \n",
    "                                             'Thailand':'Asia',\n",
    "                                             'Ecuador':'Latin_Am', \n",
    "                                             'Laos':'Asia',\n",
    "                                             'Taiwan':'Asia', \n",
    "                                             'Haiti':'Latin_Am', \n",
    "                                             'Portugal':'Europe',\n",
    "                                             'Dominican-Republic':'Latin_Am', \n",
    "                                             'El-Salvador':'Latin_Am', \n",
    "                                             'France':'Europe', \n",
    "                                             'Guatemala':'Latin_Am',\n",
    "                                             'Italy':'Europe', \n",
    "                                             'China':'Asia',\n",
    "                                             'South':'Latin_Am', \n",
    "                                             'Japan':'Asia', \n",
    "                                             'Yugoslavia':'Europe', \n",
    "                                             'Peru':'Latin_Am',\n",
    "                                             'Outlying-US(Guam-USVI-etc)':'United_States', \n",
    "                                             'Scotland':'Europe', \n",
    "                                             'Trinadad&Tobago':'Latin_Am',\n",
    "                                             'Greece':'Europe', \n",
    "                                             'Nicaragua':'Latin_Am', \n",
    "                                             'Vietnam':'Asia', \n",
    "                                             'Hong':'Asia', \n",
    "                                             'Ireland':'Europe', \n",
    "                                             'Hungary':'Europe',\n",
    "                                             'Holand-Netherlands':'Europe'})\n",
    "inc.native_country.value_counts()"
   ]
  },
  {
   "cell_type": "markdown",
   "metadata": {},
   "source": [
    "Finally, let's change our target varible, income greater or less than \\$50,000 to a binary variable where income less than \\$50,000 is 0, and income greater than $50,000 is 1."
   ]
  },
  {
   "cell_type": "code",
   "execution_count": 27,
   "metadata": {},
   "outputs": [
    {
     "data": {
      "text/html": [
       "<div>\n",
       "<style scoped>\n",
       "    .dataframe tbody tr th:only-of-type {\n",
       "        vertical-align: middle;\n",
       "    }\n",
       "\n",
       "    .dataframe tbody tr th {\n",
       "        vertical-align: top;\n",
       "    }\n",
       "\n",
       "    .dataframe thead th {\n",
       "        text-align: right;\n",
       "    }\n",
       "</style>\n",
       "<table border=\"1\" class=\"dataframe\">\n",
       "  <thead>\n",
       "    <tr style=\"text-align: right;\">\n",
       "      <th></th>\n",
       "      <th>age</th>\n",
       "      <th>workclass</th>\n",
       "      <th>education</th>\n",
       "      <th>marital_status</th>\n",
       "      <th>occupation</th>\n",
       "      <th>race</th>\n",
       "      <th>sex</th>\n",
       "      <th>capital_gain</th>\n",
       "      <th>capital_loss</th>\n",
       "      <th>hours_per_week</th>\n",
       "      <th>native_country</th>\n",
       "      <th>income</th>\n",
       "    </tr>\n",
       "  </thead>\n",
       "  <tbody>\n",
       "    <tr>\n",
       "      <th>0</th>\n",
       "      <td>39</td>\n",
       "      <td>Government</td>\n",
       "      <td>Bachelors</td>\n",
       "      <td>Never-married</td>\n",
       "      <td>Adm-clerical</td>\n",
       "      <td>White</td>\n",
       "      <td>Male</td>\n",
       "      <td>2174</td>\n",
       "      <td>0</td>\n",
       "      <td>40</td>\n",
       "      <td>United_States</td>\n",
       "      <td>0</td>\n",
       "    </tr>\n",
       "    <tr>\n",
       "      <th>1</th>\n",
       "      <td>50</td>\n",
       "      <td>Self_employed</td>\n",
       "      <td>Bachelors</td>\n",
       "      <td>Married</td>\n",
       "      <td>Exec-managerial</td>\n",
       "      <td>White</td>\n",
       "      <td>Male</td>\n",
       "      <td>0</td>\n",
       "      <td>0</td>\n",
       "      <td>13</td>\n",
       "      <td>United_States</td>\n",
       "      <td>0</td>\n",
       "    </tr>\n",
       "    <tr>\n",
       "      <th>2</th>\n",
       "      <td>38</td>\n",
       "      <td>Private</td>\n",
       "      <td>HS-grad</td>\n",
       "      <td>No_longer_married</td>\n",
       "      <td>Handlers-cleaners</td>\n",
       "      <td>White</td>\n",
       "      <td>Male</td>\n",
       "      <td>0</td>\n",
       "      <td>0</td>\n",
       "      <td>40</td>\n",
       "      <td>United_States</td>\n",
       "      <td>0</td>\n",
       "    </tr>\n",
       "    <tr>\n",
       "      <th>3</th>\n",
       "      <td>53</td>\n",
       "      <td>Private</td>\n",
       "      <td>Dropout</td>\n",
       "      <td>Married</td>\n",
       "      <td>Handlers-cleaners</td>\n",
       "      <td>Non-White</td>\n",
       "      <td>Male</td>\n",
       "      <td>0</td>\n",
       "      <td>0</td>\n",
       "      <td>40</td>\n",
       "      <td>United_States</td>\n",
       "      <td>0</td>\n",
       "    </tr>\n",
       "    <tr>\n",
       "      <th>4</th>\n",
       "      <td>28</td>\n",
       "      <td>Private</td>\n",
       "      <td>Bachelors</td>\n",
       "      <td>Married</td>\n",
       "      <td>Prof-specialty</td>\n",
       "      <td>Non-White</td>\n",
       "      <td>Female</td>\n",
       "      <td>0</td>\n",
       "      <td>0</td>\n",
       "      <td>40</td>\n",
       "      <td>Latin_Am</td>\n",
       "      <td>0</td>\n",
       "    </tr>\n",
       "  </tbody>\n",
       "</table>\n",
       "</div>"
      ],
      "text/plain": [
       "   age      workclass  education     marital_status         occupation  \\\n",
       "0   39     Government  Bachelors      Never-married       Adm-clerical   \n",
       "1   50  Self_employed  Bachelors            Married    Exec-managerial   \n",
       "2   38        Private    HS-grad  No_longer_married  Handlers-cleaners   \n",
       "3   53        Private    Dropout            Married  Handlers-cleaners   \n",
       "4   28        Private  Bachelors            Married     Prof-specialty   \n",
       "\n",
       "        race     sex  capital_gain  capital_loss  hours_per_week  \\\n",
       "0      White    Male          2174             0              40   \n",
       "1      White    Male             0             0              13   \n",
       "2      White    Male             0             0              40   \n",
       "3  Non-White    Male             0             0              40   \n",
       "4  Non-White  Female             0             0              40   \n",
       "\n",
       "  native_country  income  \n",
       "0  United_States       0  \n",
       "1  United_States       0  \n",
       "2  United_States       0  \n",
       "3  United_States       0  \n",
       "4       Latin_Am       0  "
      ]
     },
     "execution_count": 27,
     "metadata": {},
     "output_type": "execute_result"
    }
   ],
   "source": [
    "inc.income = inc.income.map({'>50K': 1, '<=50K': 0})\n",
    "inc.head()"
   ]
  },
  {
   "cell_type": "markdown",
   "metadata": {},
   "source": [
    "Now that our data has been cleaned and wrangled, I will perform Exploratory Data Analysis to identify patterns and trends in the data."
   ]
  },
  {
   "cell_type": "markdown",
   "metadata": {},
   "source": [
    "## Exploratory Data Analysis\n",
    "\n",
    "I will start by inspecting the distribution of income across the data set."
   ]
  },
  {
   "cell_type": "code",
   "execution_count": 28,
   "metadata": {},
   "outputs": [
    {
     "data": {
      "image/png": "[encoded data removed]",
      "text/plain": [
       "<matplotlib.figure.Figure at 0x114015208>"
      ]
     },
     "metadata": {},
     "output_type": "display_data"
    },
    {
     "name": "stdout",
     "output_type": "stream",
     "text": [
      "Percent of Low Income: 75.92%\n"
     ]
    }
   ],
   "source": [
    "plt.figure(figsize=(10,5))\n",
    "g = sns.countplot(x='income', data=inc, palette='Set2_r')\n",
    "g.set_xticklabels(['Under $50K', 'Over $50K'])\n",
    "plt.title('Distribution of Income Levels')\n",
    "plt.show()\n",
    "\n",
    "print('Percent of Low Income: {:.2f}%'.format(len(inc_raw[inc_raw.income == '<=50K'])/len(inc_raw)*100))"
   ]
  },
  {
   "cell_type": "markdown",
   "metadata": {},
   "source": [
    "76% of people have an income below \\$50,000. There are more people that earn under \\$50,000 per year in 1994, than people who don't. This means that I have a class imbalance and will need to consider under- or over-sampling in my modeling.  I should also consider using a Receiver Operating Characteristic Area Under the Curve (ROC AUC) score to evaluate the test set especially, because that is not biased by unbalanced data sets.\n",
    "\n",
    "Now that we have a sense of the overall makeup of our target variable, let's take a look at how income is affected by sex. "
   ]
  },
  {
   "cell_type": "code",
   "execution_count": 29,
   "metadata": {},
   "outputs": [
    {
     "data": {
      "image/png": "[encoded data removed]",
      "text/plain": [
       "<matplotlib.figure.Figure at 0x113dab710>"
      ]
     },
     "metadata": {},
     "output_type": "display_data"
    },
    {
     "name": "stdout",
     "output_type": "stream",
     "text": [
      "income      0     1\n",
      "sex                \n",
      "Female   8670  1112\n",
      "Male    13984  6396\n",
      "5.86241470132775e-310\n"
     ]
    }
   ],
   "source": [
    "# Plotting counts of Sex\n",
    "plt.figure(figsize=(8,4))\n",
    "plt.subplot(121)\n",
    "sns.countplot(x='sex', data=inc, palette='Set2')\n",
    "plt.title('Distribution of Sex')\n",
    "\n",
    "# Plotting counts of Sex by income level\n",
    "plt.subplot(122)\n",
    "g = sns.countplot(x='sex', data=inc, hue='income', palette='Set2_r')\n",
    "g.legend(['Under $50K', 'Over $50K'])\n",
    "plt.title('Distribution of Income by Sex')\n",
    "\n",
    "plt.tight_layout()\n",
    "plt.show()\n",
    "\n",
    "# Creating cross tabulated data and calculating chi-square to determine independence\n",
    "counttable = pd.crosstab(inc['sex'], inc['income'])\n",
    "print(counttable)\n",
    "chi2, p, dof, ex = chi2_contingency(counttable, correction=False)\n",
    "print(p)"
   ]
  },
  {
   "cell_type": "markdown",
   "metadata": {},
   "source": [
    "Well, here's evidence that there has been a gender pay gap since the 90's.  There is a statistically significant (p < 0.05) difference between men and women earning above and below \\$50,000, and according to the data, more men than women made over \\$50,000.  Now that I have confirmed this notion with data, I will continue my exploration of the data and modeling with both sexes, and then at the end I will perform a separate analysis for women to determine if the female-specific demographic attributes are similar to or different from the overall factors.\n",
    "\n",
    "Next I will visualize the distribution of each of these variables, along with the distribution of income levels for each variable. "
   ]
  },
  {
   "cell_type": "code",
   "execution_count": 30,
   "metadata": {
    "scrolled": false
   },
   "outputs": [
    {
     "name": "stdout",
     "output_type": "stream",
     "text": [
      "\t\t\t\t\t***** WORKCLASS *****\n"
     ]
    },
    {
     "data": {
      "image/png": "[encoded data removed]",
      "text/plain": [
       "<matplotlib.figure.Figure at 0x113e57d30>"
      ]
     },
     "metadata": {},
     "output_type": "display_data"
    },
    {
     "name": "stdout",
     "output_type": "stream",
     "text": [
      "income             0     1\n",
      "workclass                 \n",
      "Government      2971  1318\n",
      "Not_working       14     0\n",
      "Private        17410  4876\n",
      "Self_employed   2259  1314\n",
      "\t\t\t\t\t***** EDUCATION *****\n"
     ]
    },
    {
     "data": {
      "image/png": "[encoded data removed]",
      "text/plain": [
       "<matplotlib.figure.Figure at 0x113d8dba8>"
      ]
     },
     "metadata": {},
     "output_type": "display_data"
    },
    {
     "name": "stdout",
     "output_type": "stream",
     "text": [
      "income              0     1\n",
      "education                  \n",
      "Advanced-degree   940  1604\n",
      "Bachelors        2918  2126\n",
      "Dropout          3168   196\n",
      "HS-grad          8223  1617\n",
      "Some-college     7057  1936\n",
      "\t\t\t\t\t***** MARITAL_STATUS *****\n"
     ]
    },
    {
     "data": {
      "image/png": "[encoded data removed]",
      "text/plain": [
       "<matplotlib.figure.Figure at 0x114531390>"
      ]
     },
     "metadata": {},
     "output_type": "display_data"
    },
    {
     "name": "stdout",
     "output_type": "stream",
     "text": [
      "income                0     1\n",
      "marital_status               \n",
      "Married            7677  6409\n",
      "Never-married      9256   470\n",
      "No_longer_married  5721   629\n",
      "\t\t\t\t\t***** OCCUPATION *****\n"
     ]
    },
    {
     "data": {
      "image/png": "[encoded data removed]",
      "text/plain": [
       "<matplotlib.figure.Figure at 0x11403aeb8>"
      ]
     },
     "metadata": {},
     "output_type": "display_data"
    },
    {
     "name": "stdout",
     "output_type": "stream",
     "text": [
      "income                0     1\n",
      "occupation                   \n",
      "Adm-clerical       3223   498\n",
      "Armed-Forces          8     1\n",
      "Craft-repair       3122   908\n",
      "Exec-managerial    2055  1937\n",
      "Farming-fishing     874   115\n",
      "Handlers-cleaners  1267    83\n",
      "Machine-op-inspct  1721   245\n",
      "Other-service      3080   132\n",
      "Priv-house-serv     142     1\n",
      "Prof-specialty     2227  1811\n",
      "Protective-serv     434   210\n",
      "Sales              2614   970\n",
      "Tech-support        634   278\n",
      "Transport-moving   1253   319\n",
      "\t\t\t\t\t***** RACE *****\n"
     ]
    },
    {
     "data": {
      "image/png": "[encoded data removed]",
      "text/plain": [
       "<matplotlib.figure.Figure at 0x113ea02e8>"
      ]
     },
     "metadata": {},
     "output_type": "display_data"
    },
    {
     "name": "stdout",
     "output_type": "stream",
     "text": [
      "income         0     1\n",
      "race                  \n",
      "Non-White   3560   669\n",
      "White      19094  6839\n",
      "\t\t\t\t\t***** SEX *****\n"
     ]
    },
    {
     "data": {
      "image/png": "[encoded data removed]",
      "text/plain": [
       "<matplotlib.figure.Figure at 0x105adf550>"
      ]
     },
     "metadata": {},
     "output_type": "display_data"
    },
    {
     "name": "stdout",
     "output_type": "stream",
     "text": [
      "income      0     1\n",
      "sex                \n",
      "Female   8670  1112\n",
      "Male    13984  6396\n",
      "\t\t\t\t\t***** NATIVE_COUNTRY *****\n"
     ]
    },
    {
     "data": {
      "image/png": "[encoded data removed]",
      "text/plain": [
       "<matplotlib.figure.Figure at 0x1141f87f0>"
      ]
     },
     "metadata": {},
     "output_type": "display_data"
    },
    {
     "name": "stdout",
     "output_type": "stream",
     "text": [
      "income              0     1\n",
      "native_country             \n",
      "Asia              431   203\n",
      "Europe            415   185\n",
      "Latin_Am         1285   125\n",
      "United_States   20523  6995\n",
      "P-values from Chi-Squared Contingency Tests\n"
     ]
    },
    {
     "data": {
      "text/html": [
       "<div>\n",
       "<style scoped>\n",
       "    .dataframe tbody tr th:only-of-type {\n",
       "        vertical-align: middle;\n",
       "    }\n",
       "\n",
       "    .dataframe tbody tr th {\n",
       "        vertical-align: top;\n",
       "    }\n",
       "\n",
       "    .dataframe thead th {\n",
       "        text-align: right;\n",
       "    }\n",
       "</style>\n",
       "<table border=\"1\" class=\"dataframe\">\n",
       "  <thead>\n",
       "    <tr style=\"text-align: right;\">\n",
       "      <th></th>\n",
       "      <th>Attribute</th>\n",
       "      <th>P_value</th>\n",
       "    </tr>\n",
       "  </thead>\n",
       "  <tbody>\n",
       "    <tr>\n",
       "      <th>1</th>\n",
       "      <td>education</td>\n",
       "      <td>0.000000e+00</td>\n",
       "    </tr>\n",
       "    <tr>\n",
       "      <th>2</th>\n",
       "      <td>marital_status</td>\n",
       "      <td>0.000000e+00</td>\n",
       "    </tr>\n",
       "    <tr>\n",
       "      <th>3</th>\n",
       "      <td>occupation</td>\n",
       "      <td>0.000000e+00</td>\n",
       "    </tr>\n",
       "    <tr>\n",
       "      <th>5</th>\n",
       "      <td>sex</td>\n",
       "      <td>5.862415e-310</td>\n",
       "    </tr>\n",
       "    <tr>\n",
       "      <th>0</th>\n",
       "      <td>workclass</td>\n",
       "      <td>1.406662e-99</td>\n",
       "    </tr>\n",
       "    <tr>\n",
       "      <th>4</th>\n",
       "      <td>race</td>\n",
       "      <td>5.076837e-49</td>\n",
       "    </tr>\n",
       "    <tr>\n",
       "      <th>6</th>\n",
       "      <td>native_country</td>\n",
       "      <td>8.442885e-49</td>\n",
       "    </tr>\n",
       "  </tbody>\n",
       "</table>\n",
       "</div>"
      ],
      "text/plain": [
       "        Attribute        P_value\n",
       "1       education   0.000000e+00\n",
       "2  marital_status   0.000000e+00\n",
       "3      occupation   0.000000e+00\n",
       "5             sex  5.862415e-310\n",
       "0       workclass   1.406662e-99\n",
       "4            race   5.076837e-49\n",
       "6  native_country   8.442885e-49"
      ]
     },
     "execution_count": 30,
     "metadata": {},
     "output_type": "execute_result"
    }
   ],
   "source": [
    "# Initializing data frame for p-values from Chi-Square test\n",
    "p_vals = pd.DataFrame(columns=['Attribute', 'P_value'])\n",
    "\n",
    "for col in inc.select_dtypes(include='object').columns:\n",
    "    print('\\t\\t\\t\\t\\t***** {} *****'.format(col.upper()))\n",
    "    # Plotting counts of each column\n",
    "    plt.figure(figsize=(15,5))\n",
    "    plt.subplot(121)\n",
    "    sns.countplot(x=col, data=inc, palette='Set2')\n",
    "    plt.title('Distribution of {}'.format(col))\n",
    "    plt.xticks(rotation=40)\n",
    "\n",
    "    # Plotting counts of each column by income level\n",
    "    plt.subplot(122)\n",
    "    g = sns.countplot(x=col, data=inc, hue='income', palette='Set2_r')\n",
    "    g.legend(['Under $50K', 'Over $50K'])\n",
    "    plt.title('Distribution of income by {}'.format(col))\n",
    "    plt.xticks(rotation=40)\n",
    "    \n",
    "    plt.tight_layout()\n",
    "    plt.show()\n",
    "\n",
    "    # Creating cross tabulated data for Chi-square test\n",
    "    counttable = pd.crosstab(inc[col], inc['income'])\n",
    "    print(counttable)\n",
    "    chi2, p, dof, ex = chi2_contingency(counttable, correction=False)\n",
    "    p_vals = p_vals.append({'Attribute':col, 'P_value':float(p)}, ignore_index=True)\n",
    "    \n",
    "\n",
    "# Printing p-values of Chi-squared tests, sorted by p-values\n",
    "print('P-values from Chi-Squared Contingency Tests')\n",
    "p_vals.sort_values('P_value')"
   ]
  },
  {
   "cell_type": "markdown",
   "metadata": {},
   "source": [
    "Here, we visualize the similar class imbalances we observed in cleaning the data, especially in working class, education, race, and native country.  We also visualize that there are more people who earn less than \\$50,000 in the majority of categories, regardless of their demographics.  Despite this, there are a number of demographic attributes that result in a higher proportion of individuals earning over \\$50,000.  Those attributes are as follows:\n",
    "\n",
    "- Having a Bachelor's degree, or other advanced degree\n",
    "- Being married\n",
    "- Working as an executive manager or in a professional specialty\n",
    "\n",
    "According to the p-values from the chi-squared tests, all categorical values have significant differences (p-value < 0.05) between populations earning high and low incomes.  This means that all of these demographic attributes have some relationship with income level, and will therefore be included as potential features in our modeling. \n",
    "\n",
    "Next, let's take a look at distributions of continuous data for income levels."
   ]
  },
  {
   "cell_type": "code",
   "execution_count": 31,
   "metadata": {
    "scrolled": false
   },
   "outputs": [
    {
     "name": "stdout",
     "output_type": "stream",
     "text": [
      "\t\t\t\t\t***** AGE *****\n"
     ]
    },
    {
     "data": {
      "image/png": "[encoded data removed]",
      "text/plain": [
       "<matplotlib.figure.Figure at 0x115909668>"
      ]
     },
     "metadata": {},
     "output_type": "display_data"
    },
    {
     "name": "stdout",
     "output_type": "stream",
     "text": [
      "\t\t\t\t\t***** CAPITAL_GAIN *****\n"
     ]
    },
    {
     "data": {
      "image/png": "[encoded data removed]",
      "text/plain": [
       "<matplotlib.figure.Figure at 0x11407cd68>"
      ]
     },
     "metadata": {},
     "output_type": "display_data"
    },
    {
     "name": "stdout",
     "output_type": "stream",
     "text": [
      "\t\t\t\t\t***** CAPITAL_LOSS *****\n"
     ]
    },
    {
     "data": {
      "image/png": "[encoded data removed]",
      "text/plain": [
       "<matplotlib.figure.Figure at 0x115c3bda0>"
      ]
     },
     "metadata": {},
     "output_type": "display_data"
    },
    {
     "name": "stdout",
     "output_type": "stream",
     "text": [
      "\t\t\t\t\t***** HOURS_PER_WEEK *****\n"
     ]
    },
    {
     "data": {
      "image/png": "[encoded data removed]",
      "text/plain": [
       "<matplotlib.figure.Figure at 0x113f1cf98>"
      ]
     },
     "metadata": {},
     "output_type": "display_data"
    },
    {
     "name": "stdout",
     "output_type": "stream",
     "text": [
      "P-values from t-tests\n"
     ]
    },
    {
     "data": {
      "text/html": [
       "<div>\n",
       "<style scoped>\n",
       "    .dataframe tbody tr th:only-of-type {\n",
       "        vertical-align: middle;\n",
       "    }\n",
       "\n",
       "    .dataframe tbody tr th {\n",
       "        vertical-align: top;\n",
       "    }\n",
       "\n",
       "    .dataframe thead th {\n",
       "        text-align: right;\n",
       "    }\n",
       "</style>\n",
       "<table border=\"1\" class=\"dataframe\">\n",
       "  <thead>\n",
       "    <tr style=\"text-align: right;\">\n",
       "      <th></th>\n",
       "      <th>Attribute</th>\n",
       "      <th>P_value</th>\n",
       "    </tr>\n",
       "  </thead>\n",
       "  <tbody>\n",
       "    <tr>\n",
       "      <th>0</th>\n",
       "      <td>age</td>\n",
       "      <td>0.000000e+00</td>\n",
       "    </tr>\n",
       "    <tr>\n",
       "      <th>1</th>\n",
       "      <td>capital_gain</td>\n",
       "      <td>0.000000e+00</td>\n",
       "    </tr>\n",
       "    <tr>\n",
       "      <th>3</th>\n",
       "      <td>hours_per_week</td>\n",
       "      <td>0.000000e+00</td>\n",
       "    </tr>\n",
       "    <tr>\n",
       "      <th>2</th>\n",
       "      <td>capital_loss</td>\n",
       "      <td>2.182812e-151</td>\n",
       "    </tr>\n",
       "  </tbody>\n",
       "</table>\n",
       "</div>"
      ],
      "text/plain": [
       "        Attribute        P_value\n",
       "0             age   0.000000e+00\n",
       "1    capital_gain   0.000000e+00\n",
       "3  hours_per_week   0.000000e+00\n",
       "2    capital_loss  2.182812e-151"
      ]
     },
     "execution_count": 31,
     "metadata": {},
     "output_type": "execute_result"
    }
   ],
   "source": [
    "# Initializing data frame for p-values from Chi-Square test\n",
    "p_vals = pd.DataFrame(columns=['Attribute', 'P_value'])\n",
    "\n",
    "for col in inc.select_dtypes(include='int64').columns.drop('income'):\n",
    "    print('\\t\\t\\t\\t\\t***** {} *****'.format(col.upper()))\n",
    "    # Plotting distributions of each column\n",
    "    plt.figure(figsize=(15,5))\n",
    "    plt.subplot(121)\n",
    "    sns.distplot(inc[col], color='Purple')\n",
    "    plt.title('Distribution of {}'.format(col))\n",
    "\n",
    "    # Plotting distributions of each column by income level\n",
    "    plt.subplot(122)\n",
    "    g = sns.boxplot(x='income', y=col, data=inc, palette='Set2_r')\n",
    "    g.set_xticklabels(['Under $50K', 'Over $50K'])\n",
    "    plt.title('Distribution of income by {}'.format(col))\n",
    "    #changing y-axis scale to log for capital gain and capital loss to better visualize distribution\n",
    "    if col in ['capital_gain','capital_loss']:\n",
    "        plt.yscale('log')\n",
    "    \n",
    "    plt.tight_layout()\n",
    "    plt.show()\n",
    "\n",
    "    # Calculating pvalues from t-test\n",
    "    t_val, p_val = ttest_ind(inc[inc['income']==0][col],\n",
    "                                inc[inc['income']==1][col])\n",
    "    p_vals = p_vals.append({'Attribute':col, 'P_value':float(p_val)}, ignore_index=True)\n",
    "    \n",
    "\n",
    "# Printing p-values of t-tests, sorted by p-values\n",
    "print('P-values from t-tests')\n",
    "p_vals.sort_values('P_value')"
   ]
  },
  {
   "cell_type": "markdown",
   "metadata": {},
   "source": [
    "According to the data, all of the continuous variables have significant differences (p-value <0.05) between the distributions of high and low incomes.  Additionally, there are a number of observations we can make from these boxplots:\n",
    "- Older people are more likely to earn more than \\$50,000\n",
    "- Most people had zero capital gains and capital losses\n",
    "- The majority of people worked just over 40 hours per week\n",
    "- People who earned more than \\$50,000 worked, on average, longer than 40 hours per week\n",
    "\n",
    "One assumption of the models I am going to develop is that continuous features are normally distributed.  Based on the plots above:\n",
    "- Age is slightly skewed right with a tail contining older people in the population.  This is also likely because all people younger than 16 were not included in the data set in the first place.  \n",
    "- Capital gains and capital losses are both strongly skewed right.  Because of this skew, I will use the values as is and also bin the values into categories and determine how this impacts model accuracy.\n",
    "- Hours per week is centered around 40, a left skew of spikes on either side of the center.\n",
    "\n",
    "Based on these observations, I will need to engineer age, capital gains, and hours per week to be normally distributed.\n",
    "\n",
    "## Feature Selection and Engineering\n",
    "Next, I will use all potential features from this data set to select features to include in our modeling.  "
   ]
  },
  {
   "cell_type": "code",
   "execution_count": 32,
   "metadata": {},
   "outputs": [
    {
     "data": {
      "text/html": [
       "<div>\n",
       "<style scoped>\n",
       "    .dataframe tbody tr th:only-of-type {\n",
       "        vertical-align: middle;\n",
       "    }\n",
       "\n",
       "    .dataframe tbody tr th {\n",
       "        vertical-align: top;\n",
       "    }\n",
       "\n",
       "    .dataframe thead th {\n",
       "        text-align: right;\n",
       "    }\n",
       "</style>\n",
       "<table border=\"1\" class=\"dataframe\">\n",
       "  <thead>\n",
       "    <tr style=\"text-align: right;\">\n",
       "      <th></th>\n",
       "      <th>workclass_Government</th>\n",
       "      <th>workclass_Not_working</th>\n",
       "      <th>workclass_Private</th>\n",
       "      <th>workclass_Self_employed</th>\n",
       "      <th>education_Advanced-degree</th>\n",
       "      <th>education_Bachelors</th>\n",
       "      <th>education_Dropout</th>\n",
       "      <th>education_HS-grad</th>\n",
       "      <th>education_Some-college</th>\n",
       "      <th>marital_status_Married</th>\n",
       "      <th>...</th>\n",
       "      <th>occupation_Tech-support</th>\n",
       "      <th>occupation_Transport-moving</th>\n",
       "      <th>race_Non-White</th>\n",
       "      <th>race_White</th>\n",
       "      <th>sex_Female</th>\n",
       "      <th>sex_Male</th>\n",
       "      <th>native_country_Asia</th>\n",
       "      <th>native_country_Europe</th>\n",
       "      <th>native_country_Latin_Am</th>\n",
       "      <th>native_country_United_States</th>\n",
       "    </tr>\n",
       "  </thead>\n",
       "  <tbody>\n",
       "    <tr>\n",
       "      <th>0</th>\n",
       "      <td>1</td>\n",
       "      <td>0</td>\n",
       "      <td>0</td>\n",
       "      <td>0</td>\n",
       "      <td>0</td>\n",
       "      <td>1</td>\n",
       "      <td>0</td>\n",
       "      <td>0</td>\n",
       "      <td>0</td>\n",
       "      <td>0</td>\n",
       "      <td>...</td>\n",
       "      <td>0</td>\n",
       "      <td>0</td>\n",
       "      <td>0</td>\n",
       "      <td>1</td>\n",
       "      <td>0</td>\n",
       "      <td>1</td>\n",
       "      <td>0</td>\n",
       "      <td>0</td>\n",
       "      <td>0</td>\n",
       "      <td>1</td>\n",
       "    </tr>\n",
       "    <tr>\n",
       "      <th>1</th>\n",
       "      <td>0</td>\n",
       "      <td>0</td>\n",
       "      <td>0</td>\n",
       "      <td>1</td>\n",
       "      <td>0</td>\n",
       "      <td>1</td>\n",
       "      <td>0</td>\n",
       "      <td>0</td>\n",
       "      <td>0</td>\n",
       "      <td>1</td>\n",
       "      <td>...</td>\n",
       "      <td>0</td>\n",
       "      <td>0</td>\n",
       "      <td>0</td>\n",
       "      <td>1</td>\n",
       "      <td>0</td>\n",
       "      <td>1</td>\n",
       "      <td>0</td>\n",
       "      <td>0</td>\n",
       "      <td>0</td>\n",
       "      <td>1</td>\n",
       "    </tr>\n",
       "    <tr>\n",
       "      <th>2</th>\n",
       "      <td>0</td>\n",
       "      <td>0</td>\n",
       "      <td>1</td>\n",
       "      <td>0</td>\n",
       "      <td>0</td>\n",
       "      <td>0</td>\n",
       "      <td>0</td>\n",
       "      <td>1</td>\n",
       "      <td>0</td>\n",
       "      <td>0</td>\n",
       "      <td>...</td>\n",
       "      <td>0</td>\n",
       "      <td>0</td>\n",
       "      <td>0</td>\n",
       "      <td>1</td>\n",
       "      <td>0</td>\n",
       "      <td>1</td>\n",
       "      <td>0</td>\n",
       "      <td>0</td>\n",
       "      <td>0</td>\n",
       "      <td>1</td>\n",
       "    </tr>\n",
       "    <tr>\n",
       "      <th>3</th>\n",
       "      <td>0</td>\n",
       "      <td>0</td>\n",
       "      <td>1</td>\n",
       "      <td>0</td>\n",
       "      <td>0</td>\n",
       "      <td>0</td>\n",
       "      <td>1</td>\n",
       "      <td>0</td>\n",
       "      <td>0</td>\n",
       "      <td>1</td>\n",
       "      <td>...</td>\n",
       "      <td>0</td>\n",
       "      <td>0</td>\n",
       "      <td>1</td>\n",
       "      <td>0</td>\n",
       "      <td>0</td>\n",
       "      <td>1</td>\n",
       "      <td>0</td>\n",
       "      <td>0</td>\n",
       "      <td>0</td>\n",
       "      <td>1</td>\n",
       "    </tr>\n",
       "    <tr>\n",
       "      <th>4</th>\n",
       "      <td>0</td>\n",
       "      <td>0</td>\n",
       "      <td>1</td>\n",
       "      <td>0</td>\n",
       "      <td>0</td>\n",
       "      <td>1</td>\n",
       "      <td>0</td>\n",
       "      <td>0</td>\n",
       "      <td>0</td>\n",
       "      <td>1</td>\n",
       "      <td>...</td>\n",
       "      <td>0</td>\n",
       "      <td>0</td>\n",
       "      <td>1</td>\n",
       "      <td>0</td>\n",
       "      <td>1</td>\n",
       "      <td>0</td>\n",
       "      <td>0</td>\n",
       "      <td>0</td>\n",
       "      <td>1</td>\n",
       "      <td>0</td>\n",
       "    </tr>\n",
       "  </tbody>\n",
       "</table>\n",
       "<p>5 rows × 34 columns</p>\n",
       "</div>"
      ],
      "text/plain": [
       "   workclass_Government  workclass_Not_working  workclass_Private  \\\n",
       "0                     1                      0                  0   \n",
       "1                     0                      0                  0   \n",
       "2                     0                      0                  1   \n",
       "3                     0                      0                  1   \n",
       "4                     0                      0                  1   \n",
       "\n",
       "   workclass_Self_employed  education_Advanced-degree  education_Bachelors  \\\n",
       "0                        0                          0                    1   \n",
       "1                        1                          0                    1   \n",
       "2                        0                          0                    0   \n",
       "3                        0                          0                    0   \n",
       "4                        0                          0                    1   \n",
       "\n",
       "   education_Dropout  education_HS-grad  education_Some-college  \\\n",
       "0                  0                  0                       0   \n",
       "1                  0                  0                       0   \n",
       "2                  0                  1                       0   \n",
       "3                  1                  0                       0   \n",
       "4                  0                  0                       0   \n",
       "\n",
       "   marital_status_Married              ...               \\\n",
       "0                       0              ...                \n",
       "1                       1              ...                \n",
       "2                       0              ...                \n",
       "3                       1              ...                \n",
       "4                       1              ...                \n",
       "\n",
       "   occupation_Tech-support  occupation_Transport-moving  race_Non-White  \\\n",
       "0                        0                            0               0   \n",
       "1                        0                            0               0   \n",
       "2                        0                            0               0   \n",
       "3                        0                            0               1   \n",
       "4                        0                            0               1   \n",
       "\n",
       "   race_White  sex_Female  sex_Male  native_country_Asia  \\\n",
       "0           1           0         1                    0   \n",
       "1           1           0         1                    0   \n",
       "2           1           0         1                    0   \n",
       "3           0           0         1                    0   \n",
       "4           0           1         0                    0   \n",
       "\n",
       "   native_country_Europe  native_country_Latin_Am  \\\n",
       "0                      0                        0   \n",
       "1                      0                        0   \n",
       "2                      0                        0   \n",
       "3                      0                        0   \n",
       "4                      0                        1   \n",
       "\n",
       "   native_country_United_States  \n",
       "0                             1  \n",
       "1                             1  \n",
       "2                             1  \n",
       "3                             1  \n",
       "4                             0  \n",
       "\n",
       "[5 rows x 34 columns]"
      ]
     },
     "execution_count": 32,
     "metadata": {},
     "output_type": "execute_result"
    }
   ],
   "source": [
    "# Creating dummy variables for categorical features\n",
    "dummies = pd.get_dummies(inc.select_dtypes(include='object'))\n",
    "dummies.head()"
   ]
  },
  {
   "cell_type": "markdown",
   "metadata": {},
   "source": [
    "Now that I have a basic set of dummy features for categorical variables, I need to ensure that the age and hours per week variables are normally distributed.  To do this, I will create a four-panel plot for each to transform each variable through log, square root, and cube root, and plotting the histograms of these values to determine which transformation is most normally distributed. "
   ]
  },
  {
   "cell_type": "code",
   "execution_count": 33,
   "metadata": {},
   "outputs": [
    {
     "name": "stdout",
     "output_type": "stream",
     "text": [
      "\t\t*****Four-panel Plot for age*****\n"
     ]
    },
    {
     "data": {
      "image/png": "[encoded data removed]",
      "text/plain": [
       "<matplotlib.figure.Figure at 0x105baa7b8>"
      ]
     },
     "metadata": {},
     "output_type": "display_data"
    },
    {
     "name": "stdout",
     "output_type": "stream",
     "text": [
      "\t\t*****Four-panel Plot for hours_per_week*****\n"
     ]
    },
    {
     "data": {
      "image/png": "[encoded data removed]",
      "text/plain": [
       "<matplotlib.figure.Figure at 0x1141ee898>"
      ]
     },
     "metadata": {},
     "output_type": "display_data"
    }
   ],
   "source": [
    "# Making a four-panel plot for each continuous variable\n",
    "for col in ['age', 'hours_per_week']:\n",
    "    print('\\t\\t*****Four-panel Plot for {}*****'.format(col))\n",
    "    plt.figure(figsize=(7,7))\n",
    "    \n",
    "    plt.subplot(221)\n",
    "    plt.hist(inc[col])\n",
    "    plt.title('Raw')\n",
    "    \n",
    "    plt.subplot(222)\n",
    "    plt.hist(np.log(inc[col]))\n",
    "    plt.title('Log')\n",
    "    \n",
    "    plt.subplot(223)\n",
    "    plt.hist(np.sqrt(inc[col]))\n",
    "    plt.title('Square root')\n",
    "    \n",
    "    plt.subplot(224)\n",
    "    plt.hist(inc[col]**(1/3))\n",
    "    plt.title('Cube root')\n",
    "    plt.tight_layout()\n",
    "    plt.show()"
   ]
  },
  {
   "cell_type": "markdown",
   "metadata": {},
   "source": [
    "According to the data, the log of age and the raw data for hours per week appear most normally distributed.  I will construct a new feature that is the log of the age of the person, and include the raw hours per week as a feature as well. "
   ]
  },
  {
   "cell_type": "code",
   "execution_count": 34,
   "metadata": {},
   "outputs": [],
   "source": [
    "# Constructing new features data frame\n",
    "features = pd.DataFrame()\n",
    "# Starting with target column\n",
    "features['income'] = inc['income']\n",
    "# Adding in new features \n",
    "features['log_age'] = np.log(inc['age'])\n",
    "features['hours_per_week'] = inc['hours_per_week']"
   ]
  },
  {
   "cell_type": "markdown",
   "metadata": {},
   "source": [
    "Now I need to address capital gains and capital losses.  I will engineer two features for these and then check to see which has more significant differences between higher or lower income values.  The two features will be net capital gains, where I will subtract capital losses from capital gains, and the I will turn this new feature into categories, including negative (capital losses), net neutral capital gains, positive capital gains, and highly positive capital gains. "
   ]
  },
  {
   "cell_type": "code",
   "execution_count": 35,
   "metadata": {},
   "outputs": [
    {
     "data": {
      "text/plain": [
       "Neut            26197\n",
       "HighPositive     1566\n",
       "Neg              1427\n",
       "Postive           972\n",
       "Name: net_cap_gains_cat, dtype: int64"
      ]
     },
     "execution_count": 35,
     "metadata": {},
     "output_type": "execute_result"
    }
   ],
   "source": [
    "# Constructing Net Capital Gains feature\n",
    "features['net_cap_gains'] = inc.capital_gain - inc.capital_loss\n",
    "\n",
    "# Turning capital gains feature into categorical with negative, neutral, positive, and highly positive buckets\n",
    "custom_buckets = [-5000, -1, 0, 5000, 100000]\n",
    "features['net_cap_gains_cat'] = pd.cut(features.net_cap_gains, custom_buckets, \n",
    "                                       labels=['Neg','Neut','Postive', 'HighPositive'])\n",
    "features.net_cap_gains_cat.value_counts()"
   ]
  },
  {
   "cell_type": "markdown",
   "metadata": {},
   "source": [
    "Now that I've engineered new features for this data, I will return to exploring the data to ensure that there are significant differences in each feature  between the high and low income groups. "
   ]
  },
  {
   "cell_type": "code",
   "execution_count": 36,
   "metadata": {
    "scrolled": false
   },
   "outputs": [
    {
     "name": "stdout",
     "output_type": "stream",
     "text": [
      "\t\t\t\t\t***** LOG_AGE *****\n"
     ]
    },
    {
     "data": {
      "image/png": "[encoded data removed]",
      "text/plain": [
       "<matplotlib.figure.Figure at 0x113ddc320>"
      ]
     },
     "metadata": {},
     "output_type": "display_data"
    },
    {
     "name": "stdout",
     "output_type": "stream",
     "text": [
      "\t\t\t\t\t***** HOURS_PER_WEEK *****\n"
     ]
    },
    {
     "data": {
      "image/png": "[encoded data removed]",
      "text/plain": [
       "<matplotlib.figure.Figure at 0x113e2e748>"
      ]
     },
     "metadata": {},
     "output_type": "display_data"
    },
    {
     "name": "stdout",
     "output_type": "stream",
     "text": [
      "\t\t\t\t\t***** NET_CAP_GAINS *****\n"
     ]
    },
    {
     "data": {
      "image/png": "[encoded data removed]",
      "text/plain": [
       "<matplotlib.figure.Figure at 0x117362b70>"
      ]
     },
     "metadata": {},
     "output_type": "display_data"
    },
    {
     "name": "stdout",
     "output_type": "stream",
     "text": [
      "\t\t\t\t\t***** NET_CAP_GAINS_CAT *****\n"
     ]
    },
    {
     "data": {
      "image/png": "[encoded data removed]",
      "text/plain": [
       "<matplotlib.figure.Figure at 0x1157a74a8>"
      ]
     },
     "metadata": {},
     "output_type": "display_data"
    },
    {
     "name": "stdout",
     "output_type": "stream",
     "text": [
      "income                 0     1\n",
      "net_cap_gains_cat             \n",
      "Neg                  690   737\n",
      "Neut               21021  5176\n",
      "Postive              796   176\n",
      "HighPositive         147  1419\n"
     ]
    },
    {
     "data": {
      "text/html": [
       "<div>\n",
       "<style scoped>\n",
       "    .dataframe tbody tr th:only-of-type {\n",
       "        vertical-align: middle;\n",
       "    }\n",
       "\n",
       "    .dataframe tbody tr th {\n",
       "        vertical-align: top;\n",
       "    }\n",
       "\n",
       "    .dataframe thead th {\n",
       "        text-align: right;\n",
       "    }\n",
       "</style>\n",
       "<table border=\"1\" class=\"dataframe\">\n",
       "  <thead>\n",
       "    <tr style=\"text-align: right;\">\n",
       "      <th></th>\n",
       "      <th>Attribute</th>\n",
       "      <th>P_value</th>\n",
       "    </tr>\n",
       "  </thead>\n",
       "  <tbody>\n",
       "    <tr>\n",
       "      <th>0</th>\n",
       "      <td>log_age</td>\n",
       "      <td>0.000000e+00</td>\n",
       "    </tr>\n",
       "    <tr>\n",
       "      <th>1</th>\n",
       "      <td>hours_per_week</td>\n",
       "      <td>0.000000e+00</td>\n",
       "    </tr>\n",
       "    <tr>\n",
       "      <th>3</th>\n",
       "      <td>net_cap_gains_cat</td>\n",
       "      <td>0.000000e+00</td>\n",
       "    </tr>\n",
       "    <tr>\n",
       "      <th>2</th>\n",
       "      <td>net_cap_gains</td>\n",
       "      <td>1.775418e-304</td>\n",
       "    </tr>\n",
       "  </tbody>\n",
       "</table>\n",
       "</div>"
      ],
      "text/plain": [
       "           Attribute        P_value\n",
       "0            log_age   0.000000e+00\n",
       "1     hours_per_week   0.000000e+00\n",
       "3  net_cap_gains_cat   0.000000e+00\n",
       "2      net_cap_gains  1.775418e-304"
      ]
     },
     "execution_count": 36,
     "metadata": {},
     "output_type": "execute_result"
    }
   ],
   "source": [
    "# Initializing data frame for p-values from Chi-Square and t-tests\n",
    "p_vals = pd.DataFrame(columns=['Attribute', 'P_value'])\n",
    "\n",
    "for col in features.columns:\n",
    "    # Constructing count plots for categorical data\n",
    "    if col in features.select_dtypes(include='category').columns:\n",
    "        print('\\t\\t\\t\\t\\t***** {} *****'.format(col.upper()))\n",
    "        # Plotting counts of each column\n",
    "        plt.figure(figsize=(15,5))\n",
    "        plt.subplot(121)\n",
    "        sns.countplot(x=col, data=features, palette='Set2')\n",
    "        plt.title('Distribution of {}'.format(col))\n",
    "        plt.xticks(rotation=40)\n",
    "\n",
    "        # Plotting counts of each column by income level\n",
    "        plt.subplot(122)\n",
    "        g = sns.countplot(x=col, data=features, hue='income', palette='Set2_r')\n",
    "        g.legend(['Under $50K', 'Over $50K'])\n",
    "        plt.title('Distribution of income by {}'.format(col))\n",
    "        plt.xticks(rotation=40)\n",
    "    \n",
    "        plt.tight_layout()\n",
    "        plt.show()\n",
    "\n",
    "        # Creating cross tabulated data for Chi-square test\n",
    "        counttable = pd.crosstab(features[col], features['income'])\n",
    "        print(counttable)\n",
    "        chi2, p, dof, ex = chi2_contingency(counttable, correction=False)\n",
    "        p_vals = p_vals.append({'Attribute':col, 'P_value':float(p)}, ignore_index=True)\n",
    "    \n",
    "    # Constructing histograms and boxplots for continuous data\n",
    "    elif col in features.select_dtypes(include=['int64','float64']).columns.drop('income'):\n",
    "        print('\\t\\t\\t\\t\\t***** {} *****'.format(col.upper()))\n",
    "        # Plotting distributions of each column\n",
    "        plt.figure(figsize=(15,5))\n",
    "        plt.subplot(121)\n",
    "        sns.distplot(features[col], color='Purple')\n",
    "        plt.title('Distribution of {}'.format(col))\n",
    "\n",
    "        # Plotting distributions of each column by income level\n",
    "        plt.subplot(122)\n",
    "        g = sns.boxplot(x='income', y=col, data=features, palette='Set2_r')\n",
    "        g.set_xticklabels(['Under $50K', 'Over $50K'])\n",
    "        plt.title('Distribution of income by {}'.format(col))\n",
    "    \n",
    "        plt.tight_layout()\n",
    "        plt.show()\n",
    "\n",
    "        # Calculating pvalues from t-test\n",
    "        t_val, p_val = ttest_ind(features[features['income']==0][col],\n",
    "                                features[features['income']==1][col])\n",
    "        p_vals = p_vals.append({'Attribute':col, 'P_value':float(p_val)}, ignore_index=True)\n",
    "    \n",
    "\n",
    "# Printing p-values of Chi-squared tests, sorted by p-values\n",
    "p_vals.sort_values('P_value')"
   ]
  },
  {
   "cell_type": "markdown",
   "metadata": {},
   "source": [
    "From this analysis, all of the p-values for the chi-square or t-tests are significant, with p-values of less than 0.05, and most p-values are 0.00.  Other insights from the data include:\n",
    "- Log age is more normally distributed, and still has significant differences between the income of older and younger people.\n",
    "- From the count plot for categorical capital gains, those people with highly positive capital gains are more likely to have an income of greater than \\$50,000, and those with net negative capital gains have an about equal likelihood of having an income greater than \\$50,000. These insights were hidden in the continuous data.  Additionally, the p-value for the categorical net capital gains is 0.00 whereas the p-value for the continuous data is still highly significant, but greater than 0.00.  For this reason, and based on the count plots, I should keep the categorical values of capital gains, and remove the continuous column.  "
   ]
  },
  {
   "cell_type": "code",
   "execution_count": 37,
   "metadata": {},
   "outputs": [
    {
     "data": {
      "text/html": [
       "<div>\n",
       "<style scoped>\n",
       "    .dataframe tbody tr th:only-of-type {\n",
       "        vertical-align: middle;\n",
       "    }\n",
       "\n",
       "    .dataframe tbody tr th {\n",
       "        vertical-align: top;\n",
       "    }\n",
       "\n",
       "    .dataframe thead th {\n",
       "        text-align: right;\n",
       "    }\n",
       "</style>\n",
       "<table border=\"1\" class=\"dataframe\">\n",
       "  <thead>\n",
       "    <tr style=\"text-align: right;\">\n",
       "      <th></th>\n",
       "      <th>Neg</th>\n",
       "      <th>Neut</th>\n",
       "      <th>Postive</th>\n",
       "      <th>HighPositive</th>\n",
       "    </tr>\n",
       "  </thead>\n",
       "  <tbody>\n",
       "    <tr>\n",
       "      <th>0</th>\n",
       "      <td>0</td>\n",
       "      <td>0</td>\n",
       "      <td>1</td>\n",
       "      <td>0</td>\n",
       "    </tr>\n",
       "    <tr>\n",
       "      <th>1</th>\n",
       "      <td>0</td>\n",
       "      <td>1</td>\n",
       "      <td>0</td>\n",
       "      <td>0</td>\n",
       "    </tr>\n",
       "    <tr>\n",
       "      <th>2</th>\n",
       "      <td>0</td>\n",
       "      <td>1</td>\n",
       "      <td>0</td>\n",
       "      <td>0</td>\n",
       "    </tr>\n",
       "    <tr>\n",
       "      <th>3</th>\n",
       "      <td>0</td>\n",
       "      <td>1</td>\n",
       "      <td>0</td>\n",
       "      <td>0</td>\n",
       "    </tr>\n",
       "    <tr>\n",
       "      <th>4</th>\n",
       "      <td>0</td>\n",
       "      <td>1</td>\n",
       "      <td>0</td>\n",
       "      <td>0</td>\n",
       "    </tr>\n",
       "  </tbody>\n",
       "</table>\n",
       "</div>"
      ],
      "text/plain": [
       "   Neg  Neut  Postive  HighPositive\n",
       "0    0     0        1             0\n",
       "1    0     1        0             0\n",
       "2    0     1        0             0\n",
       "3    0     1        0             0\n",
       "4    0     1        0             0"
      ]
     },
     "execution_count": 37,
     "metadata": {},
     "output_type": "execute_result"
    }
   ],
   "source": [
    "# Removing the continuous net capital gains column\n",
    "features = features.drop('net_cap_gains', axis=1)\n",
    "\n",
    "# Creating dummy columns for categorical net capital gains\n",
    "dummies2 = pd.get_dummies(features.net_cap_gains_cat)\n",
    "dummies2.head()"
   ]
  },
  {
   "cell_type": "markdown",
   "metadata": {},
   "source": [
    "Next, I need to ensure that the potential features are independent from one another.  To visualize and determine this independence between continuous variables, I will use a correlation matrix and heatmap.  "
   ]
  },
  {
   "cell_type": "code",
   "execution_count": 38,
   "metadata": {
    "scrolled": true
   },
   "outputs": [
    {
     "data": {
      "image/png": "[encoded data removed]",
      "text/plain": [
       "<matplotlib.figure.Figure at 0x113db69b0>"
      ]
     },
     "metadata": {},
     "output_type": "display_data"
    }
   ],
   "source": [
    "# Constructing Correlation Matrix\n",
    "corrmat = features.corr()\n",
    "# Setting up heatmap\n",
    "sns.heatmap(corrmat)\n",
    "plt.show()"
   ]
  },
  {
   "cell_type": "markdown",
   "metadata": {},
   "source": [
    "This is great, according to the data, the continuous variables are independent from one another.  Most models assume that all features are independent from one another, which this confirms. Now I need to combine the features data frame with the two dummy data frames, then I will be ready for modeling!  "
   ]
  },
  {
   "cell_type": "code",
   "execution_count": 39,
   "metadata": {
    "scrolled": true
   },
   "outputs": [
    {
     "data": {
      "text/html": [
       "<div>\n",
       "<style scoped>\n",
       "    .dataframe tbody tr th:only-of-type {\n",
       "        vertical-align: middle;\n",
       "    }\n",
       "\n",
       "    .dataframe tbody tr th {\n",
       "        vertical-align: top;\n",
       "    }\n",
       "\n",
       "    .dataframe thead th {\n",
       "        text-align: right;\n",
       "    }\n",
       "</style>\n",
       "<table border=\"1\" class=\"dataframe\">\n",
       "  <thead>\n",
       "    <tr style=\"text-align: right;\">\n",
       "      <th></th>\n",
       "      <th>income</th>\n",
       "      <th>log_age</th>\n",
       "      <th>hours_per_week</th>\n",
       "      <th>workclass_Government</th>\n",
       "      <th>workclass_Not_working</th>\n",
       "      <th>workclass_Private</th>\n",
       "      <th>workclass_Self_employed</th>\n",
       "      <th>education_Advanced-degree</th>\n",
       "      <th>education_Bachelors</th>\n",
       "      <th>education_Dropout</th>\n",
       "      <th>...</th>\n",
       "      <th>sex_Female</th>\n",
       "      <th>sex_Male</th>\n",
       "      <th>native_country_Asia</th>\n",
       "      <th>native_country_Europe</th>\n",
       "      <th>native_country_Latin_Am</th>\n",
       "      <th>native_country_United_States</th>\n",
       "      <th>Neg</th>\n",
       "      <th>Neut</th>\n",
       "      <th>Postive</th>\n",
       "      <th>HighPositive</th>\n",
       "    </tr>\n",
       "  </thead>\n",
       "  <tbody>\n",
       "    <tr>\n",
       "      <th>0</th>\n",
       "      <td>0</td>\n",
       "      <td>3.663562</td>\n",
       "      <td>40</td>\n",
       "      <td>1</td>\n",
       "      <td>0</td>\n",
       "      <td>0</td>\n",
       "      <td>0</td>\n",
       "      <td>0</td>\n",
       "      <td>1</td>\n",
       "      <td>0</td>\n",
       "      <td>...</td>\n",
       "      <td>0</td>\n",
       "      <td>1</td>\n",
       "      <td>0</td>\n",
       "      <td>0</td>\n",
       "      <td>0</td>\n",
       "      <td>1</td>\n",
       "      <td>0</td>\n",
       "      <td>0</td>\n",
       "      <td>1</td>\n",
       "      <td>0</td>\n",
       "    </tr>\n",
       "    <tr>\n",
       "      <th>1</th>\n",
       "      <td>0</td>\n",
       "      <td>3.912023</td>\n",
       "      <td>13</td>\n",
       "      <td>0</td>\n",
       "      <td>0</td>\n",
       "      <td>0</td>\n",
       "      <td>1</td>\n",
       "      <td>0</td>\n",
       "      <td>1</td>\n",
       "      <td>0</td>\n",
       "      <td>...</td>\n",
       "      <td>0</td>\n",
       "      <td>1</td>\n",
       "      <td>0</td>\n",
       "      <td>0</td>\n",
       "      <td>0</td>\n",
       "      <td>1</td>\n",
       "      <td>0</td>\n",
       "      <td>1</td>\n",
       "      <td>0</td>\n",
       "      <td>0</td>\n",
       "    </tr>\n",
       "    <tr>\n",
       "      <th>2</th>\n",
       "      <td>0</td>\n",
       "      <td>3.637586</td>\n",
       "      <td>40</td>\n",
       "      <td>0</td>\n",
       "      <td>0</td>\n",
       "      <td>1</td>\n",
       "      <td>0</td>\n",
       "      <td>0</td>\n",
       "      <td>0</td>\n",
       "      <td>0</td>\n",
       "      <td>...</td>\n",
       "      <td>0</td>\n",
       "      <td>1</td>\n",
       "      <td>0</td>\n",
       "      <td>0</td>\n",
       "      <td>0</td>\n",
       "      <td>1</td>\n",
       "      <td>0</td>\n",
       "      <td>1</td>\n",
       "      <td>0</td>\n",
       "      <td>0</td>\n",
       "    </tr>\n",
       "    <tr>\n",
       "      <th>3</th>\n",
       "      <td>0</td>\n",
       "      <td>3.970292</td>\n",
       "      <td>40</td>\n",
       "      <td>0</td>\n",
       "      <td>0</td>\n",
       "      <td>1</td>\n",
       "      <td>0</td>\n",
       "      <td>0</td>\n",
       "      <td>0</td>\n",
       "      <td>1</td>\n",
       "      <td>...</td>\n",
       "      <td>0</td>\n",
       "      <td>1</td>\n",
       "      <td>0</td>\n",
       "      <td>0</td>\n",
       "      <td>0</td>\n",
       "      <td>1</td>\n",
       "      <td>0</td>\n",
       "      <td>1</td>\n",
       "      <td>0</td>\n",
       "      <td>0</td>\n",
       "    </tr>\n",
       "    <tr>\n",
       "      <th>4</th>\n",
       "      <td>0</td>\n",
       "      <td>3.332205</td>\n",
       "      <td>40</td>\n",
       "      <td>0</td>\n",
       "      <td>0</td>\n",
       "      <td>1</td>\n",
       "      <td>0</td>\n",
       "      <td>0</td>\n",
       "      <td>1</td>\n",
       "      <td>0</td>\n",
       "      <td>...</td>\n",
       "      <td>1</td>\n",
       "      <td>0</td>\n",
       "      <td>0</td>\n",
       "      <td>0</td>\n",
       "      <td>1</td>\n",
       "      <td>0</td>\n",
       "      <td>0</td>\n",
       "      <td>1</td>\n",
       "      <td>0</td>\n",
       "      <td>0</td>\n",
       "    </tr>\n",
       "  </tbody>\n",
       "</table>\n",
       "<p>5 rows × 41 columns</p>\n",
       "</div>"
      ],
      "text/plain": [
       "   income   log_age  hours_per_week  workclass_Government  \\\n",
       "0       0  3.663562              40                     1   \n",
       "1       0  3.912023              13                     0   \n",
       "2       0  3.637586              40                     0   \n",
       "3       0  3.970292              40                     0   \n",
       "4       0  3.332205              40                     0   \n",
       "\n",
       "   workclass_Not_working  workclass_Private  workclass_Self_employed  \\\n",
       "0                      0                  0                        0   \n",
       "1                      0                  0                        1   \n",
       "2                      0                  1                        0   \n",
       "3                      0                  1                        0   \n",
       "4                      0                  1                        0   \n",
       "\n",
       "   education_Advanced-degree  education_Bachelors  education_Dropout  \\\n",
       "0                          0                    1                  0   \n",
       "1                          0                    1                  0   \n",
       "2                          0                    0                  0   \n",
       "3                          0                    0                  1   \n",
       "4                          0                    1                  0   \n",
       "\n",
       "       ...       sex_Female  sex_Male  native_country_Asia  \\\n",
       "0      ...                0         1                    0   \n",
       "1      ...                0         1                    0   \n",
       "2      ...                0         1                    0   \n",
       "3      ...                0         1                    0   \n",
       "4      ...                1         0                    0   \n",
       "\n",
       "   native_country_Europe  native_country_Latin_Am  \\\n",
       "0                      0                        0   \n",
       "1                      0                        0   \n",
       "2                      0                        0   \n",
       "3                      0                        0   \n",
       "4                      0                        1   \n",
       "\n",
       "   native_country_United_States  Neg  Neut  Postive  HighPositive  \n",
       "0                             1    0     0        1             0  \n",
       "1                             1    0     1        0             0  \n",
       "2                             1    0     1        0             0  \n",
       "3                             1    0     1        0             0  \n",
       "4                             0    0     1        0             0  \n",
       "\n",
       "[5 rows x 41 columns]"
      ]
     },
     "execution_count": 39,
     "metadata": {},
     "output_type": "execute_result"
    }
   ],
   "source": [
    "# Joining categorical and continuous features together in one data frame\n",
    "features = pd.concat([features.drop('net_cap_gains_cat',axis=1), dummies, dummies2], axis=1)\n",
    "features.head()"
   ]
  },
  {
   "cell_type": "markdown",
   "metadata": {},
   "source": [
    "## Modeling\n",
    "\n",
    "Before beginning to model, I need to identify variables, and split the data into train and test sets for cross validation.  Because my analysis revealed that there were more people who earned over \\$50,000 than under, I have a class imablance that could possibly skew the accuracy results of the modeling. I will under sample the training set to reduce the class imbalance in our target outcome. I will leave the test set as-is to ensure that I am testing the models on a fresh set of data."
   ]
  },
  {
   "cell_type": "code",
   "execution_count": 40,
   "metadata": {},
   "outputs": [
    {
     "name": "stdout",
     "output_type": "stream",
     "text": [
      "Raw Training Set Percent Under $50,000: 75.1%\n",
      "Resampled Training Set Percent Under $50,000: 50.0%\n"
     ]
    }
   ],
   "source": [
    "# Identify variables\n",
    "X = features.drop('income', axis=1)\n",
    "y = features.income\n",
    "\n",
    "# Splitting into train and test sets\n",
    "X_train, X_test, y_train, y_test = train_test_split(X, y, test_size=0.25, random_state=42)\n",
    "\n",
    "#Under sampling \n",
    "from imblearn.under_sampling import RandomUnderSampler\n",
    "\n",
    "rus = RandomUnderSampler(random_state=42)\n",
    "X_rus, y_rus = rus.fit_sample(X=X_train, y=y_train)\n",
    "\n",
    "print('Raw Training Set Percent Under $50,000: {:.1f}%'.format(\n",
    "    len(y_train[y_train == 0])/len(y_train)*100))\n",
    "print('Resampled Training Set Percent Under $50,000: {}%'.format(\n",
    "    len(y_rus[y_rus == 0])/len(y_rus)*100))"
   ]
  },
  {
   "cell_type": "markdown",
   "metadata": {},
   "source": [
    "### Logistic Regression\n",
    "\n",
    "To begin predicting whether a person's income is greater or less than \\$50,000, I will start by using a logistic regression model.  This model will be useful because we can use the logged odds from the results of the model to be able to interpret the results into meaningful, actionable results.  \n",
    "\n",
    "I will start by instantiating and fitting the model using default values.  I will fit the model using the training set, and then test the model's accuracy using the test set.  Because there is no real cost in improperly labeling a person as having an income of over or under \\$50,000, I will use the default accuracy score to assess how well the model predicted the data.  I will also use receiver operating characteristic area under the curve (ROC AUC) score as an additional evaluation metric to assess the test set because the test set is unbalanced and this will provide a better evaluation of the model's accuracy."
   ]
  },
  {
   "cell_type": "code",
   "execution_count": 41,
   "metadata": {},
   "outputs": [
    {
     "name": "stdout",
     "output_type": "stream",
     "text": [
      "Default Logistic Regression Model\n",
      "Cross Validation Accuracy Scores - Training Set: 0.81631(+/- 0.01)\n",
      "Cross Validation Accuracy Scores - Test Set: 0.85280(+/- 0.02)\n",
      "Cross Validation ROC AUC Scores - Test Set: 0.90484(+/- 0.01)\n"
     ]
    }
   ],
   "source": [
    "# Instantiating and fitting logistic regression\n",
    "print('Default Logistic Regression Model')\n",
    "logR = LogisticRegression(random_state=42)\n",
    "logR.fit(X_rus, y_rus)\n",
    "\n",
    "# Calculating and reporting scores from cross validation to +/- 2 standard deviations from the mean\n",
    "scores_logR1 = cross_val_score(logR, X_rus, y_rus, cv=10)\n",
    "print('Cross Validation Accuracy Scores - Training Set: {:.5f}(+/- {:.2f})'.format(scores_logR1.mean(), \n",
    "                                                                                 scores_logR1.std()*2))\n",
    "scores_logR1t = cross_val_score(logR, X_test, y_test, cv=10)\n",
    "print('Cross Validation Accuracy Scores - Test Set: {:.5f}(+/- {:.2f})'.format(scores_logR1t.mean(), \n",
    "                                                                                 scores_logR1t.std()*2))\n",
    "\n",
    "y_pred = logR.predict_proba(X_test)\n",
    "roc_auc_logR1t = cross_val_score(logR, X_test, y_test, cv=10, scoring='roc_auc')\n",
    "print('Cross Validation ROC AUC Scores - Test Set: {:.5f}(+/- {:.2f})'.format(roc_auc_logR1t.mean(), \n",
    "                                                                                 roc_auc_logR1t.std()*2))"
   ]
  },
  {
   "cell_type": "markdown",
   "metadata": {},
   "source": [
    "This is a pretty good first model! The default values from logistic regression was able to explain the variance in 85 (+/- 2)% of the test set.  This is a fairly small range of two standard deviations from the mean, which means that the scores from the 10 folds of cross validation are all close together.  The ROC score is also above 0.90, which means that the overall rate of true positive predictions is much higher than the rate of false positive predictions. \n",
    "\n",
    "#### Logistic Regression Optimization\n",
    "Now, let's see if I can improve the overall accuracy of the model through optimizing the parameters by using Grid Search with cross validation. I will optimize the C, or the regularization parameter; the solver, which is the algorithm used in the optimization;, and the penalty, as L1 (LASSO) or L2 (Ridge) regression.  In each instance, I want to add an intercept to the decision function."
   ]
  },
  {
   "cell_type": "code",
   "execution_count": 42,
   "metadata": {},
   "outputs": [
    {
     "name": "stdout",
     "output_type": "stream",
     "text": [
      "Best Score: 0.9025561640617846\n",
      "Best Parameters: {'C': 100, 'fit_intercept': True, 'solver': 'newton-cg'}\n"
     ]
    }
   ],
   "source": [
    "# Set of parameters to test in Grid Search\n",
    "parameters = [{'C':[0.1,1,10,100,500,800], 'solver':['lbfgs'], 'fit_intercept':[True]},\n",
    "              {'C':[0.1,1,10,100,500,800], 'solver':['newton-cg'], 'fit_intercept':[True]},\n",
    "              {'C':[0.1,1,10,100,500,800,1000], 'solver':['liblinear'], 'penalty':['l1', 'l2'], 'fit_intercept':[True]}]\n",
    "# Instantiating and fitting model through grid search\n",
    "grid_logR = GridSearchCV(logR, param_grid=parameters, scoring='roc_auc')\n",
    "grid_logR.fit(X_rus, y_rus)\n",
    "\n",
    "# Printing the best score from the model\n",
    "print('Best Score:', grid_logR.best_score_)\n",
    "\n",
    "# Saving and printing the best parameters from the model\n",
    "best_params = grid_logR.best_params_\n",
    "print('Best Parameters:', best_params)"
   ]
  },
  {
   "cell_type": "markdown",
   "metadata": {},
   "source": [
    "It appears that this best score is approximately the same as the accuracy score from the default logistic regression model.  Using these new best parameters, let's fit another logistic regression model and test to see how these parameters in the model impact the training and test set accuracies. "
   ]
  },
  {
   "cell_type": "code",
   "execution_count": 44,
   "metadata": {},
   "outputs": [
    {
     "name": "stdout",
     "output_type": "stream",
     "text": [
      "Cross Validation Accuracy Scores - Training Set: 0.81631(+/- 0.01)\n",
      "Cross Validation Accuracy Scores - Test Set: 0.85320(+/- 0.01)\n",
      "Cross Validation ROC AUC Scores - Test Set: 0.90499(+/- 0.01)\n"
     ]
    }
   ],
   "source": [
    "logR2 = LogisticRegression(**best_params, random_state=42)\n",
    "logR2.fit(X_rus, y_rus)\n",
    "\n",
    "scores_logR2 = cross_val_score(logR2, X_rus, y_rus, cv=10)\n",
    "print('Cross Validation Accuracy Scores - Training Set: {:.5f}(+/- {:.2f})'.format(scores_logR2.mean(), \n",
    "                                                                                 scores_logR2.std()*2))\n",
    "scores_logR2t = cross_val_score(logR2, X_test, y_test, cv=10)\n",
    "print('Cross Validation Accuracy Scores - Test Set: {:.5f}(+/- {:.2f})'.format(scores_logR2t.mean(), \n",
    "                                                                                 scores_logR2t.std()*2))\n",
    "\n",
    "y_pred = logR2.predict_proba(X_test)\n",
    "roc_auc_logR2 = cross_val_score(logR2, X_test, y_test, cv=10, scoring='roc_auc')\n",
    "print('Cross Validation ROC AUC Scores - Test Set: {:.5f}(+/- {:.2f})'.format(roc_auc_logR2.mean(), \n",
    "                                                                                 roc_auc_logR2.std()*2))"
   ]
  },
  {
   "cell_type": "markdown",
   "metadata": {},
   "source": [
    "Wow! After optimization, the accuracy for the training set improved by 0.013%, and the ROC AUC score increased by 0.00013 as well. This doesn't seem like a lot, but it is still an improvement.  Let's take a look at what the coefficients and intercept values are for this model to then help us interpret what impacts the different demographic indicators have on income.  The logistic regression coefficients represent the log of the odds that the change in the feature makes.  To better interpret these values, I will take the exponentiated value of the coefficients to get the odds ratios of each piece of demographic data."
   ]
  },
  {
   "cell_type": "code",
   "execution_count": 45,
   "metadata": {},
   "outputs": [
    {
     "name": "stdout",
     "output_type": "stream",
     "text": [
      "log(Intercept): [-8.99095736]\n",
      "Intercept: [0.00012453]\n",
      "\n",
      "Features with the most impact on higher income levels\n"
     ]
    },
    {
     "data": {
      "text/html": [
       "<div>\n",
       "<style scoped>\n",
       "    .dataframe tbody tr th:only-of-type {\n",
       "        vertical-align: middle;\n",
       "    }\n",
       "\n",
       "    .dataframe tbody tr th {\n",
       "        vertical-align: top;\n",
       "    }\n",
       "\n",
       "    .dataframe thead th {\n",
       "        text-align: right;\n",
       "    }\n",
       "</style>\n",
       "<table border=\"1\" class=\"dataframe\">\n",
       "  <thead>\n",
       "    <tr style=\"text-align: right;\">\n",
       "      <th></th>\n",
       "      <th>Attribute</th>\n",
       "      <th>Coef</th>\n",
       "      <th>Odds_Ratios</th>\n",
       "    </tr>\n",
       "  </thead>\n",
       "  <tbody>\n",
       "    <tr>\n",
       "      <th>39</th>\n",
       "      <td>HighPositive</td>\n",
       "      <td>2.403906</td>\n",
       "      <td>11.066317</td>\n",
       "    </tr>\n",
       "    <tr>\n",
       "      <th>6</th>\n",
       "      <td>education_Advanced-degree</td>\n",
       "      <td>1.883944</td>\n",
       "      <td>6.579402</td>\n",
       "    </tr>\n",
       "    <tr>\n",
       "      <th>11</th>\n",
       "      <td>marital_status_Married</td>\n",
       "      <td>1.630155</td>\n",
       "      <td>5.104667</td>\n",
       "    </tr>\n",
       "    <tr>\n",
       "      <th>0</th>\n",
       "      <td>log_age</td>\n",
       "      <td>1.522629</td>\n",
       "      <td>4.584262</td>\n",
       "    </tr>\n",
       "    <tr>\n",
       "      <th>7</th>\n",
       "      <td>education_Bachelors</td>\n",
       "      <td>1.294565</td>\n",
       "      <td>3.649407</td>\n",
       "    </tr>\n",
       "    <tr>\n",
       "      <th>26</th>\n",
       "      <td>occupation_Tech-support</td>\n",
       "      <td>0.970127</td>\n",
       "      <td>2.638280</td>\n",
       "    </tr>\n",
       "    <tr>\n",
       "      <th>17</th>\n",
       "      <td>occupation_Exec-managerial</td>\n",
       "      <td>0.941341</td>\n",
       "      <td>2.563418</td>\n",
       "    </tr>\n",
       "    <tr>\n",
       "      <th>4</th>\n",
       "      <td>workclass_Private</td>\n",
       "      <td>0.919387</td>\n",
       "      <td>2.507753</td>\n",
       "    </tr>\n",
       "    <tr>\n",
       "      <th>2</th>\n",
       "      <td>workclass_Government</td>\n",
       "      <td>0.909610</td>\n",
       "      <td>2.483354</td>\n",
       "    </tr>\n",
       "    <tr>\n",
       "      <th>24</th>\n",
       "      <td>occupation_Protective-serv</td>\n",
       "      <td>0.825534</td>\n",
       "      <td>2.283100</td>\n",
       "    </tr>\n",
       "  </tbody>\n",
       "</table>\n",
       "</div>"
      ],
      "text/plain": [
       "                     Attribute      Coef  Odds_Ratios\n",
       "39                HighPositive  2.403906    11.066317\n",
       "6    education_Advanced-degree  1.883944     6.579402\n",
       "11      marital_status_Married  1.630155     5.104667\n",
       "0                      log_age  1.522629     4.584262\n",
       "7          education_Bachelors  1.294565     3.649407\n",
       "26     occupation_Tech-support  0.970127     2.638280\n",
       "17  occupation_Exec-managerial  0.941341     2.563418\n",
       "4            workclass_Private  0.919387     2.507753\n",
       "2         workclass_Government  0.909610     2.483354\n",
       "24  occupation_Protective-serv  0.825534     2.283100"
      ]
     },
     "execution_count": 45,
     "metadata": {},
     "output_type": "execute_result"
    }
   ],
   "source": [
    "# Printing Logistic Regression Intercept\n",
    "print('log(Intercept):', logR2.intercept_)\n",
    "print('Intercept:', np.exp(logR2.intercept_))\n",
    "\n",
    "# Creating Data Frame with Features and Logistic Regression Coefficients\n",
    "coefs_lg = pd.concat([pd.DataFrame(X_train.columns), pd.DataFrame(np.transpose(logR2.coef_))], axis=1)\n",
    "coefs_lg.columns = ['Attribute', 'Coef']\n",
    "# Calculating exponentiated coefficients for interpretation\n",
    "coefs_lg['Odds_Ratios'] = np.exp(coefs_lg['Coef'])\n",
    "print('\\nFeatures with the most impact on higher income levels')\n",
    "coefs_lg.sort_values('Odds_Ratios', ascending=False).head(10)"
   ]
  },
  {
   "cell_type": "markdown",
   "metadata": {},
   "source": [
    "According to the model, there are factors that have more or less impact on a peron's probability of earning more than \\$50,000 a year.  The following are a sampling of what demographic traits impact a person's probability for higher income, along with the odds that that trait brings.  In this analysis, I will approximate over \\$50,000 with having higher earnings.\n",
    "\n",
    "__Improved Odds for Higher Earnings__\n",
    "- Having a highly positive capital gain gives you an 11 times higher odds for higher earnings.\n",
    "- Earning an advanced degree brings a 6.5 times higher odds for higher earnings, whereas a Bachelors provides a 3.6 times higher odds for higher earnings.\n",
    "- Every 10 years older a person becomes is related to a 4.6 times higher odds for higher earnings."
   ]
  },
  {
   "cell_type": "markdown",
   "metadata": {},
   "source": [
    "### K Nearest Neighbors Classifier\n",
    "Now that we have identified how some of the features impact a person's probability of earning over \\$50,000 in a year, let's see if we can improve the accuracy of the predictions using a K Nearest Neighbors Classifier model.  This model classifies data points based on their similarity to other data points.\n",
    "\n",
    "I again will start by instantiating and fitting the model using default values.  I will fit the model using the training set, and then test the model's accuracy using the test set. "
   ]
  },
  {
   "cell_type": "code",
   "execution_count": 46,
   "metadata": {},
   "outputs": [
    {
     "name": "stdout",
     "output_type": "stream",
     "text": [
      "Cross Validation Accuracy Scores - Training Set: 0.783(+/- 0.02)\n",
      "Cross Validation Accuracy Scores - Test Set: 0.824(+/- 0.02)\n",
      "Cross Validation ROC AUC Scores - Test Set: 0.84534(+/- 0.03)\n"
     ]
    }
   ],
   "source": [
    "#instantiating and fitting the model\n",
    "knnc = KNeighborsClassifier()\n",
    "knnc.fit(X_rus, y_rus)\n",
    "\n",
    "# Calculating and reporting scores from cross validation to +/- 2 standard deviations from the mean\n",
    "scores_knnc = cross_val_score(knnc, X_rus, y_rus, cv=10)\n",
    "print('Cross Validation Accuracy Scores - Training Set: {:.3f}(+/- {:.2f})'.format(scores_knnc.mean(), \n",
    "                                                                                 scores_knnc.std()*2))\n",
    "scores_knnct = cross_val_score(knnc, X_test, y_test, cv=10)\n",
    "print('Cross Validation Accuracy Scores - Test Set: {:.3f}(+/- {:.2f})'.format(scores_knnct.mean(), \n",
    "                                                                                 scores_knnct.std()*2))\n",
    "\n",
    "y_pred = knnc.predict_proba(X_test)\n",
    "roc_auc_knnc = cross_val_score(knnc, X_test, y_test, cv=10, scoring='roc_auc')\n",
    "print('Cross Validation ROC AUC Scores - Test Set: {:.5f}(+/- {:.2f})'.format(roc_auc_knnc.mean(), \n",
    "                                                                                 roc_auc_knnc.std()*2))"
   ]
  },
  {
   "cell_type": "markdown",
   "metadata": {},
   "source": [
    "These values of accuracy for the training and test sets are not quite as good as for the logistic regression model.  This was only for the default values of the K Nearest Neighbors Classifier model. \n",
    "\n",
    "#### K Nearest Neighbors Classifier Optimization\n",
    "Now, let's see if I can improve the overall accuracy of the model through optimizing the parameters by using Grid Search with cross validation. I will optimize the number of nearest neighbors the model uses to compare and classify points. "
   ]
  },
  {
   "cell_type": "code",
   "execution_count": 47,
   "metadata": {
    "scrolled": true
   },
   "outputs": [
    {
     "name": "stdout",
     "output_type": "stream",
     "text": [
      "Best Score: 0.8771223166534307\n",
      "Best Parameters: {'n_neighbors': 22}\n"
     ]
    }
   ],
   "source": [
    "# Set of parameters to test for best score in Grid Search CV\n",
    "k = np.arange(2,30,2)\n",
    "parameters = {'n_neighbors':k}\n",
    "\n",
    "#fitting model and printing best parameters and score from model\n",
    "grid_knnc = GridSearchCV(knnc, param_grid=parameters, scoring='roc_auc')\n",
    "grid_knnc.fit(X_rus, y_rus)\n",
    "\n",
    "print('Best Score:', grid_knnc.best_score_)\n",
    "best_params_knnc = grid_knnc.best_params_\n",
    "print('Best Parameters:', best_params_knnc)"
   ]
  },
  {
   "cell_type": "markdown",
   "metadata": {},
   "source": [
    "Now that we know what best parameters to use, let's use these parameters for a new KNN model and fit the model to the training data, then test the accuracy of the test set."
   ]
  },
  {
   "cell_type": "code",
   "execution_count": 48,
   "metadata": {
    "scrolled": true
   },
   "outputs": [
    {
     "name": "stdout",
     "output_type": "stream",
     "text": [
      "Cross Validation Accuracy Scores - Training Set: 0.794(+/- 0.01)\n",
      "Cross Validation Accuracy Scores - Test Set: 0.829(+/- 0.02)\n",
      "Cross Validation ROC AUC Scores - Test Set: 0.87506(+/- 0.03)\n"
     ]
    }
   ],
   "source": [
    "# Using best parameters to fit and test accuracy of train and test sets\n",
    "knnc2 = KNeighborsClassifier(**best_params_knnc)\n",
    "knnc2.fit(X_rus, y_rus)\n",
    "\n",
    "# Calculating and reporting scores from cross validation to +/- 2 standard deviations from the mean\n",
    "scores_knnc2 = cross_val_score(knnc2, X_rus, y_rus, cv=10)\n",
    "print('Cross Validation Accuracy Scores - Training Set: {:.3f}(+/- {:.2f})'.format(scores_knnc2.mean(), \n",
    "                                                                                 scores_knnc2.std()*2))\n",
    "scores_knnc2t = cross_val_score(knnc2, X_test, y_test, cv=10)\n",
    "print('Cross Validation Accuracy Scores - Test Set: {:.3f}(+/- {:.2f})'.format(scores_knnc2t.mean(), \n",
    "                                                                                 scores_knnc2t.std()*2))\n",
    "\n",
    "y_pred = knnc2.predict_proba(X_test)\n",
    "roc_auc_knnc2 = cross_val_score(knnc2, X_test, y_test, cv=10, scoring='roc_auc')\n",
    "print('Cross Validation ROC AUC Scores - Test Set: {:.5f}(+/- {:.2f})'.format(roc_auc_knnc2.mean(), \n",
    "                                                                                 roc_auc_knnc2.std()*2))"
   ]
  },
  {
   "cell_type": "markdown",
   "metadata": {},
   "source": [
    "Again, these accuracy scores are not as high as those for the logistic regression models.  Because of this, I will move on to another type of model."
   ]
  },
  {
   "cell_type": "markdown",
   "metadata": {},
   "source": [
    "### Random Forest Classifier\n",
    "The next model I will use to predict what demographic indicators are related to higher incomes is the random forest classifier model.  This model creates a set of decision trees and then aggregates the votes from all of the decision trees to decide the class of the test case.  \n",
    "\n",
    "I will again start by instantiating and fitting the model using default values.  I will fit the model using the training set, and then test the model's accuracy using the test set. "
   ]
  },
  {
   "cell_type": "code",
   "execution_count": 49,
   "metadata": {},
   "outputs": [
    {
     "name": "stdout",
     "output_type": "stream",
     "text": [
      "Cross Validation Accuracy Scores - Training Set: 0.786(+/- 0.01)\n",
      "Cross Validation Accuracy Scores - Test Set: 0.830(+/- 0.01)\n",
      "Cross Validation ROC AUC Scores - Test Set: 0.86096(+/- 0.03)\n"
     ]
    }
   ],
   "source": [
    "#instantiating and fitting default model\n",
    "rfc = RandomForestClassifier(random_state=42)\n",
    "rfc.fit(X_rus, y_rus)\n",
    "\n",
    "# Calculating and reporting scores from cross validation to +/- 2 standard deviations from the mean\n",
    "scores_rfc1 = cross_val_score(rfc, X_rus, y_rus, cv=10)\n",
    "print('Cross Validation Accuracy Scores - Training Set: {:.3f}(+/- {:.2f})'.format(scores_rfc1.mean(), \n",
    "                                                                      (scores_rfc1.std()*2)))\n",
    "scores_rfc1t = cross_val_score(rfc, X_test, y_test, cv=10)\n",
    "print('Cross Validation Accuracy Scores - Test Set: {:.3f}(+/- {:.2f})'.format(scores_rfc1t.mean(), \n",
    "                                                                                 scores_rfc1t.std()*2))\n",
    "\n",
    "y_pred = rfc.predict_proba(X_test)\n",
    "roc_auc_rfc = cross_val_score(rfc, X_test, y_test, cv=10, scoring='roc_auc')\n",
    "print('Cross Validation ROC AUC Scores - Test Set: {:.5f}(+/- {:.2f})'.format(roc_auc_rfc.mean(), \n",
    "                                                                                 roc_auc_rfc.std()*2))"
   ]
  },
  {
   "cell_type": "markdown",
   "metadata": {},
   "source": [
    "With the default settings of the Random Forest model, the accuracy on the test set was 83 (+/- 1)%, and the ROC AUC score was 0.86 (+/- 0.03).  This is 2 percent lower accuracy than the logistic regression models, and a ROC AUC score that was 0.04 lower, but again this was from the default settings.  Now, let's try and improve that accuracy.\n",
    "\n",
    "#### Random Forest Classifier Optimization\n",
    "Now, let's see if I can improve the overall accuracy of the model through optimizing the parameters by using Grid Search with cross validation. I will optimize the number of estimators, meaning number of trees used to aggregate the class; the number of features used to consider the best split; the minimum samples split, which indicates the number of samples used to find a node; and the maximum depth of the trees, indicating how many branches the tree has. "
   ]
  },
  {
   "cell_type": "code",
   "execution_count": 50,
   "metadata": {},
   "outputs": [],
   "source": [
    "t0 = time.time()"
   ]
  },
  {
   "cell_type": "code",
   "execution_count": 51,
   "metadata": {},
   "outputs": [
    {
     "name": "stdout",
     "output_type": "stream",
     "text": [
      "Best Score: 0.9043271583765639\n",
      "Best Parameters: {'max_depth': 8, 'max_features': 'auto', 'min_samples_split': 2, 'n_estimators': 500}\n"
     ]
    }
   ],
   "source": [
    "# Set of parameters to serach through for best score in Grid Search CV\n",
    "parameters = {'n_estimators':[10,100,500],\n",
    "             'max_features':['auto', 'sqrt', 'log2'],\n",
    "             'min_samples_split':[2,8,20],\n",
    "             'max_depth':[5,6,7,8]}\n",
    "# Instantiating and fitting Grid Search, then printing best score and best parameters\n",
    "grid_rfc = GridSearchCV(rfc, param_grid=parameters, scoring='roc_auc', cv=5)\n",
    "grid_rfc.fit(X_rus, y_rus)\n",
    "print('Best Score:', grid_rfc.best_score_)\n",
    "best_params_rfc = grid_rfc.best_params_\n",
    "print('Best Parameters:', best_params_rfc)"
   ]
  },
  {
   "cell_type": "code",
   "execution_count": 52,
   "metadata": {},
   "outputs": [
    {
     "name": "stdout",
     "output_type": "stream",
     "text": [
      "Time: 542.3777289390564\n"
     ]
    }
   ],
   "source": [
    "t1 = time.time()\n",
    "print('Time:', t1-t0)"
   ]
  },
  {
   "cell_type": "markdown",
   "metadata": {},
   "source": [
    "Now that we know what best parameters to use, let's use these parameters for a new random forest model and fit the model to the training data, then test the accuracy of the test set."
   ]
  },
  {
   "cell_type": "code",
   "execution_count": 53,
   "metadata": {},
   "outputs": [
    {
     "name": "stdout",
     "output_type": "stream",
     "text": [
      "Cross Validation Accuracy Scores - Training Set: 0.816(+/- 0.02)\n",
      "Cross Validation Accuracy Scores - Test Set: 0.85108(+/- 0.02)\n",
      "Cross Validation ROC AUC Scores - Test Set: 0.90546(+/- 0.01)\n"
     ]
    }
   ],
   "source": [
    "#instantiating model with best parameters\n",
    "rfc2 = RandomForestClassifier(**best_params_rfc, random_state=42)\n",
    "rfc2.fit(X_rus, y_rus)\n",
    "\n",
    "# Calculating and reporting scores from cross validation to +/- 2 standard deviations from the mean\n",
    "scores_rfc2 = cross_val_score(rfc2, X_rus, y_rus, cv=10)\n",
    "print('Cross Validation Accuracy Scores - Training Set: {:.3f}(+/- {:.2f})'.format(scores_rfc2.mean(), \n",
    "                                                                      scores_rfc2.std()*2))\n",
    "scores_rfc2t = cross_val_score(rfc2, X_test, y_test, cv=10)\n",
    "print('Cross Validation Accuracy Scores - Test Set: {:.5f}(+/- {:.2f})'.format(scores_rfc2t.mean(), \n",
    "                                                                      scores_rfc2t.std()*2))\n",
    "\n",
    "y_pred = rfc2.predict_proba(X_test)\n",
    "roc_auc_rfc2 = cross_val_score(rfc2, X_test, y_test, cv=10, scoring='roc_auc')\n",
    "print('Cross Validation ROC AUC Scores - Test Set: {:.5f}(+/- {:.2f})'.format(roc_auc_rfc2.mean(), \n",
    "                                                                                 roc_auc_rfc2.std()*2))"
   ]
  },
  {
   "cell_type": "markdown",
   "metadata": {},
   "source": [
    "Interestingly enough, even though random forests are lauded for having a high accuracy, this model does not have as high of an accuracy on the test set as the logistic regression model did.  The ROC AUC score, however, was higher by 0.0005, and the two standard deviation variance was the same. On to our next model."
   ]
  },
  {
   "cell_type": "markdown",
   "metadata": {},
   "source": [
    "### Gradient Boosting Classifier\n",
    "The next model I will use to predict if a person's income if above or below \\$50,000 is the gradient boosting classifier model.  This model uses decision trees and minimizes the negative log-likelihood of the trees.  In using this ensemble method, the less effective decision trees are then compiled into one stronger model by learning from the previous models. \n",
    "\n",
    "I will again start by instantiating and fitting the model using default values.  I will fit the model using the training set, and then test the model's accuracy using the test set. "
   ]
  },
  {
   "cell_type": "code",
   "execution_count": 54,
   "metadata": {},
   "outputs": [
    {
     "name": "stdout",
     "output_type": "stream",
     "text": [
      "Cross Validation Accuracy Scores - Training Set: 0.825(+/- 0.01)\n",
      "Cross Validation Accuracy Scores - Test Set: 0.85665(+/- 0.02)\n",
      "Cross Validation ROC AUC Scores - Test Set: 0.90934(+/- 0.01)\n"
     ]
    }
   ],
   "source": [
    "#instantiating and fitting the model\n",
    "gbc = GradientBoostingClassifier()\n",
    "gbc.fit(X_rus, y_rus)\n",
    "\n",
    "# Calculating and reporting scores from cross validation to +/- 2 standard deviations from the mean\n",
    "scores_gbc = cross_val_score(gbc, X_rus, y_rus, cv=10)\n",
    "print('Cross Validation Accuracy Scores - Training Set: {:.3f}(+/- {:.2f})'.format(scores_gbc.mean(), \n",
    "                                                                                 scores_gbc.std()*2))\n",
    "scores_gbct = cross_val_score(gbc, X_test, y_test, cv=10)\n",
    "print('Cross Validation Accuracy Scores - Test Set: {:.5f}(+/- {:.2f})'.format(scores_gbct.mean(), \n",
    "                                                                                 scores_gbct.std()*2))\n",
    "\n",
    "y_pred = gbc.predict_proba(X_test)\n",
    "roc_auc_gbc = cross_val_score(gbc, X_test, y_test, cv=10, scoring='roc_auc')\n",
    "print('Cross Validation ROC AUC Scores - Test Set: {:.5f}(+/- {:.2f})'.format(roc_auc_gbc.mean(), \n",
    "                                                                                 roc_auc_gbc.std()*2))"
   ]
  },
  {
   "cell_type": "markdown",
   "metadata": {},
   "source": [
    "With the default settings of the Gradient Boosting Classifier model, the accuracy on the test set was 85.679 (+/- 2)%.  This is 0.3% higher accuracy than the optimized logistic regression models.  The ROC AUC score was also 0.005 higher than the random forest model, but again this was only from the default settings.  Now, let's try and improve that accuracy even more!\n",
    "\n",
    "#### Gradient Boosting Classifier Optimization\n",
    "Now, let's see if I can improve the overall accuracy of the model through optimizing the parameters by using Grid Search with cross validation. I will use the deviance loss function to use the logistic regression loss function.  I will also optimize the:\n",
    "- the minimum samples split, which indicates the number of samples used to find a node;\n",
    "- the minimium samples per leaf, which determines the minimium number of samples in a terminal node;\n",
    "- the maximum depth of the trees, indicating how many branches the tree has;\n",
    "- the number of features used to consider the best split; \n",
    "- the fraction of the observations used in subsampling for each tree; \n",
    "- and the number of estimators, meaning number of trees used to be modeled. "
   ]
  },
  {
   "cell_type": "code",
   "execution_count": 55,
   "metadata": {},
   "outputs": [],
   "source": [
    "t0 = time.time()"
   ]
  },
  {
   "cell_type": "code",
   "execution_count": 56,
   "metadata": {},
   "outputs": [
    {
     "name": "stdout",
     "output_type": "stream",
     "text": [
      "Best Score: 0.9100011553439626\n",
      "Best Parameters: {'loss': 'deviance', 'max_depth': 5, 'max_features': 'sqrt', 'min_samples_leaf': 25, 'min_samples_split': 200, 'n_estimators': 100, 'subsample': 0.6}\n"
     ]
    }
   ],
   "source": [
    "# Set of parameters to test for best score in Grid Search CV\n",
    "parameters = {'loss':['deviance'],\n",
    "               'min_samples_split':[50,100,200],\n",
    "             'min_samples_leaf':[25,50,75],\n",
    "             'max_depth':[5,6,7,8],\n",
    "             'max_features':['sqrt'],\n",
    "             'subsample':[0.6,0.8],\n",
    "             'n_estimators':[50,100,150]}\n",
    "\n",
    "#fitting model and printing best parameters and score from model\n",
    "grid_gbc = GridSearchCV(gbc, param_grid=parameters, scoring='roc_auc')\n",
    "grid_gbc.fit(X_rus, y_rus)\n",
    "\n",
    "print('Best Score:', grid_gbc.best_score_)\n",
    "best_params_gbc = grid_gbc.best_params_\n",
    "print('Best Parameters:', best_params_gbc)"
   ]
  },
  {
   "cell_type": "code",
   "execution_count": 57,
   "metadata": {},
   "outputs": [
    {
     "name": "stdout",
     "output_type": "stream",
     "text": [
      "Time: 477.6858630180359\n"
     ]
    }
   ],
   "source": [
    "t1 = time.time()\n",
    "print('Time:', t1-t0)"
   ]
  },
  {
   "cell_type": "markdown",
   "metadata": {},
   "source": [
    "Now that we know what best parameters to use, let's use these parameters for a new gradient boosting classifier model and fit the model to the training data, then test the accuracy of the test set."
   ]
  },
  {
   "cell_type": "code",
   "execution_count": 58,
   "metadata": {
    "scrolled": true
   },
   "outputs": [
    {
     "name": "stdout",
     "output_type": "stream",
     "text": [
      "Cross Validation Accuracy Scores - Training Set: 0.827(+/- 0.01)\n",
      "Cross Validation Accuracy Scores - Test Set: 0.85453(+/- 0.02)\n",
      "Cross Validation ROC AUC Scores - Test Set: 0.90966(+/- 0.01)\n"
     ]
    }
   ],
   "source": [
    "# Using best parameters to fit and test accuracy of train and test sets\n",
    "gbc2 = GradientBoostingClassifier(**best_params_gbc)\n",
    "gbc2.fit(X_rus, y_rus)\n",
    "\n",
    "# Calculating and reporting scores from cross validation to +/- 2 standard deviations from the mean\n",
    "scores_gbc2 = cross_val_score(gbc2, X_rus, y_rus, cv=10)\n",
    "print('Cross Validation Accuracy Scores - Training Set: {:.3f}(+/- {:.2f})'.format(scores_gbc2.mean(), \n",
    "                                                                                 scores_gbc2.std()*2))\n",
    "scores_gbc2t = cross_val_score(gbc2, X_test, y_test, cv=10)\n",
    "print('Cross Validation Accuracy Scores - Test Set: {:.5f}(+/- {:.2f})'.format(scores_gbc2t.mean(), \n",
    "                                                                                 scores_gbc2t.std()*2))\n",
    "\n",
    "y_pred = gbc2.predict_proba(X_test)\n",
    "roc_auc_gbc2 = cross_val_score(gbc2, X_test, y_test, cv=10, scoring='roc_auc')\n",
    "print('Cross Validation ROC AUC Scores - Test Set: {:.5f}(+/- {:.2f})'.format(roc_auc_gbc2.mean(), \n",
    "                                                                                 roc_auc_gbc2.std()*2))"
   ]
  },
  {
   "cell_type": "markdown",
   "metadata": {},
   "source": [
    "Interesting! The accuracy of the training set is increased upon optimization of our gradent boosting classifier model, but the accuracy of the test set has not increased.  The ROC AUC score, however, is 0.0042 higher than in the random forest. For this reason, I will use this optimized gradient boosted classifier model to be the best model in predicting whether or not a person's income is over \\$50,000."
   ]
  },
  {
   "cell_type": "markdown",
   "metadata": {},
   "source": [
    "### Model Analysis\n",
    "Let's take a look at all of the model accuracies in comparison to get a better sense of the best models and then take a closer look at the best model."
   ]
  },
  {
   "cell_type": "code",
   "execution_count": 59,
   "metadata": {},
   "outputs": [
    {
     "data": {
      "text/html": [
       "<div>\n",
       "<style scoped>\n",
       "    .dataframe tbody tr th:only-of-type {\n",
       "        vertical-align: middle;\n",
       "    }\n",
       "\n",
       "    .dataframe tbody tr th {\n",
       "        vertical-align: top;\n",
       "    }\n",
       "\n",
       "    .dataframe thead th {\n",
       "        text-align: right;\n",
       "    }\n",
       "</style>\n",
       "<table border=\"1\" class=\"dataframe\">\n",
       "  <thead>\n",
       "    <tr style=\"text-align: right;\">\n",
       "      <th></th>\n",
       "      <th>Model</th>\n",
       "      <th>Mean_Accuracy_Train</th>\n",
       "      <th>Mean_Accuracy_Test</th>\n",
       "      <th>ROC_AUC_Score</th>\n",
       "    </tr>\n",
       "  </thead>\n",
       "  <tbody>\n",
       "    <tr>\n",
       "      <th>3</th>\n",
       "      <td>Gradient_Boost</td>\n",
       "      <td>0.825457</td>\n",
       "      <td>0.856653</td>\n",
       "      <td>0.909662</td>\n",
       "    </tr>\n",
       "    <tr>\n",
       "      <th>2</th>\n",
       "      <td>Random_Forest</td>\n",
       "      <td>0.815599</td>\n",
       "      <td>0.851081</td>\n",
       "      <td>0.905456</td>\n",
       "    </tr>\n",
       "    <tr>\n",
       "      <th>0</th>\n",
       "      <td>Logistic_Regression</td>\n",
       "      <td>0.816308</td>\n",
       "      <td>0.853203</td>\n",
       "      <td>0.904994</td>\n",
       "    </tr>\n",
       "    <tr>\n",
       "      <th>1</th>\n",
       "      <td>KNN</td>\n",
       "      <td>0.793836</td>\n",
       "      <td>0.829469</td>\n",
       "      <td>0.845342</td>\n",
       "    </tr>\n",
       "  </tbody>\n",
       "</table>\n",
       "</div>"
      ],
      "text/plain": [
       "                 Model  Mean_Accuracy_Train  Mean_Accuracy_Test  ROC_AUC_Score\n",
       "3       Gradient_Boost             0.825457            0.856653       0.909662\n",
       "2        Random_Forest             0.815599            0.851081       0.905456\n",
       "0  Logistic_Regression             0.816308            0.853203       0.904994\n",
       "1                  KNN             0.793836            0.829469       0.845342"
      ]
     },
     "execution_count": 59,
     "metadata": {},
     "output_type": "execute_result"
    }
   ],
   "source": [
    "score_list = [['Logistic_Regression', scores_logR2.mean(), scores_logR2t.mean(), roc_auc_logR2.mean()],\n",
    "             ['KNN', scores_knnc2.mean(), scores_knnc2t.mean(), roc_auc_knnc.mean()],\n",
    "             ['Random_Forest', scores_rfc2.mean(), scores_rfc2t.mean(), roc_auc_rfc2.mean()],\n",
    "             ['Gradient_Boost', scores_gbc.mean(), scores_gbct.mean(), roc_auc_gbc2.mean()]]\n",
    "scores_overall = pd.DataFrame(score_list, columns=['Model','Mean_Accuracy_Train','Mean_Accuracy_Test', 'ROC_AUC_Score'])\n",
    "scores_overall.sort_values('ROC_AUC_Score', ascending=False)"
   ]
  },
  {
   "cell_type": "markdown",
   "metadata": {},
   "source": [
    "The gradient boost classifier had the highest accuracy in predicting the income classification of the test sets with 85.7% accuracy and a ROC AUC score of 0.9097. \n",
    "\n",
    "Let's now take a closer look at the predicted values and a more detailed look at the accuracy of that model through precision, recall, F1 score and the confusion matrix. "
   ]
  },
  {
   "cell_type": "code",
   "execution_count": 60,
   "metadata": {},
   "outputs": [
    {
     "name": "stdout",
     "output_type": "stream",
     "text": [
      "             precision    recall  f1-score   support\n",
      "\n",
      " Under $50K       0.94      0.80      0.86      5662\n",
      "  Over $50K       0.58      0.86      0.70      1879\n",
      "\n",
      "avg / total       0.85      0.81      0.82      7541\n",
      "\n"
     ]
    },
    {
     "data": {
      "image/png": "[encoded data removed]",
      "text/plain": [
       "<matplotlib.figure.Figure at 0x105ac4e10>"
      ]
     },
     "metadata": {},
     "output_type": "display_data"
    }
   ],
   "source": [
    "# Predicting classes from the test set\n",
    "y_pred_gbct = gbc2.predict(X_test)\n",
    "\n",
    "# Printing classification report\n",
    "print(classification_report(y_test, y_pred_gbct, target_names=['Under $50K', 'Over $50K']))\n",
    "\n",
    "# Building confusion matrix\n",
    "conf_matrix_gbc_test = confusion_matrix(y_test, y_pred_gbct)\n",
    "# Creating heatmap of confusion matrix\n",
    "sns.heatmap(conf_matrix_gbc_test,\n",
    "           cmap='coolwarm_r',\n",
    "           annot=True,\n",
    "           linewidths=0.5)\n",
    "plt.title('GBC Confusion Matrix for Test Set')\n",
    "plt.xlabel('Predicted Class')\n",
    "plt.ylabel('Real Class')\n",
    "plt.show()"
   ]
  },
  {
   "cell_type": "markdown",
   "metadata": {},
   "source": [
    "__Precision__, which is the percentage of positive outcomes that are correctly predicted, was 94% for people with income under \\$50,000, but only 58% for  people with income over \\$50,000. This means that the model was better able to correctly predict lower incomes than higher incomes.  This also makes sense because the test set was unbalanced (76% of people had incomes below \\$50,000) and therefore there were more people with lower incomes than higher incomes in the test set in the first place.  \n",
    "\n",
    "__Recall__, which is the percentage of actual positives that are correctly identified, was 80% for the lower income class, and 86% for the higher income class.  This means that the model was better able to distinguish actual positives for the higher income class.  \n",
    "\n",
    "The __F1-score__ is the weighted average balance between precision and recall. This takes both the false positives and false negatives into account.  Overall, the model was better able to predict for people with incomes below \\$50,000 rather than above.  "
   ]
  },
  {
   "cell_type": "markdown",
   "metadata": {},
   "source": [
    "Using this model, let's extract the demograpic indicators that had the greatest impact on predicting whether the person's income was greater or less than \\$50,000. This will help us better understand the features that are indicative of higher or lower income levels."
   ]
  },
  {
   "cell_type": "code",
   "execution_count": 61,
   "metadata": {},
   "outputs": [
    {
     "data": {
      "image/png": "[encoded data removed]",
      "text/plain": [
       "<matplotlib.figure.Figure at 0x1141d5630>"
      ]
     },
     "metadata": {},
     "output_type": "display_data"
    }
   ],
   "source": [
    "# Plotting Feature Importances from Gradient Boosting Classifier\n",
    "feat_imp = pd.Series(gbc2.feature_importances_, X_train.columns).sort_values(ascending=False).head(15)\n",
    "plt.figure(figsize=(15,5))\n",
    "feat_imp.plot(kind='bar', title='Feature Importances')\n",
    "plt.ylabel('Feature Importance Score')\n",
    "plt.xticks(rotation=40)\n",
    "plt.show()"
   ]
  },
  {
   "cell_type": "markdown",
   "metadata": {},
   "source": [
    "According to the gradient boosting classifier model, the __age of the person, hours per week, and marital status__ were the three most important demograpic features to predict if a person's income is over \\$50,000, followed by __high capital gains and higher levels of education__.  Interestingly enough, without getting into philosophical debates, age is the only one of these three features that a person can not control.  This means that a person has a good amount of control over ways to increase their income level. "
   ]
  },
  {
   "cell_type": "markdown",
   "metadata": {},
   "source": [
    "## Modeling with only Males\n",
    "\n",
    "I will now complete the same best model as above, with only males in the set in order to identify the important demograpic indicators that are indicative of a man's earning more than \\$50,000.  First, I will pull out the data from men only."
   ]
  },
  {
   "cell_type": "code",
   "execution_count": 62,
   "metadata": {
    "scrolled": true
   },
   "outputs": [
    {
     "data": {
      "text/html": [
       "<div>\n",
       "<style scoped>\n",
       "    .dataframe tbody tr th:only-of-type {\n",
       "        vertical-align: middle;\n",
       "    }\n",
       "\n",
       "    .dataframe tbody tr th {\n",
       "        vertical-align: top;\n",
       "    }\n",
       "\n",
       "    .dataframe thead th {\n",
       "        text-align: right;\n",
       "    }\n",
       "</style>\n",
       "<table border=\"1\" class=\"dataframe\">\n",
       "  <thead>\n",
       "    <tr style=\"text-align: right;\">\n",
       "      <th></th>\n",
       "      <th>income</th>\n",
       "      <th>log_age</th>\n",
       "      <th>hours_per_week</th>\n",
       "      <th>workclass_Government</th>\n",
       "      <th>workclass_Not_working</th>\n",
       "      <th>workclass_Private</th>\n",
       "      <th>workclass_Self_employed</th>\n",
       "      <th>education_Advanced-degree</th>\n",
       "      <th>education_Bachelors</th>\n",
       "      <th>education_Dropout</th>\n",
       "      <th>...</th>\n",
       "      <th>sex_Female</th>\n",
       "      <th>sex_Male</th>\n",
       "      <th>native_country_Asia</th>\n",
       "      <th>native_country_Europe</th>\n",
       "      <th>native_country_Latin_Am</th>\n",
       "      <th>native_country_United_States</th>\n",
       "      <th>Neg</th>\n",
       "      <th>Neut</th>\n",
       "      <th>Postive</th>\n",
       "      <th>HighPositive</th>\n",
       "    </tr>\n",
       "  </thead>\n",
       "  <tbody>\n",
       "    <tr>\n",
       "      <th>0</th>\n",
       "      <td>0</td>\n",
       "      <td>3.663562</td>\n",
       "      <td>40</td>\n",
       "      <td>1</td>\n",
       "      <td>0</td>\n",
       "      <td>0</td>\n",
       "      <td>0</td>\n",
       "      <td>0</td>\n",
       "      <td>1</td>\n",
       "      <td>0</td>\n",
       "      <td>...</td>\n",
       "      <td>0</td>\n",
       "      <td>1</td>\n",
       "      <td>0</td>\n",
       "      <td>0</td>\n",
       "      <td>0</td>\n",
       "      <td>1</td>\n",
       "      <td>0</td>\n",
       "      <td>0</td>\n",
       "      <td>1</td>\n",
       "      <td>0</td>\n",
       "    </tr>\n",
       "    <tr>\n",
       "      <th>1</th>\n",
       "      <td>0</td>\n",
       "      <td>3.912023</td>\n",
       "      <td>13</td>\n",
       "      <td>0</td>\n",
       "      <td>0</td>\n",
       "      <td>0</td>\n",
       "      <td>1</td>\n",
       "      <td>0</td>\n",
       "      <td>1</td>\n",
       "      <td>0</td>\n",
       "      <td>...</td>\n",
       "      <td>0</td>\n",
       "      <td>1</td>\n",
       "      <td>0</td>\n",
       "      <td>0</td>\n",
       "      <td>0</td>\n",
       "      <td>1</td>\n",
       "      <td>0</td>\n",
       "      <td>1</td>\n",
       "      <td>0</td>\n",
       "      <td>0</td>\n",
       "    </tr>\n",
       "    <tr>\n",
       "      <th>2</th>\n",
       "      <td>0</td>\n",
       "      <td>3.637586</td>\n",
       "      <td>40</td>\n",
       "      <td>0</td>\n",
       "      <td>0</td>\n",
       "      <td>1</td>\n",
       "      <td>0</td>\n",
       "      <td>0</td>\n",
       "      <td>0</td>\n",
       "      <td>0</td>\n",
       "      <td>...</td>\n",
       "      <td>0</td>\n",
       "      <td>1</td>\n",
       "      <td>0</td>\n",
       "      <td>0</td>\n",
       "      <td>0</td>\n",
       "      <td>1</td>\n",
       "      <td>0</td>\n",
       "      <td>1</td>\n",
       "      <td>0</td>\n",
       "      <td>0</td>\n",
       "    </tr>\n",
       "    <tr>\n",
       "      <th>3</th>\n",
       "      <td>0</td>\n",
       "      <td>3.970292</td>\n",
       "      <td>40</td>\n",
       "      <td>0</td>\n",
       "      <td>0</td>\n",
       "      <td>1</td>\n",
       "      <td>0</td>\n",
       "      <td>0</td>\n",
       "      <td>0</td>\n",
       "      <td>1</td>\n",
       "      <td>...</td>\n",
       "      <td>0</td>\n",
       "      <td>1</td>\n",
       "      <td>0</td>\n",
       "      <td>0</td>\n",
       "      <td>0</td>\n",
       "      <td>1</td>\n",
       "      <td>0</td>\n",
       "      <td>1</td>\n",
       "      <td>0</td>\n",
       "      <td>0</td>\n",
       "    </tr>\n",
       "    <tr>\n",
       "      <th>7</th>\n",
       "      <td>1</td>\n",
       "      <td>3.951244</td>\n",
       "      <td>45</td>\n",
       "      <td>0</td>\n",
       "      <td>0</td>\n",
       "      <td>0</td>\n",
       "      <td>1</td>\n",
       "      <td>0</td>\n",
       "      <td>0</td>\n",
       "      <td>0</td>\n",
       "      <td>...</td>\n",
       "      <td>0</td>\n",
       "      <td>1</td>\n",
       "      <td>0</td>\n",
       "      <td>0</td>\n",
       "      <td>0</td>\n",
       "      <td>1</td>\n",
       "      <td>0</td>\n",
       "      <td>1</td>\n",
       "      <td>0</td>\n",
       "      <td>0</td>\n",
       "    </tr>\n",
       "  </tbody>\n",
       "</table>\n",
       "<p>5 rows × 41 columns</p>\n",
       "</div>"
      ],
      "text/plain": [
       "   income   log_age  hours_per_week  workclass_Government  \\\n",
       "0       0  3.663562              40                     1   \n",
       "1       0  3.912023              13                     0   \n",
       "2       0  3.637586              40                     0   \n",
       "3       0  3.970292              40                     0   \n",
       "7       1  3.951244              45                     0   \n",
       "\n",
       "   workclass_Not_working  workclass_Private  workclass_Self_employed  \\\n",
       "0                      0                  0                        0   \n",
       "1                      0                  0                        1   \n",
       "2                      0                  1                        0   \n",
       "3                      0                  1                        0   \n",
       "7                      0                  0                        1   \n",
       "\n",
       "   education_Advanced-degree  education_Bachelors  education_Dropout  \\\n",
       "0                          0                    1                  0   \n",
       "1                          0                    1                  0   \n",
       "2                          0                    0                  0   \n",
       "3                          0                    0                  1   \n",
       "7                          0                    0                  0   \n",
       "\n",
       "       ...       sex_Female  sex_Male  native_country_Asia  \\\n",
       "0      ...                0         1                    0   \n",
       "1      ...                0         1                    0   \n",
       "2      ...                0         1                    0   \n",
       "3      ...                0         1                    0   \n",
       "7      ...                0         1                    0   \n",
       "\n",
       "   native_country_Europe  native_country_Latin_Am  \\\n",
       "0                      0                        0   \n",
       "1                      0                        0   \n",
       "2                      0                        0   \n",
       "3                      0                        0   \n",
       "7                      0                        0   \n",
       "\n",
       "   native_country_United_States  Neg  Neut  Postive  HighPositive  \n",
       "0                             1    0     0        1             0  \n",
       "1                             1    0     1        0             0  \n",
       "2                             1    0     1        0             0  \n",
       "3                             1    0     1        0             0  \n",
       "7                             1    0     1        0             0  \n",
       "\n",
       "[5 rows x 41 columns]"
      ]
     },
     "execution_count": 62,
     "metadata": {},
     "output_type": "execute_result"
    }
   ],
   "source": [
    "men = features[features['sex_Male']==1]\n",
    "men.head()"
   ]
  },
  {
   "cell_type": "markdown",
   "metadata": {},
   "source": [
    "Now, I want to re-inspect the distribution of income levels for men only through a count plot."
   ]
  },
  {
   "cell_type": "code",
   "execution_count": 63,
   "metadata": {},
   "outputs": [
    {
     "data": {
      "image/png": "[encoded data removed]",
      "text/plain": [
       "<matplotlib.figure.Figure at 0x113d75a90>"
      ]
     },
     "metadata": {},
     "output_type": "display_data"
    },
    {
     "name": "stdout",
     "output_type": "stream",
     "text": [
      "Percent of Low Income Males: 68.62%\n",
      "Number of Low Income Males: 13984\n"
     ]
    }
   ],
   "source": [
    "plt.figure(figsize=(10,5))\n",
    "g = sns.countplot(x='income', data=men, palette='Set2_r')\n",
    "g.set_xticklabels(['Under $50K', 'Over $50K'])\n",
    "plt.title('Distribution of Male Income Levels')\n",
    "plt.show()\n",
    "\n",
    "print('Percent of Low Income Males: {:.2f}%'.format(len(men[men.income == 0])/len(men)*100))\n",
    "print('Number of Low Income Males: {}'.format(len(men[men.income == 0])))"
   ]
  },
  {
   "cell_type": "markdown",
   "metadata": {},
   "source": [
    "Next, just as above, I will split the data into a training and test set and for the training set, I will under sample the data to 50%."
   ]
  },
  {
   "cell_type": "code",
   "execution_count": 64,
   "metadata": {
    "scrolled": true
   },
   "outputs": [
    {
     "name": "stdout",
     "output_type": "stream",
     "text": [
      "Men Training Set Percent Under $50,000: 68.5%\n",
      "Resampled Training Set Percent Under $50,000: 50.0%\n"
     ]
    }
   ],
   "source": [
    "# Identify variables\n",
    "Xm = men.drop('income', axis=1)\n",
    "ym = men.income\n",
    "\n",
    "# Splitting into train and test sets\n",
    "Xm_train, Xm_test, ym_train, ym_test = train_test_split(Xm, ym, test_size=0.25, random_state=42)\n",
    "\n",
    "#Under sampling \n",
    "from imblearn.under_sampling import RandomUnderSampler\n",
    "\n",
    "rus = RandomUnderSampler(random_state=42)\n",
    "Xm_rus, ym_rus = rus.fit_sample(X=Xm_train, y=ym_train)\n",
    "\n",
    "print('Men Training Set Percent Under $50,000: {:.1f}%'.format(\n",
    "    len(ym_train[ym_train == 0])/len(ym_train)*100))\n",
    "print('Resampled Training Set Percent Under $50,000: {}%'.format(\n",
    "    len(ym_rus[ym_rus == 0])/len(ym_rus)*100))"
   ]
  },
  {
   "cell_type": "markdown",
   "metadata": {},
   "source": [
    "Now, using this undersampled data, I will fit the same best model, the gradient boosting classifier, and test this model against the training and test sets to determine the accuracy of the model."
   ]
  },
  {
   "cell_type": "code",
   "execution_count": 65,
   "metadata": {
    "scrolled": false
   },
   "outputs": [
    {
     "name": "stdout",
     "output_type": "stream",
     "text": [
      "Cross Validation Accuracy Scores - Training Set: 0.792(+/- 0.02)\n",
      "Cross Validation Accuracy Scores - Test Set: 0.81806(+/- 0.02)\n",
      "Cross Validation ROC AUC Scores - Test Set: 0.88758(+/- 0.02)\n"
     ]
    }
   ],
   "source": [
    "# Using best parameters to fit and test accuracy of train and test sets for women\n",
    "gbcm = GradientBoostingClassifier()\n",
    "gbcm.fit(Xm_rus, ym_rus)\n",
    "\n",
    "# Calculating and reporting scores from cross validation to +/- 2 standard deviations from the mean\n",
    "scores_gbcm = cross_val_score(gbcm, Xm_rus, ym_rus, cv=10)\n",
    "print('Cross Validation Accuracy Scores - Training Set: {:.3f}(+/- {:.2f})'.format(scores_gbcm.mean(), \n",
    "                                                                                 scores_gbcm.std()*2))\n",
    "scores_gbcmt = cross_val_score(gbcm, Xm_test, ym_test, cv=10)\n",
    "print('Cross Validation Accuracy Scores - Test Set: {:.5f}(+/- {:.2f})'.format(scores_gbcmt.mean(), \n",
    "                                                                                 scores_gbcmt.std()*2))\n",
    "\n",
    "y_pred = gbcm.predict_proba(X_test)\n",
    "roc_auc_gbcm = cross_val_score(gbcm, Xm_test, ym_test, cv=10, scoring='roc_auc')\n",
    "print('Cross Validation ROC AUC Scores - Test Set: {:.5f}(+/- {:.2f})'.format(roc_auc_gbcm.mean(), \n",
    "                                                                                 roc_auc_gbcm.std()*2))"
   ]
  },
  {
   "cell_type": "markdown",
   "metadata": {},
   "source": [
    "Wow, this model less able to predict if a man has a higher income than from the combined data. Granted the test set for the men is less skewed, this model is still better able to predict than pure guessing. \n",
    "\n",
    "Now, let's inspect the indicators that are most important for determining if a man will earn more than \\$50,000 and see how those relate to the overall data."
   ]
  },
  {
   "cell_type": "code",
   "execution_count": 66,
   "metadata": {
    "scrolled": false
   },
   "outputs": [
    {
     "data": {
      "image/png": "[encoded data removed]",
      "text/plain": [
       "<matplotlib.figure.Figure at 0x113f66e10>"
      ]
     },
     "metadata": {},
     "output_type": "display_data"
    }
   ],
   "source": [
    "# Plotting Feature Importances from Gradient Boosting Classifier\n",
    "feat_impm = pd.Series(gbcm.feature_importances_, Xm_train.columns).sort_values(ascending=False).head(15)\n",
    "plt.figure(figsize=(15,5))\n",
    "feat_impm.plot(kind='bar', title='Feature Importances for Men')\n",
    "plt.ylabel('Feature Importance Score')\n",
    "plt.xticks(rotation=40)\n",
    "plt.show()"
   ]
  },
  {
   "cell_type": "markdown",
   "metadata": {},
   "source": [
    "Unsurprisingly for men, the greatest indicator of higher income levels is age, followed by number of hours worked per week, marital status, higher education, and high capital gains.  This matches the feature importances of the overall data.  This makes sense because there were mostly men earning over \\$50,000, so they should have had the features that indicate higher earnings."
   ]
  },
  {
   "cell_type": "markdown",
   "metadata": {},
   "source": [
    "## Modeling with only Females\n",
    "\n",
    "I will now complete the same best model as above, with only females in the set in order to identify the important demograpic indicators that are indicative of a woman's earning more than \\$50,000.  First, I will pull out the data from women only."
   ]
  },
  {
   "cell_type": "code",
   "execution_count": 67,
   "metadata": {
    "scrolled": true
   },
   "outputs": [
    {
     "data": {
      "text/html": [
       "<div>\n",
       "<style scoped>\n",
       "    .dataframe tbody tr th:only-of-type {\n",
       "        vertical-align: middle;\n",
       "    }\n",
       "\n",
       "    .dataframe tbody tr th {\n",
       "        vertical-align: top;\n",
       "    }\n",
       "\n",
       "    .dataframe thead th {\n",
       "        text-align: right;\n",
       "    }\n",
       "</style>\n",
       "<table border=\"1\" class=\"dataframe\">\n",
       "  <thead>\n",
       "    <tr style=\"text-align: right;\">\n",
       "      <th></th>\n",
       "      <th>income</th>\n",
       "      <th>log_age</th>\n",
       "      <th>hours_per_week</th>\n",
       "      <th>workclass_Government</th>\n",
       "      <th>workclass_Not_working</th>\n",
       "      <th>workclass_Private</th>\n",
       "      <th>workclass_Self_employed</th>\n",
       "      <th>education_Advanced-degree</th>\n",
       "      <th>education_Bachelors</th>\n",
       "      <th>education_Dropout</th>\n",
       "      <th>...</th>\n",
       "      <th>sex_Female</th>\n",
       "      <th>sex_Male</th>\n",
       "      <th>native_country_Asia</th>\n",
       "      <th>native_country_Europe</th>\n",
       "      <th>native_country_Latin_Am</th>\n",
       "      <th>native_country_United_States</th>\n",
       "      <th>Neg</th>\n",
       "      <th>Neut</th>\n",
       "      <th>Postive</th>\n",
       "      <th>HighPositive</th>\n",
       "    </tr>\n",
       "  </thead>\n",
       "  <tbody>\n",
       "    <tr>\n",
       "      <th>4</th>\n",
       "      <td>0</td>\n",
       "      <td>3.332205</td>\n",
       "      <td>40</td>\n",
       "      <td>0</td>\n",
       "      <td>0</td>\n",
       "      <td>1</td>\n",
       "      <td>0</td>\n",
       "      <td>0</td>\n",
       "      <td>1</td>\n",
       "      <td>0</td>\n",
       "      <td>...</td>\n",
       "      <td>1</td>\n",
       "      <td>0</td>\n",
       "      <td>0</td>\n",
       "      <td>0</td>\n",
       "      <td>1</td>\n",
       "      <td>0</td>\n",
       "      <td>0</td>\n",
       "      <td>1</td>\n",
       "      <td>0</td>\n",
       "      <td>0</td>\n",
       "    </tr>\n",
       "    <tr>\n",
       "      <th>5</th>\n",
       "      <td>0</td>\n",
       "      <td>3.610918</td>\n",
       "      <td>40</td>\n",
       "      <td>0</td>\n",
       "      <td>0</td>\n",
       "      <td>1</td>\n",
       "      <td>0</td>\n",
       "      <td>1</td>\n",
       "      <td>0</td>\n",
       "      <td>0</td>\n",
       "      <td>...</td>\n",
       "      <td>1</td>\n",
       "      <td>0</td>\n",
       "      <td>0</td>\n",
       "      <td>0</td>\n",
       "      <td>0</td>\n",
       "      <td>1</td>\n",
       "      <td>0</td>\n",
       "      <td>1</td>\n",
       "      <td>0</td>\n",
       "      <td>0</td>\n",
       "    </tr>\n",
       "    <tr>\n",
       "      <th>6</th>\n",
       "      <td>0</td>\n",
       "      <td>3.891820</td>\n",
       "      <td>16</td>\n",
       "      <td>0</td>\n",
       "      <td>0</td>\n",
       "      <td>1</td>\n",
       "      <td>0</td>\n",
       "      <td>0</td>\n",
       "      <td>0</td>\n",
       "      <td>1</td>\n",
       "      <td>...</td>\n",
       "      <td>1</td>\n",
       "      <td>0</td>\n",
       "      <td>0</td>\n",
       "      <td>0</td>\n",
       "      <td>1</td>\n",
       "      <td>0</td>\n",
       "      <td>0</td>\n",
       "      <td>1</td>\n",
       "      <td>0</td>\n",
       "      <td>0</td>\n",
       "    </tr>\n",
       "    <tr>\n",
       "      <th>8</th>\n",
       "      <td>1</td>\n",
       "      <td>3.433987</td>\n",
       "      <td>50</td>\n",
       "      <td>0</td>\n",
       "      <td>0</td>\n",
       "      <td>1</td>\n",
       "      <td>0</td>\n",
       "      <td>1</td>\n",
       "      <td>0</td>\n",
       "      <td>0</td>\n",
       "      <td>...</td>\n",
       "      <td>1</td>\n",
       "      <td>0</td>\n",
       "      <td>0</td>\n",
       "      <td>0</td>\n",
       "      <td>0</td>\n",
       "      <td>1</td>\n",
       "      <td>0</td>\n",
       "      <td>0</td>\n",
       "      <td>0</td>\n",
       "      <td>1</td>\n",
       "    </tr>\n",
       "    <tr>\n",
       "      <th>12</th>\n",
       "      <td>0</td>\n",
       "      <td>3.135494</td>\n",
       "      <td>30</td>\n",
       "      <td>0</td>\n",
       "      <td>0</td>\n",
       "      <td>1</td>\n",
       "      <td>0</td>\n",
       "      <td>0</td>\n",
       "      <td>1</td>\n",
       "      <td>0</td>\n",
       "      <td>...</td>\n",
       "      <td>1</td>\n",
       "      <td>0</td>\n",
       "      <td>0</td>\n",
       "      <td>0</td>\n",
       "      <td>0</td>\n",
       "      <td>1</td>\n",
       "      <td>0</td>\n",
       "      <td>1</td>\n",
       "      <td>0</td>\n",
       "      <td>0</td>\n",
       "    </tr>\n",
       "  </tbody>\n",
       "</table>\n",
       "<p>5 rows × 41 columns</p>\n",
       "</div>"
      ],
      "text/plain": [
       "    income   log_age  hours_per_week  workclass_Government  \\\n",
       "4        0  3.332205              40                     0   \n",
       "5        0  3.610918              40                     0   \n",
       "6        0  3.891820              16                     0   \n",
       "8        1  3.433987              50                     0   \n",
       "12       0  3.135494              30                     0   \n",
       "\n",
       "    workclass_Not_working  workclass_Private  workclass_Self_employed  \\\n",
       "4                       0                  1                        0   \n",
       "5                       0                  1                        0   \n",
       "6                       0                  1                        0   \n",
       "8                       0                  1                        0   \n",
       "12                      0                  1                        0   \n",
       "\n",
       "    education_Advanced-degree  education_Bachelors  education_Dropout  \\\n",
       "4                           0                    1                  0   \n",
       "5                           1                    0                  0   \n",
       "6                           0                    0                  1   \n",
       "8                           1                    0                  0   \n",
       "12                          0                    1                  0   \n",
       "\n",
       "        ...       sex_Female  sex_Male  native_country_Asia  \\\n",
       "4       ...                1         0                    0   \n",
       "5       ...                1         0                    0   \n",
       "6       ...                1         0                    0   \n",
       "8       ...                1         0                    0   \n",
       "12      ...                1         0                    0   \n",
       "\n",
       "    native_country_Europe  native_country_Latin_Am  \\\n",
       "4                       0                        1   \n",
       "5                       0                        0   \n",
       "6                       0                        1   \n",
       "8                       0                        0   \n",
       "12                      0                        0   \n",
       "\n",
       "    native_country_United_States  Neg  Neut  Postive  HighPositive  \n",
       "4                              0    0     1        0             0  \n",
       "5                              1    0     1        0             0  \n",
       "6                              0    0     1        0             0  \n",
       "8                              1    0     0        0             1  \n",
       "12                             1    0     1        0             0  \n",
       "\n",
       "[5 rows x 41 columns]"
      ]
     },
     "execution_count": 67,
     "metadata": {},
     "output_type": "execute_result"
    }
   ],
   "source": [
    "women = features[features['sex_Female']==1]\n",
    "women.head()"
   ]
  },
  {
   "cell_type": "markdown",
   "metadata": {},
   "source": [
    "Now, I want to re-inspect the distribution of income levels for women only through a count plot."
   ]
  },
  {
   "cell_type": "code",
   "execution_count": 68,
   "metadata": {},
   "outputs": [
    {
     "data": {
      "image/png": "[encoded data removed]",
      "text/plain": [
       "<matplotlib.figure.Figure at 0x105b7b5f8>"
      ]
     },
     "metadata": {},
     "output_type": "display_data"
    },
    {
     "name": "stdout",
     "output_type": "stream",
     "text": [
      "Percent of Low Income Females: 88.63%\n",
      "Number of Low Income Females: 8670\n"
     ]
    }
   ],
   "source": [
    "plt.figure(figsize=(10,5))\n",
    "g = sns.countplot(x='income', data=women, palette='Set2_r')\n",
    "g.set_xticklabels(['Under $50K', 'Over $50K'])\n",
    "plt.title('Distribution of Female Income Levels')\n",
    "plt.show()\n",
    "\n",
    "print('Percent of Low Income Females: {:.2f}%'.format(len(women[women.income == 0])/len(women)*100))\n",
    "print('Number of Low Income Females: {}'.format(len(women[women.income == 0])))"
   ]
  },
  {
   "cell_type": "markdown",
   "metadata": {},
   "source": [
    "Next, just as above, I will split the data into a training and test set and for the training set, I will under sample the data to 50%.  This will use very little of the data, but with 8,670 data points, there will be plenty of different data points to model."
   ]
  },
  {
   "cell_type": "code",
   "execution_count": 69,
   "metadata": {
    "scrolled": true
   },
   "outputs": [
    {
     "name": "stdout",
     "output_type": "stream",
     "text": [
      "Women Training Set Percent Under $50,000: 88.7%\n",
      "Resampled Training Set Percent Under $50,000: 50.0%\n"
     ]
    }
   ],
   "source": [
    "# Identify variables\n",
    "Xw = women.drop('income', axis=1)\n",
    "yw = women.income\n",
    "\n",
    "# Splitting into train and test sets\n",
    "Xw_train, Xw_test, yw_train, yw_test = train_test_split(Xw, yw, test_size=0.25, random_state=42)\n",
    "\n",
    "#Under sampling \n",
    "from imblearn.under_sampling import RandomUnderSampler\n",
    "\n",
    "rus = RandomUnderSampler(random_state=42)\n",
    "Xw_rus, yw_rus = rus.fit_sample(X=Xw_train, y=yw_train)\n",
    "\n",
    "print('Women Training Set Percent Under $50,000: {:.1f}%'.format(\n",
    "    len(yw_train[yw_train == 0])/len(yw_train)*100))\n",
    "print('Resampled Training Set Percent Under $50,000: {}%'.format(\n",
    "    len(yw_rus[yw_rus == 0])/len(yw_rus)*100))"
   ]
  },
  {
   "cell_type": "markdown",
   "metadata": {},
   "source": [
    "Now, using this undersampled data, I will fit the same best model, the gradient boosting classifier, and test this model against the training and test sets to determine the accuracy of the model."
   ]
  },
  {
   "cell_type": "code",
   "execution_count": 70,
   "metadata": {
    "scrolled": false
   },
   "outputs": [
    {
     "name": "stdout",
     "output_type": "stream",
     "text": [
      "Cross Validation Accuracy Scores - Training Set: 0.855(+/- 0.04)\n",
      "Cross Validation Accuracy Scores - Test Set: 0.92192(+/- 0.03)\n",
      "Cross Validation ROC AUC Scores - Test Set: 0.92701(+/- 0.03)\n"
     ]
    }
   ],
   "source": [
    "# Using best parameters to fit and test accuracy of train and test sets for women\n",
    "gbcw = GradientBoostingClassifier()\n",
    "gbcw.fit(Xw_rus, yw_rus)\n",
    "\n",
    "# Calculating and reporting scores from cross validation to +/- 2 standard deviations from the mean\n",
    "scores_gbcw = cross_val_score(gbcw, Xw_rus, yw_rus, cv=10)\n",
    "print('Cross Validation Accuracy Scores - Training Set: {:.3f}(+/- {:.2f})'.format(scores_gbcw.mean(), \n",
    "                                                                                 scores_gbcw.std()*2))\n",
    "scores_gbcwt = cross_val_score(gbcw, Xw_test, yw_test, cv=10)\n",
    "print('Cross Validation Accuracy Scores - Test Set: {:.5f}(+/- {:.2f})'.format(scores_gbcwt.mean(), \n",
    "                                                                                 scores_gbcwt.std()*2))\n",
    "\n",
    "y_pred = gbcw.predict_proba(X_test)\n",
    "roc_auc_gbcw = cross_val_score(gbcw, Xw_test, yw_test, cv=10, scoring='roc_auc')\n",
    "print('Cross Validation ROC AUC Scores - Test Set: {:.5f}(+/- {:.2f})'.format(roc_auc_gbcw.mean(), \n",
    "                                                                                 roc_auc_gbcw.std()*2))"
   ]
  },
  {
   "cell_type": "markdown",
   "metadata": {},
   "source": [
    "Wow, this model is better able to predict the test set data for women than the combined data. Granted the test set for the women is more unbalanced, this model is better able to predict than pure guessing. \n",
    "\n",
    "Now, let's inspect the indicators that are most important for determining if a woman will earn more than \\$50,000 and see how those relate to the overall data."
   ]
  },
  {
   "cell_type": "code",
   "execution_count": 71,
   "metadata": {
    "scrolled": false
   },
   "outputs": [
    {
     "data": {
      "image/png": "[encoded data removed]",
      "text/plain": [
       "<matplotlib.figure.Figure at 0x1141de860>"
      ]
     },
     "metadata": {},
     "output_type": "display_data"
    }
   ],
   "source": [
    "# Plotting Feature Importances from Gradient Boosting Classifier\n",
    "feat_impw = pd.Series(gbcw.feature_importances_, Xw_train.columns).sort_values(ascending=False).head(15)\n",
    "plt.figure(figsize=(15,5))\n",
    "feat_impw.plot(kind='bar', title='Feature Importances for Women')\n",
    "plt.ylabel('Feature Importance Score')\n",
    "plt.xticks(rotation=40)\n",
    "plt.show()"
   ]
  },
  {
   "cell_type": "markdown",
   "metadata": {},
   "source": [
    "Interestingly enough, for women, the greatest indicator of higher income levels is number of hours worked per week, followed again by age, marital status, higher education, and high capital gains.  This means that, for women especially, they have to work more hours to get a higher pay."
   ]
  },
  {
   "cell_type": "markdown",
   "metadata": {},
   "source": [
    "## Conclusion\n",
    "\n",
    "For this capstone project, I wanted to build models that were able to predict if a person's income is over \\$50,000 in a year based on their demographic information.  The demographic information I used and engineered to perform these predictions were age, the number of hours per week worked, if their net capital gains was highly positive, positive, negative, or neutral.  I also used a person's level of education, marital status, occupation, sex, working class, race, and native country.  Using these features, I created logistic regression models, support vector machine classifiers, and random forest models to predict whether a person would have an income of over \\$50,000.  I found that the five biggest indicators of a person having a higher income were age, marital status, number of hours worked per week, having high capital gains, and having some degree in higher education.  This definitely supports the claims that I have given students that education is a great source of upward mobility.  Of these features that a person has control over, they can control all but their age.  This means that a person has great influence over the factors that will earn them higher incomes.  I won't go into other obstacles to these things they have control over, but the good news is that people are in control of their incomes.  Notably, for women, the number of hours worked per week was more important than all of the other factors, meaning that women have to work especially hard to earn a higher income. \n",
    "\n",
    "Overall, the model that most accurately predicted if a person earned over \\$50,000 was the gradient boosting classifer, followed by the logistic regression model.  These models had ROC AUC scores of 0.9097, and 0.9054, respectfully. The random forest model followed closely behind, with a ROC AUC score of 0.9050, and the K nearest neighbors classifier was the least accurate in its predictions of income categories, with a ROC AUC score of 0.8453. Both the gradient boosting classifer and the logistic regression models were able to paint a picture of the importances of the different demographic features that impact whether or not a person earns over \\$50,000."
   ]
  },
  {
   "cell_type": "code",
   "execution_count": null,
   "metadata": {},
   "outputs": [],
   "source": []
  }
 ],
 "metadata": {
  "kernelspec": {
   "display_name": "Python 3",
   "language": "python",
   "name": "python3"
  },
  "language_info": {
   "codemirror_mode": {
    "name": "ipython",
    "version": 3
   },
   "file_extension": ".py",
   "mimetype": "text/x-python",
   "name": "python",
   "nbconvert_exporter": "python",
   "pygments_lexer": "ipython3",
   "version": "3.6.2"
  }
 },
 "nbformat": 4,
 "nbformat_minor": 2
}
