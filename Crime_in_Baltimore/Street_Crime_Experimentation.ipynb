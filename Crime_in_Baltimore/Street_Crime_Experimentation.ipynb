{
 "cells": [
  {
   "cell_type": "markdown",
   "metadata": {},
   "source": [
    "# Street Crime in Baltimore: Narative Analytics and Experimentation\n",
    "By: Katie Peterson"
   ]
  },
  {
   "cell_type": "markdown",
   "metadata": {},
   "source": [
    "## Introduction\n",
    "Baltimore is a city that is infamous for high crime rates, being named the 7th most dangerous city in the United States in 2015, to having a record-breaking number of homicides per capita in 2017. This high rate of crime threatens economic development.  Reduction of crime in Baltimore is important to improve the quality of life for citizens, increase real estate values, and to boost the local economy. \n",
    "\n",
    "In an effort to try to reduce crime in Baltimore, data was taken from the [Baltimore Police Department](https://www.kaggle.com/sohier/crime-in-baltimore) which represents victim based crime data.  This data is important to analyze to understand the city crime patterns and to implement efforts to stop crimes from happening in the first place. My initial analysis will analyze data for the entire city from 2012 to 2017.  I will identify patterns in order to zoom in on actions that could potentially impact the data, and then design an A/B test to identify the impact of that action on crime.\n",
    "\n",
    "## Data Set Analysis\n",
    "First, I will inspect the data for patterns and hot spot areas of crime."
   ]
  },
  {
   "cell_type": "code",
   "execution_count": 1,
   "metadata": {},
   "outputs": [],
   "source": [
    "# Necessary imports\n",
    "import numpy as np\n",
    "import pandas as pd\n",
    "import matplotlib.pyplot as plt\n",
    "%matplotlib inline\n",
    "import seaborn as sns\n",
    "import scipy.stats as stats\n",
    "from datetime import datetime"
   ]
  },
  {
   "cell_type": "code",
   "execution_count": 2,
   "metadata": {},
   "outputs": [
    {
     "data": {
      "text/html": [
       "<div>\n",
       "<style scoped>\n",
       "    .dataframe tbody tr th:only-of-type {\n",
       "        vertical-align: middle;\n",
       "    }\n",
       "\n",
       "    .dataframe tbody tr th {\n",
       "        vertical-align: top;\n",
       "    }\n",
       "\n",
       "    .dataframe thead th {\n",
       "        text-align: right;\n",
       "    }\n",
       "</style>\n",
       "<table border=\"1\" class=\"dataframe\">\n",
       "  <thead>\n",
       "    <tr style=\"text-align: right;\">\n",
       "      <th></th>\n",
       "      <th>CrimeDate</th>\n",
       "      <th>CrimeTime</th>\n",
       "      <th>CrimeCode</th>\n",
       "      <th>Location</th>\n",
       "      <th>Description</th>\n",
       "      <th>Inside/Outside</th>\n",
       "      <th>Weapon</th>\n",
       "      <th>Post</th>\n",
       "      <th>District</th>\n",
       "      <th>Neighborhood</th>\n",
       "      <th>Longitude</th>\n",
       "      <th>Latitude</th>\n",
       "      <th>Location 1</th>\n",
       "      <th>Premise</th>\n",
       "      <th>Total Incidents</th>\n",
       "    </tr>\n",
       "  </thead>\n",
       "  <tbody>\n",
       "    <tr>\n",
       "      <th>0</th>\n",
       "      <td>09/02/2017</td>\n",
       "      <td>23:30:00</td>\n",
       "      <td>3JK</td>\n",
       "      <td>4200 AUDREY AVE</td>\n",
       "      <td>ROBBERY - RESIDENCE</td>\n",
       "      <td>I</td>\n",
       "      <td>KNIFE</td>\n",
       "      <td>913.0</td>\n",
       "      <td>SOUTHERN</td>\n",
       "      <td>Brooklyn</td>\n",
       "      <td>-76.60541</td>\n",
       "      <td>39.22951</td>\n",
       "      <td>(39.2295100000, -76.6054100000)</td>\n",
       "      <td>ROW/TOWNHO</td>\n",
       "      <td>1</td>\n",
       "    </tr>\n",
       "    <tr>\n",
       "      <th>1</th>\n",
       "      <td>09/02/2017</td>\n",
       "      <td>23:00:00</td>\n",
       "      <td>7A</td>\n",
       "      <td>800 NEWINGTON AVE</td>\n",
       "      <td>AUTO THEFT</td>\n",
       "      <td>O</td>\n",
       "      <td>NaN</td>\n",
       "      <td>133.0</td>\n",
       "      <td>CENTRAL</td>\n",
       "      <td>Reservoir Hill</td>\n",
       "      <td>-76.63217</td>\n",
       "      <td>39.31360</td>\n",
       "      <td>(39.3136000000, -76.6321700000)</td>\n",
       "      <td>STREET</td>\n",
       "      <td>1</td>\n",
       "    </tr>\n",
       "    <tr>\n",
       "      <th>2</th>\n",
       "      <td>09/02/2017</td>\n",
       "      <td>22:53:00</td>\n",
       "      <td>9S</td>\n",
       "      <td>600 RADNOR AV</td>\n",
       "      <td>SHOOTING</td>\n",
       "      <td>Outside</td>\n",
       "      <td>FIREARM</td>\n",
       "      <td>524.0</td>\n",
       "      <td>NORTHERN</td>\n",
       "      <td>Winston-Govans</td>\n",
       "      <td>-76.60697</td>\n",
       "      <td>39.34768</td>\n",
       "      <td>(39.3476800000, -76.6069700000)</td>\n",
       "      <td>Street</td>\n",
       "      <td>1</td>\n",
       "    </tr>\n",
       "    <tr>\n",
       "      <th>3</th>\n",
       "      <td>09/02/2017</td>\n",
       "      <td>22:50:00</td>\n",
       "      <td>4C</td>\n",
       "      <td>1800 RAMSAY ST</td>\n",
       "      <td>AGG. ASSAULT</td>\n",
       "      <td>I</td>\n",
       "      <td>OTHER</td>\n",
       "      <td>934.0</td>\n",
       "      <td>SOUTHERN</td>\n",
       "      <td>Carrollton Ridge</td>\n",
       "      <td>-76.64526</td>\n",
       "      <td>39.28315</td>\n",
       "      <td>(39.2831500000, -76.6452600000)</td>\n",
       "      <td>ROW/TOWNHO</td>\n",
       "      <td>1</td>\n",
       "    </tr>\n",
       "    <tr>\n",
       "      <th>4</th>\n",
       "      <td>09/02/2017</td>\n",
       "      <td>22:31:00</td>\n",
       "      <td>4E</td>\n",
       "      <td>100 LIGHT ST</td>\n",
       "      <td>COMMON ASSAULT</td>\n",
       "      <td>O</td>\n",
       "      <td>HANDS</td>\n",
       "      <td>113.0</td>\n",
       "      <td>CENTRAL</td>\n",
       "      <td>Downtown West</td>\n",
       "      <td>-76.61365</td>\n",
       "      <td>39.28756</td>\n",
       "      <td>(39.2875600000, -76.6136500000)</td>\n",
       "      <td>STREET</td>\n",
       "      <td>1</td>\n",
       "    </tr>\n",
       "  </tbody>\n",
       "</table>\n",
       "</div>"
      ],
      "text/plain": [
       "    CrimeDate CrimeTime CrimeCode           Location          Description  \\\n",
       "0  09/02/2017  23:30:00       3JK    4200 AUDREY AVE  ROBBERY - RESIDENCE   \n",
       "1  09/02/2017  23:00:00        7A  800 NEWINGTON AVE           AUTO THEFT   \n",
       "2  09/02/2017  22:53:00        9S      600 RADNOR AV             SHOOTING   \n",
       "3  09/02/2017  22:50:00        4C     1800 RAMSAY ST         AGG. ASSAULT   \n",
       "4  09/02/2017  22:31:00        4E       100 LIGHT ST       COMMON ASSAULT   \n",
       "\n",
       "  Inside/Outside   Weapon   Post  District      Neighborhood  Longitude  \\\n",
       "0              I    KNIFE  913.0  SOUTHERN          Brooklyn  -76.60541   \n",
       "1              O      NaN  133.0   CENTRAL    Reservoir Hill  -76.63217   \n",
       "2        Outside  FIREARM  524.0  NORTHERN    Winston-Govans  -76.60697   \n",
       "3              I    OTHER  934.0  SOUTHERN  Carrollton Ridge  -76.64526   \n",
       "4              O    HANDS  113.0   CENTRAL     Downtown West  -76.61365   \n",
       "\n",
       "   Latitude                       Location 1     Premise  Total Incidents  \n",
       "0  39.22951  (39.2295100000, -76.6054100000)  ROW/TOWNHO                1  \n",
       "1  39.31360  (39.3136000000, -76.6321700000)      STREET                1  \n",
       "2  39.34768  (39.3476800000, -76.6069700000)      Street                1  \n",
       "3  39.28315  (39.2831500000, -76.6452600000)  ROW/TOWNHO                1  \n",
       "4  39.28756  (39.2875600000, -76.6136500000)      STREET                1  "
      ]
     },
     "execution_count": 2,
     "metadata": {},
     "output_type": "execute_result"
    }
   ],
   "source": [
    "# Import data\n",
    "bpd = pd.read_csv('BPD_Part_1_Victim_Based_Crime_Data.csv', dtype={'Premise':str})\n",
    "bpd.head()"
   ]
  },
  {
   "cell_type": "code",
   "execution_count": 3,
   "metadata": {},
   "outputs": [
    {
     "data": {
      "text/plain": [
       "CrimeDate               0\n",
       "CrimeTime               0\n",
       "CrimeCode               0\n",
       "Location             2207\n",
       "Description             0\n",
       "Inside/Outside      10279\n",
       "Weapon             180952\n",
       "Post                  224\n",
       "District               80\n",
       "Neighborhood         2740\n",
       "Longitude            2204\n",
       "Latitude             2204\n",
       "Location 1           2204\n",
       "Premise             10757\n",
       "Total Incidents         0\n",
       "dtype: int64"
      ]
     },
     "execution_count": 3,
     "metadata": {},
     "output_type": "execute_result"
    }
   ],
   "source": [
    "# Identify where entries are null\n",
    "bpd.isnull().sum()"
   ]
  },
  {
   "cell_type": "markdown",
   "metadata": {},
   "source": [
    "It appears that the date, time, crime code, and crime descriptions are required for all entries.  Additionally, all entries in the Total Incidents column are equal to 1. Some of the columns need to be cleaned up for analysis, for example Inside/Outside, and Premise. "
   ]
  },
  {
   "cell_type": "code",
   "execution_count": 4,
   "metadata": {},
   "outputs": [],
   "source": [
    "#change Inside/Outside column name for ease of use\n",
    "bpd.columns = ['CrimeDate', 'CrimeTime', 'CrimeCode', 'Location', 'Description',\n",
    "       'InsideOutside', 'Weapon', 'Post', 'District', 'Neighborhood',\n",
    "       'Longitude', 'Latitude', 'Location 1', 'Premise', 'Total Incidents']"
   ]
  },
  {
   "cell_type": "markdown",
   "metadata": {},
   "source": [
    "To facilitate analysis by year, month, and hour of day, I will break the CrimeDate and CrimeTime columns down into their respective parts."
   ]
  },
  {
   "cell_type": "code",
   "execution_count": 5,
   "metadata": {
    "scrolled": true
   },
   "outputs": [
    {
     "data": {
      "text/html": [
       "<div>\n",
       "<style scoped>\n",
       "    .dataframe tbody tr th:only-of-type {\n",
       "        vertical-align: middle;\n",
       "    }\n",
       "\n",
       "    .dataframe tbody tr th {\n",
       "        vertical-align: top;\n",
       "    }\n",
       "\n",
       "    .dataframe thead th {\n",
       "        text-align: right;\n",
       "    }\n",
       "</style>\n",
       "<table border=\"1\" class=\"dataframe\">\n",
       "  <thead>\n",
       "    <tr style=\"text-align: right;\">\n",
       "      <th></th>\n",
       "      <th>CrimeDate</th>\n",
       "      <th>CrimeTime</th>\n",
       "      <th>CrimeCode</th>\n",
       "      <th>Location</th>\n",
       "      <th>Description</th>\n",
       "      <th>InsideOutside</th>\n",
       "      <th>Weapon</th>\n",
       "      <th>Post</th>\n",
       "      <th>District</th>\n",
       "      <th>Neighborhood</th>\n",
       "      <th>Longitude</th>\n",
       "      <th>Latitude</th>\n",
       "      <th>Location 1</th>\n",
       "      <th>Premise</th>\n",
       "      <th>Total Incidents</th>\n",
       "      <th>year</th>\n",
       "      <th>month</th>\n",
       "      <th>day</th>\n",
       "      <th>hour</th>\n",
       "    </tr>\n",
       "  </thead>\n",
       "  <tbody>\n",
       "    <tr>\n",
       "      <th>0</th>\n",
       "      <td>09/02/2017</td>\n",
       "      <td>23:30:00</td>\n",
       "      <td>3JK</td>\n",
       "      <td>4200 AUDREY AVE</td>\n",
       "      <td>ROBBERY - RESIDENCE</td>\n",
       "      <td>I</td>\n",
       "      <td>KNIFE</td>\n",
       "      <td>913.0</td>\n",
       "      <td>SOUTHERN</td>\n",
       "      <td>Brooklyn</td>\n",
       "      <td>-76.60541</td>\n",
       "      <td>39.22951</td>\n",
       "      <td>(39.2295100000, -76.6054100000)</td>\n",
       "      <td>ROW/TOWNHO</td>\n",
       "      <td>1</td>\n",
       "      <td>2017</td>\n",
       "      <td>09</td>\n",
       "      <td>02</td>\n",
       "      <td>23</td>\n",
       "    </tr>\n",
       "    <tr>\n",
       "      <th>1</th>\n",
       "      <td>09/02/2017</td>\n",
       "      <td>23:00:00</td>\n",
       "      <td>7A</td>\n",
       "      <td>800 NEWINGTON AVE</td>\n",
       "      <td>AUTO THEFT</td>\n",
       "      <td>O</td>\n",
       "      <td>NaN</td>\n",
       "      <td>133.0</td>\n",
       "      <td>CENTRAL</td>\n",
       "      <td>Reservoir Hill</td>\n",
       "      <td>-76.63217</td>\n",
       "      <td>39.31360</td>\n",
       "      <td>(39.3136000000, -76.6321700000)</td>\n",
       "      <td>STREET</td>\n",
       "      <td>1</td>\n",
       "      <td>2017</td>\n",
       "      <td>09</td>\n",
       "      <td>02</td>\n",
       "      <td>23</td>\n",
       "    </tr>\n",
       "    <tr>\n",
       "      <th>2</th>\n",
       "      <td>09/02/2017</td>\n",
       "      <td>22:53:00</td>\n",
       "      <td>9S</td>\n",
       "      <td>600 RADNOR AV</td>\n",
       "      <td>SHOOTING</td>\n",
       "      <td>Outside</td>\n",
       "      <td>FIREARM</td>\n",
       "      <td>524.0</td>\n",
       "      <td>NORTHERN</td>\n",
       "      <td>Winston-Govans</td>\n",
       "      <td>-76.60697</td>\n",
       "      <td>39.34768</td>\n",
       "      <td>(39.3476800000, -76.6069700000)</td>\n",
       "      <td>Street</td>\n",
       "      <td>1</td>\n",
       "      <td>2017</td>\n",
       "      <td>09</td>\n",
       "      <td>02</td>\n",
       "      <td>22</td>\n",
       "    </tr>\n",
       "    <tr>\n",
       "      <th>3</th>\n",
       "      <td>09/02/2017</td>\n",
       "      <td>22:50:00</td>\n",
       "      <td>4C</td>\n",
       "      <td>1800 RAMSAY ST</td>\n",
       "      <td>AGG. ASSAULT</td>\n",
       "      <td>I</td>\n",
       "      <td>OTHER</td>\n",
       "      <td>934.0</td>\n",
       "      <td>SOUTHERN</td>\n",
       "      <td>Carrollton Ridge</td>\n",
       "      <td>-76.64526</td>\n",
       "      <td>39.28315</td>\n",
       "      <td>(39.2831500000, -76.6452600000)</td>\n",
       "      <td>ROW/TOWNHO</td>\n",
       "      <td>1</td>\n",
       "      <td>2017</td>\n",
       "      <td>09</td>\n",
       "      <td>02</td>\n",
       "      <td>22</td>\n",
       "    </tr>\n",
       "    <tr>\n",
       "      <th>4</th>\n",
       "      <td>09/02/2017</td>\n",
       "      <td>22:31:00</td>\n",
       "      <td>4E</td>\n",
       "      <td>100 LIGHT ST</td>\n",
       "      <td>COMMON ASSAULT</td>\n",
       "      <td>O</td>\n",
       "      <td>HANDS</td>\n",
       "      <td>113.0</td>\n",
       "      <td>CENTRAL</td>\n",
       "      <td>Downtown West</td>\n",
       "      <td>-76.61365</td>\n",
       "      <td>39.28756</td>\n",
       "      <td>(39.2875600000, -76.6136500000)</td>\n",
       "      <td>STREET</td>\n",
       "      <td>1</td>\n",
       "      <td>2017</td>\n",
       "      <td>09</td>\n",
       "      <td>02</td>\n",
       "      <td>22</td>\n",
       "    </tr>\n",
       "  </tbody>\n",
       "</table>\n",
       "</div>"
      ],
      "text/plain": [
       "    CrimeDate CrimeTime CrimeCode           Location          Description  \\\n",
       "0  09/02/2017  23:30:00       3JK    4200 AUDREY AVE  ROBBERY - RESIDENCE   \n",
       "1  09/02/2017  23:00:00        7A  800 NEWINGTON AVE           AUTO THEFT   \n",
       "2  09/02/2017  22:53:00        9S      600 RADNOR AV             SHOOTING   \n",
       "3  09/02/2017  22:50:00        4C     1800 RAMSAY ST         AGG. ASSAULT   \n",
       "4  09/02/2017  22:31:00        4E       100 LIGHT ST       COMMON ASSAULT   \n",
       "\n",
       "  InsideOutside   Weapon   Post  District      Neighborhood  Longitude  \\\n",
       "0             I    KNIFE  913.0  SOUTHERN          Brooklyn  -76.60541   \n",
       "1             O      NaN  133.0   CENTRAL    Reservoir Hill  -76.63217   \n",
       "2       Outside  FIREARM  524.0  NORTHERN    Winston-Govans  -76.60697   \n",
       "3             I    OTHER  934.0  SOUTHERN  Carrollton Ridge  -76.64526   \n",
       "4             O    HANDS  113.0   CENTRAL     Downtown West  -76.61365   \n",
       "\n",
       "   Latitude                       Location 1     Premise  Total Incidents  \\\n",
       "0  39.22951  (39.2295100000, -76.6054100000)  ROW/TOWNHO                1   \n",
       "1  39.31360  (39.3136000000, -76.6321700000)      STREET                1   \n",
       "2  39.34768  (39.3476800000, -76.6069700000)      Street                1   \n",
       "3  39.28315  (39.2831500000, -76.6452600000)  ROW/TOWNHO                1   \n",
       "4  39.28756  (39.2875600000, -76.6136500000)      STREET                1   \n",
       "\n",
       "   year month day hour  \n",
       "0  2017    09  02   23  \n",
       "1  2017    09  02   23  \n",
       "2  2017    09  02   22  \n",
       "3  2017    09  02   22  \n",
       "4  2017    09  02   22  "
      ]
     },
     "execution_count": 5,
     "metadata": {},
     "output_type": "execute_result"
    }
   ],
   "source": [
    "# Slicing for year, month and hour\n",
    "bpd['year'] = bpd.CrimeDate.map(lambda x: x[6:])\n",
    "bpd['month'] = bpd.CrimeDate.map(lambda x: x[:2])\n",
    "bpd['day'] = bpd.CrimeDate.map(lambda x: x[3:5])\n",
    "bpd['hour'] = bpd.CrimeTime.map(lambda x: x[:2])\n",
    "bpd.head()"
   ]
  },
  {
   "cell_type": "markdown",
   "metadata": {},
   "source": [
    "Now let's take a look at the locations of the crimes."
   ]
  },
  {
   "cell_type": "code",
   "execution_count": 6,
   "metadata": {
    "scrolled": true
   },
   "outputs": [
    {
     "data": {
      "text/plain": [
       "I          131999\n",
       "O          129782\n",
       "Outside      3837\n",
       "Inside        632\n",
       "Name: InsideOutside, dtype: int64"
      ]
     },
     "execution_count": 6,
     "metadata": {},
     "output_type": "execute_result"
    }
   ],
   "source": [
    "#describing locations of crimes\n",
    "bpd['InsideOutside'].value_counts()"
   ]
  },
  {
   "cell_type": "markdown",
   "metadata": {},
   "source": [
    "Because there are two different labels for inside and outside, I will clean and combine these labels to I and O."
   ]
  },
  {
   "cell_type": "code",
   "execution_count": 7,
   "metadata": {
    "scrolled": true
   },
   "outputs": [
    {
     "data": {
      "text/plain": [
       "O    133619\n",
       "I    132631\n",
       "Name: InsideOutside, dtype: int64"
      ]
     },
     "execution_count": 7,
     "metadata": {},
     "output_type": "execute_result"
    }
   ],
   "source": [
    "# Combining labels of I with inside and O with outside\n",
    "bpd['InsideOutside']  = bpd.InsideOutside.replace('Inside', 'I')\n",
    "bpd['InsideOutside']  = bpd.InsideOutside.replace('Outside', 'O')\n",
    "bpd['InsideOutside'].value_counts()"
   ]
  },
  {
   "cell_type": "markdown",
   "metadata": {},
   "source": [
    "Now let's inspect the premise column, strip out extra white space, and capitalize the result to standardize the entries, then inspect the counts of each type of premise."
   ]
  },
  {
   "cell_type": "code",
   "execution_count": 8,
   "metadata": {
    "scrolled": true
   },
   "outputs": [
    {
     "data": {
      "text/plain": [
       "STREET        103802\n",
       "ROW/TOWNHO     60502\n",
       "PARKING LO     12176\n",
       "APT/CONDO      12002\n",
       "OTHER - IN     11459\n",
       "Name: Premise, dtype: int64"
      ]
     },
     "execution_count": 8,
     "metadata": {},
     "output_type": "execute_result"
    }
   ],
   "source": [
    "# Cleaning up premise by stripping and turning into upper cases\n",
    "bpd['Premise'] = bpd['Premise'].map(lambda x: x.strip().upper() if type(x) is str else x)\n",
    "premise_count = bpd.Premise.value_counts().head()\n",
    "premise_count"
   ]
  },
  {
   "cell_type": "markdown",
   "metadata": {},
   "source": [
    "Great, now let's see those visually through a count plot of the number of crimes versus the premise of the crimes."
   ]
  },
  {
   "cell_type": "code",
   "execution_count": 9,
   "metadata": {
    "scrolled": false
   },
   "outputs": [
    {
     "data": {
      "image/png": "[encoded data removed]",
      "text/plain": [
       "<matplotlib.figure.Figure at 0x119e2eb00>"
      ]
     },
     "metadata": {},
     "output_type": "display_data"
    }
   ],
   "source": [
    "# Graphing total crimes by premise\n",
    "g = sns.barplot(x=premise_count.index, y=premise_count)\n",
    "plt.xlabel('Premise of Crime')\n",
    "plt.xticks(rotation=30)\n",
    "plt.ylabel('Count of Crimes')\n",
    "plt.title('Number of Crimes per Premise in Baltimore')\n",
    "plt.show()"
   ]
  },
  {
   "cell_type": "markdown",
   "metadata": {},
   "source": [
    "The premise that has the highest occurrence of crimes (approximately double the second highest) is the street.  To further investigate this, I will break down the data frame into just street crimes and find the most common type of crime in the streets and which neighborhood has the highest occurrence of street crimes."
   ]
  },
  {
   "cell_type": "code",
   "execution_count": 10,
   "metadata": {},
   "outputs": [
    {
     "data": {
      "text/plain": [
       "LARCENY FROM AUTO       25817\n",
       "AUTO THEFT              19335\n",
       "LARCENY                 15246\n",
       "ROBBERY - STREET        13027\n",
       "COMMON ASSAULT          13017\n",
       "AGG. ASSAULT            11504\n",
       "SHOOTING                 2049\n",
       "ROBBERY - CARJACKING     1140\n",
       "HOMICIDE                  834\n",
       "ASSAULT BY THREAT         601\n",
       "ARSON                     467\n",
       "BURGLARY                  336\n",
       "ROBBERY - COMMERCIAL      207\n",
       "RAPE                      187\n",
       "ROBBERY - RESIDENCE        35\n",
       "Name: Description, dtype: int64"
      ]
     },
     "execution_count": 10,
     "metadata": {},
     "output_type": "execute_result"
    }
   ],
   "source": [
    "# Creating data frame for only street crimes\n",
    "street_crime = bpd[bpd.Premise == 'STREET'].reset_index(drop=True)\n",
    "\n",
    "# Street crimes broken down by type of crime\n",
    "street_crime.Description.value_counts()"
   ]
  },
  {
   "cell_type": "markdown",
   "metadata": {},
   "source": [
    "It looks like larceny from auto, auto theft, larceny, street robbery, common assault, and aggravated assault are the most common types of street crimes.  For the most part, these seem like crimes of opportunity where a car gets broken into and something gets stolen.  This could be a type of crime to target for experimentation.\n",
    "\n",
    "Next, let's take a look at where street crimes happen most often so we can find different locations to complete our tests."
   ]
  },
  {
   "cell_type": "code",
   "execution_count": 11,
   "metadata": {},
   "outputs": [
    {
     "data": {
      "text/plain": [
       "SOUTHEASTERN    15988\n",
       "NORTHEASTERN    14000\n",
       "CENTRAL         13285\n",
       "SOUTHERN        11497\n",
       "NORTHERN        10579\n",
       "EASTERN          9763\n",
       "NORTHWESTERN     9667\n",
       "WESTERN          9649\n",
       "SOUTHWESTERN     9344\n",
       "Name: District, dtype: int64"
      ]
     },
     "execution_count": 11,
     "metadata": {},
     "output_type": "execute_result"
    }
   ],
   "source": [
    "# Street crimes broken down by district\n",
    "street_crime.District.value_counts()"
   ]
  },
  {
   "cell_type": "markdown",
   "metadata": {},
   "source": [
    "According to the data, the Southeastern and Northeastern districts have the most crime, and approximately and same amount of street crime.  Since these districts are so large, let's take a look at the individual neighborhoods to determine which neighborhoods have the highest crime."
   ]
  },
  {
   "cell_type": "code",
   "execution_count": 12,
   "metadata": {
    "scrolled": false
   },
   "outputs": [
    {
     "data": {
      "text/plain": [
       "Downtown                     3809\n",
       "Belair-Edison                1964\n",
       "Sandtown-Winchester          1823\n",
       "Frankford                    1697\n",
       "Canton                       1666\n",
       "Fells Point                  1643\n",
       "Brooklyn                     1601\n",
       "Patterson Park Neighborho    1601\n",
       "Washington Village/Pigtow    1281\n",
       "Upton                        1263\n",
       "Name: Neighborhood, dtype: int64"
      ]
     },
     "execution_count": 12,
     "metadata": {},
     "output_type": "execute_result"
    }
   ],
   "source": [
    "# Street crimes broken down by neighborhood\n",
    "street_crime.Neighborhood.value_counts().head(10)"
   ]
  },
  {
   "cell_type": "markdown",
   "metadata": {},
   "source": [
    "Downtown Baltimore has the highest crime rate out of all of the neighborhoods, followed by Belair-Edison and Sandtown-Winchester.  This might help us narrow down locations for experimentation.  Since I already identified that the Southeastern and Northeastern have the highest crime, let's check the neighborhoods that are in these districts."
   ]
  },
  {
   "cell_type": "code",
   "execution_count": 13,
   "metadata": {},
   "outputs": [
    {
     "name": "stdout",
     "output_type": "stream",
     "text": [
      "Southeastern Neighborhood Crime:\n",
      " Canton                       1666\n",
      "Fells Point                  1643\n",
      "Patterson Park Neighborho    1601\n",
      "McElderry Park               1137\n",
      "Ellwood Park/Monument         921\n",
      "Name: Neighborhood, dtype: int64\n",
      "\n",
      "Northeastern Neighborhood Crime:\n",
      " Belair-Edison                1964\n",
      "Frankford                    1697\n",
      "Coldstream Homestead Mont    1257\n",
      "Hamilton Hills                892\n",
      "Ednor Gardens-Lakeside        687\n",
      "Name: Neighborhood, dtype: int64\n"
     ]
    }
   ],
   "source": [
    "print('Southeastern Neighborhood Crime:\\n', \n",
    "      street_crime[street_crime['District'] == 'SOUTHEASTERN']['Neighborhood'].value_counts().head(5)) \n",
    "print('\\nNortheastern Neighborhood Crime:\\n', \n",
    "      street_crime[street_crime['District'] == 'NORTHEASTERN']['Neighborhood'].value_counts().head(5))"
   ]
  },
  {
   "cell_type": "markdown",
   "metadata": {},
   "source": [
    "According to the data, the Canton, Fells Point, and Patterson Park neighborhood have the highest incidence of street crimes in the Southeastern district.  In the Northeastern district, the Belair-Edison, Frankford, and Coldstream Homestead Mont neighborhoods have high rates of street crime.   Now that we've analyzed the overall data, let's see what the trend in number of crimes is over the years."
   ]
  },
  {
   "cell_type": "code",
   "execution_count": 14,
   "metadata": {},
   "outputs": [
    {
     "name": "stdout",
     "output_type": "stream",
     "text": [
      "2012    17381\n",
      "2013    17964\n",
      "2014    17458\n",
      "2015    20191\n",
      "2016    19906\n",
      "2017    10902\n",
      "Name: year, dtype: int64\n"
     ]
    }
   ],
   "source": [
    "# Identify pattern of street crimes over the past years\n",
    "street_crime_year = street_crime.year.value_counts().sort_index(axis=0, ascending=True)\n",
    "print(street_crime_year)"
   ]
  },
  {
   "cell_type": "code",
   "execution_count": 15,
   "metadata": {
    "scrolled": true
   },
   "outputs": [
    {
     "data": {
      "image/png": "[encoded data removed]",
      "text/plain": [
       "<matplotlib.figure.Figure at 0x113c0b240>"
      ]
     },
     "metadata": {},
     "output_type": "display_data"
    }
   ],
   "source": [
    "# Plotting street crimes by year\n",
    "plt.plot(street_crime_year.index, street_crime_year)\n",
    "plt.xlabel('Year')\n",
    "plt.ylabel('Number of Street Crimes')\n",
    "plt.title('Number of Street Crimes in Baltimore from 2012 - 2017')\n",
    "plt.show()"
   ]
  },
  {
   "cell_type": "markdown",
   "metadata": {},
   "source": [
    "While it appears that there is a large decrease in street crime in 2017, this data set only contains data for Jan 1, 2017 through September 3, 2017.  Given that, the data indicates that 2015 and 2016 had a higher number of crimes than in the previous three years.  To identify if current trends are similar to those of 2015 and 2016, I will analyze that data specifically.\n",
    "\n",
    "First, I will separate out the data for each year and month for each year."
   ]
  },
  {
   "cell_type": "code",
   "execution_count": 16,
   "metadata": {},
   "outputs": [],
   "source": [
    "# Creating data frame for street crimes in 2017\n",
    "bpd2017_street = street_crime[street_crime['year'] == '2017']\n",
    "# Counting street crimes by month  \n",
    "bpd2017_s_month = bpd2017_street.month.value_counts().sort_index(axis=0, ascending=True)"
   ]
  },
  {
   "cell_type": "code",
   "execution_count": 17,
   "metadata": {},
   "outputs": [],
   "source": [
    "# Creating data frame for street crimes in 2016\n",
    "bpd2016_street = street_crime[street_crime['year'] == '2016']\n",
    "# Counting street crimes by month  \n",
    "bpd2016_s_month = bpd2016_street.month.value_counts().sort_index(axis=0, ascending=True)"
   ]
  },
  {
   "cell_type": "code",
   "execution_count": 18,
   "metadata": {},
   "outputs": [],
   "source": [
    "# Creating data frame for street crimes in 2015\n",
    "bpd2015_street = street_crime[street_crime['year'] == '2015']\n",
    "# Counting street crimes by month  \n",
    "bpd2015_s_month = bpd2015_street.month.value_counts().sort_index(axis=0, ascending=True)"
   ]
  },
  {
   "cell_type": "markdown",
   "metadata": {},
   "source": [
    "Now, I will graph this data to identify patterns and trends."
   ]
  },
  {
   "cell_type": "code",
   "execution_count": 19,
   "metadata": {},
   "outputs": [
    {
     "data": {
      "image/png": "[encoded data removed]",
      "text/plain": [
       "<matplotlib.figure.Figure at 0x11dfba4e0>"
      ]
     },
     "metadata": {},
     "output_type": "display_data"
    }
   ],
   "source": [
    "# Plotting monthly data of street crimes\n",
    "plt.plot(bpd2017_s_month.index, bpd2017_s_month, label='2017')\n",
    "plt.plot(bpd2016_s_month.index, bpd2016_s_month, label='2016')\n",
    "plt.plot(bpd2015_s_month.index, bpd2015_s_month, label='2015')\n",
    "plt.xlabel('Month')\n",
    "plt.ylabel('Number of Street Crimes')\n",
    "plt.title('Number of Street Crimes per Month in Baltimore')\n",
    "plt.legend()\n",
    "plt.show()"
   ]
  },
  {
   "cell_type": "markdown",
   "metadata": {},
   "source": [
    "It appears that 2015 and 2016 follow the same trends for January through June, with a higher number of crimes in 2016 until May 2016.  After May 2015 there is a spike in number of street crimes that continues until approximately October.  Note that April through July of 2015 were the protests and riots following Freddie Gray's death.  This explains the spike in crimes in those months of 2015. \n",
    "\n",
    "Overall, the patterns of crimes match, moreso for 2016 and 2017, with, in general, 2017 having fewer crimes than 2016."
   ]
  },
  {
   "cell_type": "markdown",
   "metadata": {},
   "source": [
    "#### Type and Time of Crime\n",
    "According to the data, 2016 and 2017 are following similar trends to one another, therefore in order to identify current trends, I will focus my analysis on 2017 crimes.  In particular, I want to know which type of street crimes are most common, and when they occur."
   ]
  },
  {
   "cell_type": "code",
   "execution_count": 20,
   "metadata": {},
   "outputs": [
    {
     "data": {
      "text/plain": [
       "LARCENY FROM AUTO       2048\n",
       "AUTO THEFT              1854\n",
       "LARCENY                 1643\n",
       "ROBBERY - STREET        1538\n",
       "AGG. ASSAULT            1452\n",
       "COMMON ASSAULT          1314\n",
       "SHOOTING                 370\n",
       "ROBBERY - CARJACKING     237\n",
       "HOMICIDE                 167\n",
       "BURGLARY                  89\n",
       "ASSAULT BY THREAT         70\n",
       "ARSON                     49\n",
       "ROBBERY - COMMERCIAL      43\n",
       "RAPE                      16\n",
       "ROBBERY - RESIDENCE       12\n",
       "Name: Description, dtype: int64"
      ]
     },
     "execution_count": 20,
     "metadata": {},
     "output_type": "execute_result"
    }
   ],
   "source": [
    "# Identifing top types of street crimes in 2017\n",
    "bpd2017_street.Description.value_counts()"
   ]
  },
  {
   "cell_type": "markdown",
   "metadata": {},
   "source": [
    "Alright, it looks like the same types of crimes were common in 2017 as in the overall data - larceny from auto, auto theft, larceny, street robbery, and assault. \n",
    "\n",
    "Now I want to know when during the day the top types of crime occur, so I will pull out the types of crime and then plot the number of crimes by hour for each type of crime."
   ]
  },
  {
   "cell_type": "code",
   "execution_count": 21,
   "metadata": {},
   "outputs": [],
   "source": [
    "# Pulling data frames for the six top types of street crimes\n",
    "sc2017_lar = bpd2017_street[bpd2017_street['Description'] == 'LARCENY']\n",
    "# Counting occurrences of crime by hour\n",
    "sc2017_lar_hour = sc2017_lar.hour.value_counts().sort_index(axis=0, ascending=True)\n",
    "\n",
    "sc2017_lfa = bpd2017_street[bpd2017_street['Description'] == 'LARCENY FROM AUTO']\n",
    "sc2017_lfa_hour = sc2017_lfa.hour.value_counts().sort_index(axis=0, ascending=True)\n",
    "\n",
    "sc2017_at = bpd2017_street[bpd2017_street['Description'] == 'AUTO THEFT']\n",
    "sc2017_at_hour = sc2017_at.hour.value_counts().sort_index(axis=0, ascending=True)\n",
    "\n",
    "sc2017_rs = bpd2017_street[bpd2017_street['Description'] == 'ROBBERY - STREET']\n",
    "sc2017_rs_hour = sc2017_rs.hour.value_counts().sort_index(axis=0, ascending=True)\n",
    "\n",
    "sc2017_agg = bpd2017_street[bpd2017_street['Description'] == 'AGG. ASSAULT']\n",
    "sc2017_agg_hour = sc2017_agg.hour.value_counts().sort_index(axis=0, ascending=True)\n",
    "\n",
    "sc2017_ca = bpd2017_street[bpd2017_street['Description'] == 'COMMON ASSAULT']\n",
    "sc2017_ca_hour = sc2017_ca.hour.value_counts().sort_index(axis=0, ascending=True)"
   ]
  },
  {
   "cell_type": "code",
   "execution_count": 22,
   "metadata": {},
   "outputs": [
    {
     "data": {
      "image/png": "[encoded data removed]",
      "text/plain": [
       "<matplotlib.figure.Figure at 0x114861f98>"
      ]
     },
     "metadata": {},
     "output_type": "display_data"
    }
   ],
   "source": [
    "# Plotting top six street crimes by hour\n",
    "plt.plot(sc2017_lar_hour.index, sc2017_lar_hour, label='Larceny')\n",
    "plt.plot(sc2017_lfa_hour.index, sc2017_lfa_hour, label='Larceny from Auto')\n",
    "plt.plot(sc2017_at_hour.index, sc2017_at_hour, label='Auto Theft')\n",
    "plt.plot(sc2017_rs_hour.index, sc2017_rs_hour, label='Street Robbery')\n",
    "plt.plot(sc2017_agg_hour.index, sc2017_agg_hour, label='Aggravated Assault')\n",
    "plt.plot(sc2017_ca_hour.index, sc2017_ca_hour, label='Common Assault')\n",
    "plt.xlabel('Hour [24 hrs]')\n",
    "plt.ylabel('Number of Crimes')\n",
    "plt.title('Count of Top 6 Street Crimes by Hour in 2017')\n",
    "plt.legend()\n",
    "plt.show()"
   ]
  },
  {
   "cell_type": "markdown",
   "metadata": {},
   "source": [
    "According to the data, most street crime occurs between 16:00 (4 pm) and 00:00 (midnight), with spikes at 6 pm, 10 pm, and midnight.  This could help us identify times in which more patrol needs to be on duty and/or when people need to be more vigilant. "
   ]
  },
  {
   "cell_type": "markdown",
   "metadata": {},
   "source": [
    "#### Districts\n",
    "I now want to see which districts had the highest street crimes in 2017, again to narrow down locations for possible crime prevention strategies and to confirm that the pattern in 2017 matches that of the overall data."
   ]
  },
  {
   "cell_type": "code",
   "execution_count": 23,
   "metadata": {
    "scrolled": true
   },
   "outputs": [
    {
     "data": {
      "text/plain": [
       "SOUTHEASTERN    1525\n",
       "NORTHEASTERN    1505\n",
       "SOUTHERN        1287\n",
       "CENTRAL         1241\n",
       "EASTERN         1179\n",
       "Name: District, dtype: int64"
      ]
     },
     "execution_count": 23,
     "metadata": {},
     "output_type": "execute_result"
    }
   ],
   "source": [
    "# All 2017 crimes broken down by district\n",
    "bpd2017_street.District.value_counts().head()"
   ]
  },
  {
   "cell_type": "code",
   "execution_count": 24,
   "metadata": {},
   "outputs": [
    {
     "data": {
      "image/png": "[encoded data removed]",
      "text/plain": [
       "<matplotlib.figure.Figure at 0x11e1b80b8>"
      ]
     },
     "metadata": {},
     "output_type": "display_data"
    }
   ],
   "source": [
    "# Plotting street crimes by district\n",
    "g = sns.countplot(y='District', data=bpd2017_street)\n",
    "plt.title('Count of Street Crimes in 2017\\nby District in Baltimore')\n",
    "plt.show()"
   ]
  },
  {
   "cell_type": "markdown",
   "metadata": {},
   "source": [
    "The highest number of street crimes in 2017 occur in the Southeastern and Northeastern districts, just as in the overall data.  These would be the best areas to focus on for crime prevention, especially since the counts of crimes in the two neighborhoods are so similar. "
   ]
  },
  {
   "cell_type": "markdown",
   "metadata": {},
   "source": [
    "#### Analysis Highlights\n",
    "The majority of crimes in Baltimore occur on the streets, which are mostly larceny from auto, larceny, and auto theft.  These occurred primariliy between 4 pm and midnight and in the Southeastern and Northeastern districts."
   ]
  },
  {
   "cell_type": "markdown",
   "metadata": {},
   "source": [
    "## Experimental Hypothesis\n",
    "If larceny from auto prevention strategies are employed in a district, then street crime in that district will decrease. "
   ]
  },
  {
   "cell_type": "markdown",
   "metadata": {},
   "source": [
    "## Methodology"
   ]
  },
  {
   "cell_type": "markdown",
   "metadata": {},
   "source": [
    "### A/B Test\n",
    "1. The two versions of this test will be the Southeastern and Northeastern districts.  Both districts have similar numbers of street crimes occurring in each district, and based on this data, are very similar districts.  See figures below demonstrating similarities in number of crimes in 2017 by month in the two regions. \n",
    "\n",
    "2. The Southeastern district will be our \"test region\", and the Northeastern district will be our \"control region\".  In the test region, we will employ auto theft prevention strategies, such as billboards and electronic signs with theft prevention tips.  The control region will continue to exist as normal.  \n",
    "\n",
    "3. The key metric used to assess this hypothesis will be the instances of street crime, specifically a t-test of distributions of the daily average counts of street crime numbers in the districts.  \n",
    "\n",
    "4. We might also detect a change in the number of non-street crimes in that district as a result of the change."
   ]
  },
  {
   "cell_type": "code",
   "execution_count": 25,
   "metadata": {
    "scrolled": true
   },
   "outputs": [
    {
     "data": {
      "image/png": "[encoded data removed]",
      "text/plain": [
       "<matplotlib.figure.Figure at 0x117724080>"
      ]
     },
     "metadata": {},
     "output_type": "display_data"
    }
   ],
   "source": [
    "# Confirming that the counts of street crimes in the two districts are similar for the two months.\n",
    "\n",
    "# Isolating crimes from Southeastern and Northeastern districts to ensure equivalent samples \n",
    "# and counting crimes by month\n",
    "street2017_se = bpd2017_street[bpd2017_street['District']=='SOUTHEASTERN']\n",
    "street2017_se_month = street2017_se.month.value_counts().sort_index(axis=0, ascending=True)\n",
    "street2017_ne = bpd2017_street[bpd2017_street['District']=='NORTHEASTERN']\n",
    "street2017_ne_month = street2017_ne.month.value_counts().sort_index(axis=0, ascending=True)\n",
    "\n",
    "# Plotting crimes by month in the two districts of interest\n",
    "plt.plot(street2017_se_month.index, street2017_se_month, label='Southeastern 2017')\n",
    "plt.plot(street2017_ne_month.index, street2017_ne_month, label='Northeastern 2017')\n",
    "plt.xlabel('Month')\n",
    "plt.ylabel('Number of Street Crimes')\n",
    "plt.title('Number of Street Crimes per Month in Baltimore Districts')\n",
    "plt.legend()\n",
    "plt.show()"
   ]
  },
  {
   "cell_type": "markdown",
   "metadata": {},
   "source": [
    "These patterns are very similar for the two regions, with spikes during February and in Spring. \n",
    "\n",
    "Now, let's confirm that the distribution of crimes per month are similar for both districts."
   ]
  },
  {
   "cell_type": "code",
   "execution_count": 26,
   "metadata": {
    "scrolled": true
   },
   "outputs": [
    {
     "data": {
      "image/png": "[encoded data removed]",
      "text/plain": [
       "<matplotlib.figure.Figure at 0x11dfdd898>"
      ]
     },
     "metadata": {},
     "output_type": "display_data"
    },
    {
     "data": {
      "text/plain": [
       "Ttest_indResult(statistic=0.06873227637202775, pvalue=0.9460543818516212)"
      ]
     },
     "execution_count": 26,
     "metadata": {},
     "output_type": "execute_result"
    }
   ],
   "source": [
    "# Plotting counts of street crimes per district \n",
    "plt.hist(street2017_se_month, bins=10, alpha=0.5, label='Southeastern')\n",
    "plt.hist(street2017_ne_month, bins=10, alpha=0.5, label='Northeastern')\n",
    "plt.xlabel('Count of Crimes')\n",
    "plt.ylabel('Number of Months')\n",
    "plt.legend()\n",
    "plt.title('Number of Crimes Per Month for Districts in Baltimore in 2017')\n",
    "plt.show()\n",
    "\n",
    "# Testing to determine if there is a statistical difference in \n",
    "# numbers of crime per month in the two districts\n",
    "stats.ttest_ind(street2017_se_month, street2017_ne_month)"
   ]
  },
  {
   "cell_type": "markdown",
   "metadata": {},
   "source": [
    "According to the data, the two districts are statistically similar in crimes by month because the p-value for their differences is 0.946.  This means that the two districts can be compared as districts with similar makeups for our A/B test.  If after the test, this p-value drops below our threshhold for statistical significance, then we can conclude that the experiment made an impact on the number of crimes."
   ]
  },
  {
   "cell_type": "markdown",
   "metadata": {},
   "source": [
    "### Rollout Plan\n",
    "__Copy of Billboards/Electronic Signs:__ We will create billboards and signs in conjunction with auto theft prevention programs in place.  We will also determine how far apart to put the signs (1 sign per mile on main roads).\n",
    "\n",
    "For example:\n",
    "\n",
    "[Poster for businesses and buildings](https://pbs.twimg.com/media/DK1XKS0VoAAWTe6.jpg)\n",
    "\n",
    "[Poster for businesses and buildings (or billboard)](http://i.imgur.com/9DIOyhC.jpg) \n",
    "\n",
    "[Text for electronic roadway signs](http://www.ocalapost.com/wp-content/uploads/2015/10/burglaries.jpg)"
   ]
  },
  {
   "cell_type": "code",
   "execution_count": 27,
   "metadata": {
    "scrolled": true
   },
   "outputs": [
    {
     "name": "stdout",
     "output_type": "stream",
     "text": [
      "Southeastern Neighborhood Crime in 2017:\n",
      " Canton                       154\n",
      "Patterson Park Neighborho    137\n",
      "Fells Point                  117\n",
      "McElderry Park               115\n",
      "Ellwood Park/Monument        106\n",
      "Name: Neighborhood, dtype: int64\n"
     ]
    }
   ],
   "source": [
    "# Identifying Southeastern district neighborhood with highest crime rates in 2017.\n",
    "print('Southeastern Neighborhood Crime in 2017:\\n', \n",
    "      street2017_se[street2017_se['District'] == 'SOUTHEASTERN']['Neighborhood'].value_counts().head(5)) "
   ]
  },
  {
   "cell_type": "markdown",
   "metadata": {},
   "source": [
    "__Rollout Plan:__ We will first target the Canton neighborhood as it is the neighborhood with the highest occurrence of street crimes in the Southeastern District. This will limit the financial strain of the billboards and signs at first before increasing the amount of signs required for the entire district.  We will monitor crime for one month in this neighborhood before assessing the initiative's efficacy and rolling out to the whole district.\n",
    "\n",
    "Before rolling this out, we will investigate events happening in both districts to ensure that there is not one large event in one that would impact the crime in that district positively or negatively.  We will also test our electronic signs to ensure the quality of message that will be shown.  \n",
    "\n",
    "__Success Metric:__ T-test for significance of changes between the daily average number of street crimes per month for the test and control districts.  The desired degree of significance is a p-value of less than 0.05."
   ]
  },
  {
   "cell_type": "code",
   "execution_count": 28,
   "metadata": {
    "scrolled": false
   },
   "outputs": [
    {
     "data": {
      "image/png": "[encoded data removed]",
      "text/plain": [
       "<matplotlib.figure.Figure at 0x11796f438>"
      ]
     },
     "metadata": {},
     "output_type": "display_data"
    },
    {
     "name": "stdout",
     "output_type": "stream",
     "text": [
      "Ttest_indResult(statistic=-0.461368454953136, pvalue=0.646230750490923)\n",
      "\n",
      "Average Daily Street Crimes in the Southeastern District:\n",
      " 6.096774193548387\n",
      "Average Daily Street Crimes in the Northeastern District:\n",
      " 6.466666666666667\n",
      "\n",
      "Average Monthly Street Crimes in the Southeastern District:\n",
      " 169.44444444444446\n",
      "Average Monthly Street Crimes in the Northeastern District:\n",
      " 167.22222222222223\n"
     ]
    }
   ],
   "source": [
    "# Pulling out number of street crimes per day per district\n",
    "street2017_se_8 = street2017_se[street2017_se['month']=='08']\n",
    "street2017_se_daily = street2017_se_8.day.value_counts().sort_index(axis=0, ascending=True)\n",
    "street2017_ne_8 = street2017_ne[street2017_ne['month']=='08']\n",
    "street2017_ne_daily = street2017_ne_8.day.value_counts().sort_index(axis=0, ascending=True)\n",
    "\n",
    "# Plotting counts of street crimes per day for each district district \n",
    "plt.hist(street2017_se_daily, bins=10, alpha=0.5, label='Southeastern')\n",
    "plt.hist(street2017_ne_daily, bins=10, alpha=0.5, label='Northeastern')\n",
    "plt.xlabel('Count of Crimes')\n",
    "plt.ylabel('Number of Days')\n",
    "plt.legend()\n",
    "plt.title('Number of Crimes Per Day for Districts in Baltimore in 2017')\n",
    "plt.show()\n",
    "\n",
    "# Testing to determine if there is a statistical difference in \n",
    "# numbers of crime per month in the two districts\n",
    "print(stats.ttest_ind(street2017_se_daily, street2017_ne_daily))\n",
    "\n",
    "# Print the average crimes per day\n",
    "print('\\nAverage Daily Street Crimes in the Southeastern District:\\n', street2017_se_daily.mean())\n",
    "print('Average Daily Street Crimes in the Northeastern District:\\n', street2017_ne_daily.mean())\n",
    "print('\\nAverage Monthly Street Crimes in the Southeastern District:\\n', street2017_se_month.mean())\n",
    "print('Average Monthly Street Crimes in the Northeastern District:\\n', street2017_ne_month.mean())"
   ]
  },
  {
   "cell_type": "markdown",
   "metadata": {},
   "source": [
    "This shows that the distribution of crimes per day is similar between the two districts because the p-value of the t-test is 0.646.  We can therefore use this statistic as a means to show that crime has decreased.  We can also see the baseline average daily and monthly of street crimes in the districts are approximately 6, and 168, respectfully."
   ]
  },
  {
   "cell_type": "markdown",
   "metadata": {},
   "source": [
    "## Evaluation Plan\n",
    "If, during the first month of the test in Canton, there is a decrease in average daily or monthly street crime by 10%, then roll out signs to the rest of the Southeastern district.  If average daily street crimes decrease significantly in comparison to the Northeastern district (p-value less than 0.05), then implement the campaign across the city.  If average daily street crimes decrease by 10%, but not significantly, observe for two more months before deciding.  If the campaign does not decrease average daily crime in two months, remove signs."
   ]
  },
  {
   "cell_type": "code",
   "execution_count": null,
   "metadata": {},
   "outputs": [],
   "source": []
  }
 ],
 "metadata": {
  "kernelspec": {
   "display_name": "Python 3",
   "language": "python",
   "name": "python3"
  },
  "language_info": {
   "codemirror_mode": {
    "name": "ipython",
    "version": 3
   },
   "file_extension": ".py",
   "mimetype": "text/x-python",
   "name": "python",
   "nbconvert_exporter": "python",
   "pygments_lexer": "ipython3",
   "version": "3.6.2"
  }
 },
 "nbformat": 4,
 "nbformat_minor": 2
}
